{
 "cells": [
  {
   "cell_type": "markdown",
   "id": "41274a75",
   "metadata": {
    "papermill": {
     "duration": 0.022387,
     "end_time": "2021-09-26T18:22:29.837103",
     "exception": false,
     "start_time": "2021-09-26T18:22:29.814716",
     "status": "completed"
    },
    "tags": []
   },
   "source": [
    "<div class=\"h1\">Overview</div>\n",
    "<br>\n",
    "<div class=\"h3\">Primary Objective</div>\n",
    "<br>\n",
    "<b>The primary objective of this analysis is to understand how the COVID-19 virus has impacted digital learning and student engagement over time and over geospatial and socioeconomic landscapes.</b>\n",
    "<br>\n",
    "<br>\n",
    "<div class=\"h3\">Goals and Questions</div>\n",
    "<p>\n",
    "Time Series Analysis\n",
    "<li>What role does time of year play in digital engagement?</li>\n",
    "<li>Does the quantity of COVID Cases over time impact digital engagement?</li> <br>\n",
    "Geospatial Analysis <br>\n",
    "<li>What does digital learning look like across a geospatial landscape</li>\n",
    "<li>Does the quantity of COVID Cases between states impact digital engagement?</li> <br>\n",
    "Socioeconomic Analysis <br>\n",
    "<li>What socioeconomic factors impact digital engagement?</li>\n",
    "<li>Moving forward, what tools/products were successful in creating student engagement for students at any socioeconomic status?</li>\n",
    "</p>\n",
    "<br>\n",
    "<div class=\"h3\">Code Reproducibility and Organization</div>\n",
    "<p>\n",
    "Below is a GitHub that contains hundreds on lines of code that preprocesses the data and creates the visualizations: <br>\n",
    "    <a href=https://github.com/RaviShah1/COVID-19-Impact-On-Digital-Learning>https://github.com/RaviShah1/COVID-19-Impact-On-Digital-Learning</a> <br>\n",
    "<br>\n",
    "All the code from the hidden code cells in this notebook can be found on the GitHub, and all the visible method calls show the results of my analysis. The GitHub should make reproducing the code super simple.\n",
    "<br><br>\n",
    "After I preprocess the data, the analysis is broken down into 3 main parts: \n",
    "<ol>   \n",
    "    <li>times series analysis</li>\n",
    "    <li>geospatial analysis</li>\n",
    "    <li>socioeconomic analysis</li>\n",
    "</ol>\n",
    "A summary of my findings from all 3 sections can be found in the conclusion portion of this notebook.\n",
    "<br>\n",
    "</p>\n",
    "<br>\n",
    "<div class=\"h3\">Data and Sources</div>\n",
    "<p>\n",
    "All of the raw data I use can be found in the data folder in the GitHub above or by going to the original sites (linked below)\n",
    "<a href=https://www.kaggle.com/c/learnplatform-covid19-impact-on-digital-learning/data>https://www.kaggle.com/c/learnplatform-covid19-impact-on-digital-learning/data</a>\n",
    "<br>\n",
    "<a href=https://github.com/nytimes/covid-19-data>https://github.com/nytimes/covid-19-data</a>\n",
    "\n",
    "<br>\n",
    "</p>\n",
    "<br>\n",
    "\n",
    "<div class=\"h3\">Additional Notes</div>\n",
    "<p>\n",
    "All visualizations are created using plotly and are interactive. <br>\n",
    "Put your cursor over the graphs and charts to see exact numbers and more details.\n",
    "</p>"
   ]
  },
  {
   "cell_type": "markdown",
   "id": "8e80af7b",
   "metadata": {
    "papermill": {
     "duration": 0.020833,
     "end_time": "2021-09-26T18:22:29.881155",
     "exception": false,
     "start_time": "2021-09-26T18:22:29.860322",
     "status": "completed"
    },
    "tags": []
   },
   "source": [
    "<div class=\"h1\">Preprocessing</div>\n",
    "\n",
    "<br>\n",
    "<div class=\"h3\">Preprocessing Overview</div>\n",
    "The code below sets up the analysis by preforming the following steps: \n",
    "<ol>\n",
    "  <li>Preprocess products dataframe by segmenting the sectors column and filling null values with \"unknown\"</li>   \n",
    "  <li>Preprocess districts dataframe by formatting categorical variables and filling null values with \"unknown\"</li>\n",
    "  <li>Linking each row in the districts dataframe to its engagement dataframe</li>\n",
    "  <li>Transforming all string dates to datetimes</li>\n",
    "  <li>Shifting the cumulative cornavirus cases dataframe to get a daily dataframe</li>\n",
    "  <li>Generating python dictionaries that map places with different characteristics to data about their engagement and coronavirus cases</li>\n",
    "  <li>Creating dataframes to analyze different educational products</li>\n",
    "  <li>Creating dataframes that represent engagement and coronavirus cases for the entire U.S.</li>\n",
    "</ol>"
   ]
  },
  {
   "cell_type": "code",
   "execution_count": 1,
   "id": "8ea81439",
   "metadata": {
    "_kg_hide-input": true,
    "execution": {
     "iopub.execute_input": "2021-09-26T18:22:29.940763Z",
     "iopub.status.busy": "2021-09-26T18:22:29.940000Z",
     "iopub.status.idle": "2021-09-26T18:22:32.375116Z",
     "shell.execute_reply": "2021-09-26T18:22:32.375657Z",
     "shell.execute_reply.started": "2021-09-26T04:05:48.295756Z"
    },
    "papermill": {
     "duration": 2.473678,
     "end_time": "2021-09-26T18:22:32.376007",
     "exception": false,
     "start_time": "2021-09-26T18:22:29.902329",
     "status": "completed"
    },
    "tags": []
   },
   "outputs": [],
   "source": [
    "import pandas as pd\n",
    "import numpy as np\n",
    "import glob\n",
    "import datetime as dt\n",
    "\n",
    "import matplotlib.pyplot as plt\n",
    "import seaborn as sns\n",
    "import plotly.express as px\n",
    "import plotly.graph_objects as go\n",
    "from plotly.subplots import make_subplots\n",
    "from plotly.offline import init_notebook_mode, iplot, plot\n",
    "import plotly.offline as po\n",
    "from plotly import tools\n",
    "import plotly.graph_objs as pg\n",
    "\n",
    "import warnings\n",
    "warnings.filterwarnings('ignore')\n",
    "pd.set_option(\"display.max_columns\", 100)"
   ]
  },
  {
   "cell_type": "code",
   "execution_count": 2,
   "id": "e60d42ac",
   "metadata": {
    "_kg_hide-input": true,
    "execution": {
     "iopub.execute_input": "2021-09-26T18:22:32.425150Z",
     "iopub.status.busy": "2021-09-26T18:22:32.424343Z",
     "iopub.status.idle": "2021-09-26T18:22:51.457320Z",
     "shell.execute_reply": "2021-09-26T18:22:51.456683Z"
    },
    "papermill": {
     "duration": 19.059984,
     "end_time": "2021-09-26T18:22:51.457505",
     "exception": false,
     "start_time": "2021-09-26T18:22:32.397521",
     "status": "completed"
    },
    "tags": []
   },
   "outputs": [],
   "source": [
    "comp_dir = '../input/learnplatform-covid19-impact-on-digital-learning' \n",
    "\n",
    "engage_files = glob.glob(comp_dir + \"/engagement_data/*.csv\")\n",
    "engage_dfs = list()\n",
    "for file in engage_files:\n",
    "    df = pd.read_csv(file)\n",
    "    engage_dfs.append(df)\n",
    "    \n",
    "products_info = pd.read_csv(comp_dir + \"/products_info.csv\")\n",
    "districts_info = pd.read_csv(comp_dir + \"/districts_info.csv\")\n",
    "\n",
    "nytimes_dir = '../input/ny-times-covid-19-tracker-data'\n",
    "covid_case_df = pd.read_csv(nytimes_dir + \"/nytimes_covid_cases_data\")"
   ]
  },
  {
   "cell_type": "code",
   "execution_count": 3,
   "id": "ba5541ed",
   "metadata": {
    "_kg_hide-input": true,
    "execution": {
     "iopub.execute_input": "2021-09-26T18:22:51.531353Z",
     "iopub.status.busy": "2021-09-26T18:22:51.526061Z",
     "iopub.status.idle": "2021-09-26T18:22:51.546689Z",
     "shell.execute_reply": "2021-09-26T18:22:51.545988Z"
    },
    "papermill": {
     "duration": 0.067677,
     "end_time": "2021-09-26T18:22:51.546843",
     "exception": false,
     "start_time": "2021-09-26T18:22:51.479166",
     "status": "completed"
    },
    "tags": []
   },
   "outputs": [],
   "source": [
    "\"\"\" \n",
    "The original data/input for all these functions can be located at the following sources:\n",
    "1) https://www.kaggle.com/c/learnplatform-covid19-impact-on-digital-learning/data\n",
    "2) https://github.com/nytimes/covid-19-data\n",
    "\"\"\"\n",
    "\n",
    "def time_to_dt(time):\n",
    "    return dt.datetime.strptime(time, \"%Y-%m-%d\")\n",
    "\n",
    "\"\"\" Preprocessing Products DataFrame\"\"\"\n",
    "\n",
    "def preprocess_products_df(df: pd.DataFrame):\n",
    "    df['PreK-12'] = df[\"Sector(s)\"].apply(lambda x: True if (str(x)).find(\"PreK-12\")!=-1 else False)\n",
    "    df['HigherEd'] = df[\"Sector(s)\"].apply(lambda x: True if (str(x)).find(\"Higher Ed\")!=-1 else False)\n",
    "    df['Corporate'] = df[\"Sector(s)\"].apply(lambda x: True if (str(x)).find(\"Corporate\")!=-1 else False)\n",
    "    df = df.fillna(\"unknown\")\n",
    "    return df\n",
    "\n",
    "\"\"\" Preprocess Districts DataFrame\"\"\"\n",
    "\n",
    "def format_percent(val: str):\n",
    "    if val is None or val=='unknown':\n",
    "        return 'unknown'\n",
    "    val = val[1:-1]\n",
    "    val1 = str(float(val.split(', ')[0])*100)\n",
    "    val2 = str(float(val.split(', ')[1])*100)\n",
    "    return val1+'% - '+val2+'%'\n",
    "\n",
    "def format_population(val: str):\n",
    "    if val is None or val=='unknown':\n",
    "        return 'unknown'\n",
    "    val = val[1:-1]\n",
    "    return val.split(', ')[0]+' - '+val.split(', ')[1]\n",
    "\n",
    "def preprocess_districts_df(df: pd.DataFrame):\n",
    "    df = df.fillna(\"unknown\")\n",
    "    df['pct_black/hispanic'] = df['pct_black/hispanic'].apply(format_percent)\n",
    "    df['pct_free/reduced'] = df['pct_free/reduced'].apply(format_percent)\n",
    "    df['county_connections_ratio'] = df['county_connections_ratio'].apply(format_percent)\n",
    "    df['pp_total_raw'] = df['pp_total_raw'].apply(format_population)\n",
    "    return df\n",
    "\n",
    "\"\"\" Preprocess Engage DataFrames\"\"\"\n",
    "\n",
    "def link_district_to_engage_df(loc_id: int, engage_files: list):\n",
    "    for i in range(len(engage_files)):\n",
    "        if(engage_files[i].find(str(loc_id)) != -1):\n",
    "            return i\n",
    "    return -1  \n",
    "\n",
    "def preprocess_engage_dfs(engage_dfs: list, enage_files:list, districts_df: pd.DataFrame):\n",
    "    for df in engage_dfs:\n",
    "        df['dt'] = df['time'].apply(time_to_dt)\n",
    "    districts_df['engage_file_id'] = districts_df['district_id'].apply(lambda x: link_district_to_engage_df(x, engage_files)) \n",
    "\n",
    "\"\"\" Preprocessing NY Times COVID cases DataFrame\"\"\"\n",
    "\n",
    "def preprocess_nytime_cases_df(df: pd.DataFrame) :\n",
    "    df['dt'] = df['date'].apply(time_to_dt)\n",
    "    df = df[df.dt > dt.datetime(2020,1,1)]\n",
    "    df = df[df.dt < dt.datetime(2020,12,31)]\n",
    "    df = df.set_index('dt')\n",
    "    return df  \n",
    "\n",
    "\"\"\" Generate Maps That Connect Different Variables \"\"\"\n",
    "\n",
    "def generate_state_map(districts_df: pd.DataFrame, covid_case_df: pd.DataFrame, engage_dfs: list, engage_files: list):\n",
    "    state_map = dict()\n",
    "    for state in districts_df.state.value_counts().index:\n",
    "        if(state!='unknown' and state!='District Of Columbia'):\n",
    "            case_df = covid_case_df[covid_case_df.state == state]\n",
    "            case_df['new_cases'] = case_df['cases'].transform(lambda s: s.sub(s.shift().fillna(0)).abs())\n",
    "\n",
    "            ids = districts_df[districts_df.state == state].engage_file_id.values\n",
    "            dfs = list()\n",
    "            for i in ids:\n",
    "                dfs.append(engage_dfs[i].groupby(by=['dt'])[['pct_access', 'engagement_index']].sum())\n",
    "            engage_df = pd.concat(dfs)\n",
    "            engage_df1 = engage_df.groupby(by=['dt'])[['pct_access', 'engagement_index']].mean()\n",
    "            #engage_df2 = engage_df.groupby(by=['dt', 'lp_id'])[['pct_access', 'engagement_index']].mean()\n",
    "            #engage_df2.reset_index().set_index('dt')\n",
    "\n",
    "            state_map[state] = [case_df, engage_df1]\n",
    "            \n",
    "    return state_map\n",
    "\n",
    "def generate_pct_black_hisp_map(districts_df: pd.DataFrame, engage_dfs: list):\n",
    "    pct_black_hisp_map = dict()\n",
    "    for val in np.unique(districts_df['pct_black/hispanic'].values):\n",
    "        ids = districts_df[districts_df['pct_black/hispanic'] == val].engage_file_id.values\n",
    "        dfs = list()\n",
    "        for i in ids:\n",
    "            dfs.append(engage_dfs[i].groupby(by=['dt'])[['pct_access', 'engagement_index']].max())\n",
    "        engage_df = pd.concat(dfs)\n",
    "        engage_df1 = engage_df.groupby(by=['dt'])[['pct_access', 'engagement_index']].mean()\n",
    "        #engage_df2 = engage_df.groupby(by=['dt', 'lp_id'])[['pct_access', 'engagement_index']].mean()\n",
    "        #engage_df2.reset_index().set_index('dt')\n",
    "\n",
    "        #pct_black_hisp_map[val] = [engage_df1, engage_df2]\n",
    "        pct_black_hisp_map[val] = engage_df1\n",
    "    return pct_black_hisp_map\n",
    "        \n",
    "def generate_pct_free_reduced_lunch_map(districts_df: pd.DataFrame, engage_dfs: list):\n",
    "    pct_free_reduced_lunch_map = dict()\n",
    "    for val in np.unique(districts_df['pct_free/reduced'].values):\n",
    "        ids = districts_df[districts_df['pct_free/reduced'] == val].engage_file_id.values\n",
    "        dfs = list()\n",
    "        for i in ids:\n",
    "            dfs.append(engage_dfs[i].groupby(by=['dt'])[['pct_access', 'engagement_index']].max())\n",
    "        engage_df = pd.concat(dfs)\n",
    "        engage_df1 = engage_df.groupby(by=['dt'])[['pct_access', 'engagement_index']].mean()\n",
    "        #engage_df2 = engage_df.groupby(by=['dt', 'lp_id'])[['pct_access', 'engagement_index']].mean()\n",
    "        #engage_df2.reset_index().set_index('dt')\n",
    "\n",
    "        #pct_free_reduced_lunch_map[val] = [engage_df1, engage_df2]\n",
    "        pct_free_reduced_lunch_map[val] = engage_df1\n",
    "    return pct_free_reduced_lunch_map\n",
    "\n",
    "def product_dfs(engage_dfs: list, districts_df: pd.DataFrame):\n",
    "    engage_df_us = pd.concat(engage_dfs)\n",
    "    product_df_us = engage_df_us.groupby(by=['lp_id'])[['pct_access', 'engagement_index']].mean()\n",
    "    \n",
    "    prod_lunch_dfs = dict()\n",
    "    for val in np.unique(districts_df['pct_free/reduced'].values):\n",
    "        ids = districts_df[districts_df['pct_free/reduced'] == val].engage_file_id.values\n",
    "        dfs = list()\n",
    "        for i in ids:\n",
    "            dfs.append(engage_dfs[i].groupby(by=['lp_id'])[['pct_access', 'engagement_index']].mean())\n",
    "        engage_df = pd.concat(dfs)\n",
    "        prod_lunch_dfs[val] = (engage_df.groupby(by=['lp_id'])[['pct_access', 'engagement_index']].mean())\n",
    "    \n",
    "    return product_df_us, prod_lunch_dfs\n",
    "\n",
    "\n",
    "\"\"\" Generate Nation Wide DataFrames\"\"\"\n",
    "\n",
    "def us_dfs(engage_dfs: list, covid_case_df: pd.DataFrame):\n",
    "    engage_df_us = pd.concat(engage_dfs)\n",
    "    engage_df_us = engage_df_us.groupby(by=['dt'])[['pct_access', 'engagement_index']].mean()\n",
    "    \n",
    "    covid_case_us = covid_case_df.groupby(by=['dt'])[['cases', 'deaths']].mean()\n",
    "    covid_case_us['new_cases'] = covid_case_us['cases'].transform(lambda s: s.sub(s.shift().fillna(0)).abs())\n",
    "    \n",
    "    return engage_df_us, covid_case_us"
   ]
  },
  {
   "cell_type": "code",
   "execution_count": 4,
   "id": "36a0bc9e",
   "metadata": {
    "_kg_hide-input": true,
    "execution": {
     "iopub.execute_input": "2021-09-26T18:22:51.624890Z",
     "iopub.status.busy": "2021-09-26T18:22:51.619598Z",
     "iopub.status.idle": "2021-09-26T18:27:35.625526Z",
     "shell.execute_reply": "2021-09-26T18:27:35.623214Z"
    },
    "papermill": {
     "duration": 284.057837,
     "end_time": "2021-09-26T18:27:35.625803",
     "exception": false,
     "start_time": "2021-09-26T18:22:51.567966",
     "status": "completed"
    },
    "tags": []
   },
   "outputs": [],
   "source": [
    "products_df = preprocess_products_df(products_info)\n",
    "districts_df = preprocess_districts_df(districts_info)\n",
    "covid_case_df = preprocess_nytime_cases_df(covid_case_df)\n",
    "preprocess_engage_dfs(engage_dfs, engage_files, districts_df)\n",
    "\n",
    "state_map = generate_state_map(districts_df, covid_case_df, engage_dfs, engage_files)\n",
    "pct_black_hisp_map = generate_pct_black_hisp_map(districts_df, engage_dfs)\n",
    "pct_free_lunch_map = generate_pct_free_reduced_lunch_map(districts_df, engage_dfs)\n",
    "\n",
    "engage_df_us, covid_case_us = us_dfs(engage_dfs, covid_case_df)\n",
    "product_df_us, prod_lunch_dfs = product_dfs(engage_dfs, districts_df)"
   ]
  },
  {
   "cell_type": "code",
   "execution_count": 5,
   "id": "f67c8066",
   "metadata": {
    "_kg_hide-input": true,
    "execution": {
     "iopub.execute_input": "2021-09-26T18:27:35.807796Z",
     "iopub.status.busy": "2021-09-26T18:27:35.789049Z",
     "iopub.status.idle": "2021-09-26T18:27:35.824405Z",
     "shell.execute_reply": "2021-09-26T18:27:35.822544Z"
    },
    "papermill": {
     "duration": 0.123535,
     "end_time": "2021-09-26T18:27:35.825057",
     "exception": false,
     "start_time": "2021-09-26T18:27:35.701522",
     "status": "completed"
    },
    "tags": []
   },
   "outputs": [],
   "source": [
    "us_state_abbrev = {\n",
    "    'Alabama': 'AL',\n",
    "    'Alaska': 'AK',\n",
    "    'American Samoa': 'AS',\n",
    "    'Arizona': 'AZ',\n",
    "    'Arkansas': 'AR',\n",
    "    'California': 'CA',\n",
    "    'Colorado': 'CO',\n",
    "    'Connecticut': 'CT',\n",
    "    'Delaware': 'DE',\n",
    "    'District of Columbia': 'DC',\n",
    "    'Florida': 'FL',\n",
    "    'Georgia': 'GA',\n",
    "    'Guam': 'GU',\n",
    "    'Hawaii': 'HI',\n",
    "    'Idaho': 'ID',\n",
    "    'Illinois': 'IL',\n",
    "    'Indiana': 'IN',\n",
    "    'Iowa': 'IA',\n",
    "    'Kansas': 'KS',\n",
    "    'Kentucky': 'KY',\n",
    "    'Louisiana': 'LA',\n",
    "    'Maine': 'ME',\n",
    "    'Maryland': 'MD',\n",
    "    'Massachusetts': 'MA',\n",
    "    'Michigan': 'MI',\n",
    "    'Minnesota': 'MN',\n",
    "    'Mississippi': 'MS',\n",
    "    'Missouri': 'MO',\n",
    "    'Montana': 'MT',\n",
    "    'Nebraska': 'NE',\n",
    "    'Nevada': 'NV',\n",
    "    'New Hampshire': 'NH',\n",
    "    'New Jersey': 'NJ',\n",
    "    'New Mexico': 'NM',\n",
    "    'New York': 'NY',\n",
    "    'North Carolina': 'NC',\n",
    "    'North Dakota': 'ND',\n",
    "    'Northern Mariana Islands':'MP',\n",
    "    'Ohio': 'OH',\n",
    "    'Oklahoma': 'OK',\n",
    "    'Oregon': 'OR',\n",
    "    'Pennsylvania': 'PA',\n",
    "    'Puerto Rico': 'PR',\n",
    "    'Rhode Island': 'RI',\n",
    "    'South Carolina': 'SC',\n",
    "    'South Dakota': 'SD',\n",
    "    'Tennessee': 'TN',\n",
    "    'Texas': 'TX',\n",
    "    'Utah': 'UT',\n",
    "    'Vermont': 'VT',\n",
    "    'Virgin Islands': 'VI',\n",
    "    'Virginia': 'VA',\n",
    "    'Washington': 'WA',\n",
    "    'West Virginia': 'WV',\n",
    "    'Wisconsin': 'WI',\n",
    "    'Wyoming': 'WY'\n",
    "}\n",
    "\n",
    "def get_state_ids(state_map: dict):\n",
    "    st_ids = list()\n",
    "    for st in list(state_map.keys()):\n",
    "        st_ids.append(us_state_abbrev[st])\n",
    "    return st_ids\n",
    "\n",
    "st_ids = get_state_ids(state_map)"
   ]
  },
  {
   "cell_type": "markdown",
   "id": "2c42915f",
   "metadata": {
    "papermill": {
     "duration": 0.07392,
     "end_time": "2021-09-26T18:27:35.979583",
     "exception": false,
     "start_time": "2021-09-26T18:27:35.905663",
     "status": "completed"
    },
    "tags": []
   },
   "source": [
    "<div class=\"h3\">Visualizing the Sample Size</div>\n",
    "<br>\n",
    "<p>\n",
    "All visualizations and conclusions drawn from this data are based on this sample. As a result, the charts could vary if the dataset included data from different states, represented a different proportion of locales, or represented a different proportion of age groups.\n",
    "</p>"
   ]
  },
  {
   "cell_type": "code",
   "execution_count": 6,
   "id": "8c1dff43",
   "metadata": {
    "_kg_hide-input": true,
    "execution": {
     "iopub.execute_input": "2021-09-26T18:27:36.098738Z",
     "iopub.status.busy": "2021-09-26T18:27:36.097845Z",
     "iopub.status.idle": "2021-09-26T18:27:36.102651Z",
     "shell.execute_reply": "2021-09-26T18:27:36.101972Z"
    },
    "papermill": {
     "duration": 0.044505,
     "end_time": "2021-09-26T18:27:36.102792",
     "exception": false,
     "start_time": "2021-09-26T18:27:36.058287",
     "status": "completed"
    },
    "tags": []
   },
   "outputs": [],
   "source": [
    "long_teal = ['rgb(42, 86, 116)',\n",
    "             'rgb(45, 95, 125)',\n",
    "             'rgb(55, 105, 135)',\n",
    "             'rgb(59, 115, 143)',\n",
    "             'rgb(62, 124, 147)',\n",
    "             'rgb(63, 128, 151)',\n",
    "             'rgb(65, 133, 154)',\n",
    "             'rgb(71, 138, 160)',\n",
    "             'rgb(76, 142, 163)',\n",
    "             'rgb(79, 144, 166)',\n",
    "             'rgb(81, 151, 169)',\n",
    "             'rgb(85, 157, 172)',\n",
    "             'rgb(90, 162, 175)',\n",
    "             'rgb(95, 167, 178)',\n",
    "             'rgb(104, 171, 184)',\n",
    "             'rgb(114, 182, 192)',\n",
    "             'rgb(124, 188, 198)',\n",
    "             'rgb(133, 196, 201)',\n",
    "             'rgb(145, 205, 205)',\n",
    "             'rgb(155, 213, 213)',\n",
    "             'rgb(168, 219, 217)',\n",
    "             'rgb(178, 225, 223)',\n",
    "             'rgb(188, 232, 227)',\n",
    "             'rgb(209, 238, 234)']\n",
    "\n",
    "def plot_sample_size_details(districts_df: pd.DataFrame, products_df: pd.DataFrame):\n",
    "    fig = make_subplots(rows=1, cols=3, specs=[[{\"type\": \"pie\"}, {\"type\": \"pie\"}, {\"type\": \"pie\"}]],\n",
    "                       column_titles=['States', 'Locale', 'Product Audience'])\n",
    "    fig.add_trace(\n",
    "        go.Pie(labels=districts_df.state.value_counts().index, values=districts_df.state.value_counts().values, marker=dict(colors=long_teal), hole=.5, textposition='inside', textinfo='label'),\n",
    "        row=1, col=1)\n",
    "    \n",
    "    fig.add_trace(\n",
    "        go.Pie(labels=districts_df.locale.value_counts().index, values=districts_df.locale.value_counts().values, marker=dict(colors=px.colors.sequential.Teal_r), hole=.5, textposition='inside', textinfo='label'),\n",
    "        row=1, col=2)\n",
    "    \n",
    "    fig.add_trace(\n",
    "        go.Pie(labels=['Prek-12', 'Higher Ed', 'Corporate'], values=[products_df['PreK-12'].sum(), products_df['HigherEd'].sum(), products_df['Corporate'].sum()], marker=dict(colors=px.colors.sequential.Teal_r), hole=.5, textposition='inside', textinfo='label'),\n",
    "        row=1, col=3)\n",
    "    \n",
    "    fig.update_layout(showlegend=False)\n",
    "    fig.show()"
   ]
  },
  {
   "cell_type": "code",
   "execution_count": 7,
   "id": "0df31aa5",
   "metadata": {
    "execution": {
     "iopub.execute_input": "2021-09-26T18:27:36.153680Z",
     "iopub.status.busy": "2021-09-26T18:27:36.152923Z",
     "iopub.status.idle": "2021-09-26T18:27:36.419329Z",
     "shell.execute_reply": "2021-09-26T18:27:36.418388Z"
    },
    "papermill": {
     "duration": 0.294417,
     "end_time": "2021-09-26T18:27:36.419666",
     "exception": false,
     "start_time": "2021-09-26T18:27:36.125249",
     "status": "completed"
    },
    "tags": []
   },
   "outputs": [
    {
     "data": {
      "text/html": [
       "        <script type=\"text/javascript\">\n",
       "        window.PlotlyConfig = {MathJaxConfig: 'local'};\n",
       "        if (window.MathJax) {MathJax.Hub.Config({SVG: {font: \"STIX-Web\"}});}\n",
       "        if (typeof require !== 'undefined') {\n",
       "        require.undef(\"plotly\");\n",
       "        requirejs.config({\n",
       "            paths: {\n",
       "                'plotly': ['https://cdn.plot.ly/plotly-2.4.2.min']\n",
       "            }\n",
       "        });\n",
       "        require(['plotly'], function(Plotly) {\n",
       "            window._Plotly = Plotly;\n",
       "        });\n",
       "        }\n",
       "        </script>\n",
       "        "
      ]
     },
     "metadata": {},
     "output_type": "display_data"
    },
    {
     "data": {
      "text/html": [
       "<div>                            <div id=\"5f1e7c4b-ace5-48e0-894a-8596a83c5848\" class=\"plotly-graph-div\" style=\"height:525px; width:100%;\"></div>            <script type=\"text/javascript\">                require([\"plotly\"], function(Plotly) {                    window.PLOTLYENV=window.PLOTLYENV || {};                                    if (document.getElementById(\"5f1e7c4b-ace5-48e0-894a-8596a83c5848\")) {                    Plotly.newPlot(                        \"5f1e7c4b-ace5-48e0-894a-8596a83c5848\",                        [{\"domain\":{\"x\":[0.0,0.2888888888888889],\"y\":[0.0,1.0]},\"hole\":0.5,\"labels\":[\"unknown\",\"Connecticut\",\"Utah\",\"Massachusetts\",\"Illinois\",\"California\",\"Ohio\",\"New York\",\"Indiana\",\"Washington\",\"Missouri\",\"Virginia\",\"North Carolina\",\"Wisconsin\",\"District Of Columbia\",\"New Jersey\",\"Texas\",\"Tennessee\",\"New Hampshire\",\"Michigan\",\"Minnesota\",\"Arizona\",\"Florida\",\"North Dakota\"],\"marker\":{\"colors\":[\"rgb(42, 86, 116)\",\"rgb(45, 95, 125)\",\"rgb(55, 105, 135)\",\"rgb(59, 115, 143)\",\"rgb(62, 124, 147)\",\"rgb(63, 128, 151)\",\"rgb(65, 133, 154)\",\"rgb(71, 138, 160)\",\"rgb(76, 142, 163)\",\"rgb(79, 144, 166)\",\"rgb(81, 151, 169)\",\"rgb(85, 157, 172)\",\"rgb(90, 162, 175)\",\"rgb(95, 167, 178)\",\"rgb(104, 171, 184)\",\"rgb(114, 182, 192)\",\"rgb(124, 188, 198)\",\"rgb(133, 196, 201)\",\"rgb(145, 205, 205)\",\"rgb(155, 213, 213)\",\"rgb(168, 219, 217)\",\"rgb(178, 225, 223)\",\"rgb(188, 232, 227)\",\"rgb(209, 238, 234)\"]},\"textinfo\":\"label\",\"textposition\":\"inside\",\"type\":\"pie\",\"values\":[57,30,29,21,18,12,11,8,7,6,6,4,4,3,3,2,2,2,2,2,1,1,1,1]},{\"domain\":{\"x\":[0.35555555555555557,0.6444444444444445],\"y\":[0.0,1.0]},\"hole\":0.5,\"labels\":[\"Suburb\",\"unknown\",\"Rural\",\"City\",\"Town\"],\"marker\":{\"colors\":[\"rgb(42, 86, 116)\",\"rgb(59, 115, 143)\",\"rgb(79, 144, 166)\",\"rgb(104, 171, 184)\",\"rgb(133, 196, 201)\",\"rgb(168, 219, 217)\",\"rgb(209, 238, 234)\"]},\"textinfo\":\"label\",\"textposition\":\"inside\",\"type\":\"pie\",\"values\":[104,57,33,29,10]},{\"domain\":{\"x\":[0.7111111111111111,1.0],\"y\":[0.0,1.0]},\"hole\":0.5,\"labels\":[\"Prek-12\",\"Higher Ed\",\"Corporate\"],\"marker\":{\"colors\":[\"rgb(42, 86, 116)\",\"rgb(59, 115, 143)\",\"rgb(79, 144, 166)\",\"rgb(104, 171, 184)\",\"rgb(133, 196, 201)\",\"rgb(168, 219, 217)\",\"rgb(209, 238, 234)\"]},\"textinfo\":\"label\",\"textposition\":\"inside\",\"type\":\"pie\",\"values\":[350,181,117]}],                        {\"annotations\":[{\"font\":{\"size\":16},\"showarrow\":false,\"text\":\"States\",\"x\":0.14444444444444446,\"xanchor\":\"center\",\"xref\":\"paper\",\"y\":1.0,\"yanchor\":\"bottom\",\"yref\":\"paper\"},{\"font\":{\"size\":16},\"showarrow\":false,\"text\":\"Locale\",\"x\":0.5,\"xanchor\":\"center\",\"xref\":\"paper\",\"y\":1.0,\"yanchor\":\"bottom\",\"yref\":\"paper\"},{\"font\":{\"size\":16},\"showarrow\":false,\"text\":\"Product Audience\",\"x\":0.8555555555555556,\"xanchor\":\"center\",\"xref\":\"paper\",\"y\":1.0,\"yanchor\":\"bottom\",\"yref\":\"paper\"}],\"showlegend\":false,\"template\":{\"data\":{\"bar\":[{\"error_x\":{\"color\":\"#2a3f5f\"},\"error_y\":{\"color\":\"#2a3f5f\"},\"marker\":{\"line\":{\"color\":\"#E5ECF6\",\"width\":0.5},\"pattern\":{\"fillmode\":\"overlay\",\"size\":10,\"solidity\":0.2}},\"type\":\"bar\"}],\"barpolar\":[{\"marker\":{\"line\":{\"color\":\"#E5ECF6\",\"width\":0.5},\"pattern\":{\"fillmode\":\"overlay\",\"size\":10,\"solidity\":0.2}},\"type\":\"barpolar\"}],\"carpet\":[{\"aaxis\":{\"endlinecolor\":\"#2a3f5f\",\"gridcolor\":\"white\",\"linecolor\":\"white\",\"minorgridcolor\":\"white\",\"startlinecolor\":\"#2a3f5f\"},\"baxis\":{\"endlinecolor\":\"#2a3f5f\",\"gridcolor\":\"white\",\"linecolor\":\"white\",\"minorgridcolor\":\"white\",\"startlinecolor\":\"#2a3f5f\"},\"type\":\"carpet\"}],\"choropleth\":[{\"colorbar\":{\"outlinewidth\":0,\"ticks\":\"\"},\"type\":\"choropleth\"}],\"contour\":[{\"colorbar\":{\"outlinewidth\":0,\"ticks\":\"\"},\"colorscale\":[[0.0,\"#0d0887\"],[0.1111111111111111,\"#46039f\"],[0.2222222222222222,\"#7201a8\"],[0.3333333333333333,\"#9c179e\"],[0.4444444444444444,\"#bd3786\"],[0.5555555555555556,\"#d8576b\"],[0.6666666666666666,\"#ed7953\"],[0.7777777777777778,\"#fb9f3a\"],[0.8888888888888888,\"#fdca26\"],[1.0,\"#f0f921\"]],\"type\":\"contour\"}],\"contourcarpet\":[{\"colorbar\":{\"outlinewidth\":0,\"ticks\":\"\"},\"type\":\"contourcarpet\"}],\"heatmap\":[{\"colorbar\":{\"outlinewidth\":0,\"ticks\":\"\"},\"colorscale\":[[0.0,\"#0d0887\"],[0.1111111111111111,\"#46039f\"],[0.2222222222222222,\"#7201a8\"],[0.3333333333333333,\"#9c179e\"],[0.4444444444444444,\"#bd3786\"],[0.5555555555555556,\"#d8576b\"],[0.6666666666666666,\"#ed7953\"],[0.7777777777777778,\"#fb9f3a\"],[0.8888888888888888,\"#fdca26\"],[1.0,\"#f0f921\"]],\"type\":\"heatmap\"}],\"heatmapgl\":[{\"colorbar\":{\"outlinewidth\":0,\"ticks\":\"\"},\"colorscale\":[[0.0,\"#0d0887\"],[0.1111111111111111,\"#46039f\"],[0.2222222222222222,\"#7201a8\"],[0.3333333333333333,\"#9c179e\"],[0.4444444444444444,\"#bd3786\"],[0.5555555555555556,\"#d8576b\"],[0.6666666666666666,\"#ed7953\"],[0.7777777777777778,\"#fb9f3a\"],[0.8888888888888888,\"#fdca26\"],[1.0,\"#f0f921\"]],\"type\":\"heatmapgl\"}],\"histogram\":[{\"marker\":{\"pattern\":{\"fillmode\":\"overlay\",\"size\":10,\"solidity\":0.2}},\"type\":\"histogram\"}],\"histogram2d\":[{\"colorbar\":{\"outlinewidth\":0,\"ticks\":\"\"},\"colorscale\":[[0.0,\"#0d0887\"],[0.1111111111111111,\"#46039f\"],[0.2222222222222222,\"#7201a8\"],[0.3333333333333333,\"#9c179e\"],[0.4444444444444444,\"#bd3786\"],[0.5555555555555556,\"#d8576b\"],[0.6666666666666666,\"#ed7953\"],[0.7777777777777778,\"#fb9f3a\"],[0.8888888888888888,\"#fdca26\"],[1.0,\"#f0f921\"]],\"type\":\"histogram2d\"}],\"histogram2dcontour\":[{\"colorbar\":{\"outlinewidth\":0,\"ticks\":\"\"},\"colorscale\":[[0.0,\"#0d0887\"],[0.1111111111111111,\"#46039f\"],[0.2222222222222222,\"#7201a8\"],[0.3333333333333333,\"#9c179e\"],[0.4444444444444444,\"#bd3786\"],[0.5555555555555556,\"#d8576b\"],[0.6666666666666666,\"#ed7953\"],[0.7777777777777778,\"#fb9f3a\"],[0.8888888888888888,\"#fdca26\"],[1.0,\"#f0f921\"]],\"type\":\"histogram2dcontour\"}],\"mesh3d\":[{\"colorbar\":{\"outlinewidth\":0,\"ticks\":\"\"},\"type\":\"mesh3d\"}],\"parcoords\":[{\"line\":{\"colorbar\":{\"outlinewidth\":0,\"ticks\":\"\"}},\"type\":\"parcoords\"}],\"pie\":[{\"automargin\":true,\"type\":\"pie\"}],\"scatter\":[{\"marker\":{\"colorbar\":{\"outlinewidth\":0,\"ticks\":\"\"}},\"type\":\"scatter\"}],\"scatter3d\":[{\"line\":{\"colorbar\":{\"outlinewidth\":0,\"ticks\":\"\"}},\"marker\":{\"colorbar\":{\"outlinewidth\":0,\"ticks\":\"\"}},\"type\":\"scatter3d\"}],\"scattercarpet\":[{\"marker\":{\"colorbar\":{\"outlinewidth\":0,\"ticks\":\"\"}},\"type\":\"scattercarpet\"}],\"scattergeo\":[{\"marker\":{\"colorbar\":{\"outlinewidth\":0,\"ticks\":\"\"}},\"type\":\"scattergeo\"}],\"scattergl\":[{\"marker\":{\"colorbar\":{\"outlinewidth\":0,\"ticks\":\"\"}},\"type\":\"scattergl\"}],\"scattermapbox\":[{\"marker\":{\"colorbar\":{\"outlinewidth\":0,\"ticks\":\"\"}},\"type\":\"scattermapbox\"}],\"scatterpolar\":[{\"marker\":{\"colorbar\":{\"outlinewidth\":0,\"ticks\":\"\"}},\"type\":\"scatterpolar\"}],\"scatterpolargl\":[{\"marker\":{\"colorbar\":{\"outlinewidth\":0,\"ticks\":\"\"}},\"type\":\"scatterpolargl\"}],\"scatterternary\":[{\"marker\":{\"colorbar\":{\"outlinewidth\":0,\"ticks\":\"\"}},\"type\":\"scatterternary\"}],\"surface\":[{\"colorbar\":{\"outlinewidth\":0,\"ticks\":\"\"},\"colorscale\":[[0.0,\"#0d0887\"],[0.1111111111111111,\"#46039f\"],[0.2222222222222222,\"#7201a8\"],[0.3333333333333333,\"#9c179e\"],[0.4444444444444444,\"#bd3786\"],[0.5555555555555556,\"#d8576b\"],[0.6666666666666666,\"#ed7953\"],[0.7777777777777778,\"#fb9f3a\"],[0.8888888888888888,\"#fdca26\"],[1.0,\"#f0f921\"]],\"type\":\"surface\"}],\"table\":[{\"cells\":{\"fill\":{\"color\":\"#EBF0F8\"},\"line\":{\"color\":\"white\"}},\"header\":{\"fill\":{\"color\":\"#C8D4E3\"},\"line\":{\"color\":\"white\"}},\"type\":\"table\"}]},\"layout\":{\"annotationdefaults\":{\"arrowcolor\":\"#2a3f5f\",\"arrowhead\":0,\"arrowwidth\":1},\"autotypenumbers\":\"strict\",\"coloraxis\":{\"colorbar\":{\"outlinewidth\":0,\"ticks\":\"\"}},\"colorscale\":{\"diverging\":[[0,\"#8e0152\"],[0.1,\"#c51b7d\"],[0.2,\"#de77ae\"],[0.3,\"#f1b6da\"],[0.4,\"#fde0ef\"],[0.5,\"#f7f7f7\"],[0.6,\"#e6f5d0\"],[0.7,\"#b8e186\"],[0.8,\"#7fbc41\"],[0.9,\"#4d9221\"],[1,\"#276419\"]],\"sequential\":[[0.0,\"#0d0887\"],[0.1111111111111111,\"#46039f\"],[0.2222222222222222,\"#7201a8\"],[0.3333333333333333,\"#9c179e\"],[0.4444444444444444,\"#bd3786\"],[0.5555555555555556,\"#d8576b\"],[0.6666666666666666,\"#ed7953\"],[0.7777777777777778,\"#fb9f3a\"],[0.8888888888888888,\"#fdca26\"],[1.0,\"#f0f921\"]],\"sequentialminus\":[[0.0,\"#0d0887\"],[0.1111111111111111,\"#46039f\"],[0.2222222222222222,\"#7201a8\"],[0.3333333333333333,\"#9c179e\"],[0.4444444444444444,\"#bd3786\"],[0.5555555555555556,\"#d8576b\"],[0.6666666666666666,\"#ed7953\"],[0.7777777777777778,\"#fb9f3a\"],[0.8888888888888888,\"#fdca26\"],[1.0,\"#f0f921\"]]},\"colorway\":[\"#636efa\",\"#EF553B\",\"#00cc96\",\"#ab63fa\",\"#FFA15A\",\"#19d3f3\",\"#FF6692\",\"#B6E880\",\"#FF97FF\",\"#FECB52\"],\"font\":{\"color\":\"#2a3f5f\"},\"geo\":{\"bgcolor\":\"white\",\"lakecolor\":\"white\",\"landcolor\":\"#E5ECF6\",\"showlakes\":true,\"showland\":true,\"subunitcolor\":\"white\"},\"hoverlabel\":{\"align\":\"left\"},\"hovermode\":\"closest\",\"mapbox\":{\"style\":\"light\"},\"paper_bgcolor\":\"white\",\"plot_bgcolor\":\"#E5ECF6\",\"polar\":{\"angularaxis\":{\"gridcolor\":\"white\",\"linecolor\":\"white\",\"ticks\":\"\"},\"bgcolor\":\"#E5ECF6\",\"radialaxis\":{\"gridcolor\":\"white\",\"linecolor\":\"white\",\"ticks\":\"\"}},\"scene\":{\"xaxis\":{\"backgroundcolor\":\"#E5ECF6\",\"gridcolor\":\"white\",\"gridwidth\":2,\"linecolor\":\"white\",\"showbackground\":true,\"ticks\":\"\",\"zerolinecolor\":\"white\"},\"yaxis\":{\"backgroundcolor\":\"#E5ECF6\",\"gridcolor\":\"white\",\"gridwidth\":2,\"linecolor\":\"white\",\"showbackground\":true,\"ticks\":\"\",\"zerolinecolor\":\"white\"},\"zaxis\":{\"backgroundcolor\":\"#E5ECF6\",\"gridcolor\":\"white\",\"gridwidth\":2,\"linecolor\":\"white\",\"showbackground\":true,\"ticks\":\"\",\"zerolinecolor\":\"white\"}},\"shapedefaults\":{\"line\":{\"color\":\"#2a3f5f\"}},\"ternary\":{\"aaxis\":{\"gridcolor\":\"white\",\"linecolor\":\"white\",\"ticks\":\"\"},\"baxis\":{\"gridcolor\":\"white\",\"linecolor\":\"white\",\"ticks\":\"\"},\"bgcolor\":\"#E5ECF6\",\"caxis\":{\"gridcolor\":\"white\",\"linecolor\":\"white\",\"ticks\":\"\"}},\"title\":{\"x\":0.05},\"xaxis\":{\"automargin\":true,\"gridcolor\":\"white\",\"linecolor\":\"white\",\"ticks\":\"\",\"title\":{\"standoff\":15},\"zerolinecolor\":\"white\",\"zerolinewidth\":2},\"yaxis\":{\"automargin\":true,\"gridcolor\":\"white\",\"linecolor\":\"white\",\"ticks\":\"\",\"title\":{\"standoff\":15},\"zerolinecolor\":\"white\",\"zerolinewidth\":2}}}},                        {\"responsive\": true}                    ).then(function(){\n",
       "                            \n",
       "var gd = document.getElementById('5f1e7c4b-ace5-48e0-894a-8596a83c5848');\n",
       "var x = new MutationObserver(function (mutations, observer) {{\n",
       "        var display = window.getComputedStyle(gd).display;\n",
       "        if (!display || display === 'none') {{\n",
       "            console.log([gd, 'removed!']);\n",
       "            Plotly.purge(gd);\n",
       "            observer.disconnect();\n",
       "        }}\n",
       "}});\n",
       "\n",
       "// Listen for the removal of the full notebook cells\n",
       "var notebookContainer = gd.closest('#notebook-container');\n",
       "if (notebookContainer) {{\n",
       "    x.observe(notebookContainer, {childList: true});\n",
       "}}\n",
       "\n",
       "// Listen for the clearing of the current output cell\n",
       "var outputEl = gd.closest('.output');\n",
       "if (outputEl) {{\n",
       "    x.observe(outputEl, {childList: true});\n",
       "}}\n",
       "\n",
       "                        })                };                });            </script>        </div>"
      ]
     },
     "metadata": {},
     "output_type": "display_data"
    }
   ],
   "source": [
    "plot_sample_size_details(districts_df, products_df)"
   ]
  },
  {
   "cell_type": "markdown",
   "id": "c663e307",
   "metadata": {
    "papermill": {
     "duration": 0.022891,
     "end_time": "2021-09-26T18:27:36.471264",
     "exception": false,
     "start_time": "2021-09-26T18:27:36.448373",
     "status": "completed"
    },
    "tags": []
   },
   "source": [
    "<div class=\"h3\">What is Engagement Index</div>\n",
    "<br>\n",
    "<p>\n",
    "Throughout this analysis, 2 common measurements I will be using are Engagement Index and COVID-19 Cases. \n",
    "<br>\n",
    "COVID-19 Cases is the quantity of coronavirus cases.\n",
    "Engagement Index is a measurement of student engagement based on the equation below:\n",
    "<br>\n",
    "    <b>Engagement index = total page load events / 1000 students of a given product on that day</b>\n",
    "</p>"
   ]
  },
  {
   "cell_type": "markdown",
   "id": "e4087551",
   "metadata": {
    "papermill": {
     "duration": 0.022532,
     "end_time": "2021-09-26T18:27:36.516763",
     "exception": false,
     "start_time": "2021-09-26T18:27:36.494231",
     "status": "completed"
    },
    "tags": []
   },
   "source": [
    "<div class=\"h1\">Time Series Anaylsis</div>\n",
    "\n",
    "<br>\n",
    "In the timeseries portion (and other parts of the analysis), I will be splitting the data into 4 sections:\n",
    "<br>\n",
    "<ol>\n",
    "    <li>Before COVID Hit</li>\n",
    "    <li>Spring 2020</li>\n",
    "    <li>Summer 2020</li>\n",
    "    <li>Fall 2020</li>\n",
    "</ol>\n",
    "\n",
    "<div class=\"h3\">Line Plots Over Time</div>\n",
    "<br>\n",
    "\n",
    "The line plots below investigate engagement (on the left y-axis) and COVID cases (on the right y-axis) over time. \n",
    "<br>\n",
    "The COVID line in the first plot shows the cumulative number of COVID-19 while the second plot shows the number of new cases on that given day.\n",
    "<br>\n",
    "<p style=\"color:#36B6D2\">The Engagement Index is represented by the blue line</p>\n",
    "<p style=\"color:#E76a5d\">The COVID-19 cases are represented by the red line</p>\n",
    "<p style=\"color:#7f8781\">The Gray Dashed Lines separate the 4 segments of the year mentioned above</p>\n"
   ]
  },
  {
   "cell_type": "code",
   "execution_count": 8,
   "id": "aa2d4e21",
   "metadata": {
    "_kg_hide-input": true,
    "execution": {
     "iopub.execute_input": "2021-09-26T18:27:36.592226Z",
     "iopub.status.busy": "2021-09-26T18:27:36.581860Z",
     "iopub.status.idle": "2021-09-26T18:27:36.600262Z",
     "shell.execute_reply": "2021-09-26T18:27:36.599530Z"
    },
    "papermill": {
     "duration": 0.060948,
     "end_time": "2021-09-26T18:27:36.600447",
     "exception": false,
     "start_time": "2021-09-26T18:27:36.539499",
     "status": "completed"
    },
    "tags": []
   },
   "outputs": [],
   "source": [
    "def resample(df: pd.DataFrame, sample: str, what: list=None):\n",
    "    if what is not None:\n",
    "        return df[what].resample(sample).mean()\n",
    "    return df[['engagement_index', 'pct_access']].resample(sample).mean()\n",
    "\n",
    "def add_secondary_y_plot(fig: go.Figure, \n",
    "                         row: int, col: int, \n",
    "                         x1: np.array, x2: np.array, \n",
    "                         y1: np.array, y2: np.array, \n",
    "                         color1: str, color2: str,\n",
    "                         name1: str, name2: str):\n",
    "    fig.add_scatter(x=x1, \n",
    "                    y=y1, \n",
    "                    mode='lines',\n",
    "                    marker={'color': color1},\n",
    "                    name=name1,\n",
    "                    secondary_y=False,\n",
    "                    row=row,\n",
    "                    col=col)\n",
    "    \n",
    "    fig.add_scatter(x=x2, \n",
    "                    y=y2, \n",
    "                    mode='lines', \n",
    "                    marker={'color': color2},\n",
    "                    name=name2,\n",
    "                    secondary_y=True,\n",
    "                    row=row,\n",
    "                    col=col)\n",
    "    \n",
    "def plot_engage_to_cases(engage_df: pd.DataFrame, cases_df: pd.DataFrame):\n",
    "    fig =  make_subplots(rows=2, cols=1, \n",
    "                         specs=[[{'secondary_y': True}], [{'secondary_y': True}]],\n",
    "                         subplot_titles=('Engagement Index VS Cumulative Cases - Over Time (US)', 'Engagement Index VS New Cases Daily - Over Time (US)'))\n",
    "    add_secondary_y_plot(fig, 1, 1, engage_df.index, cases_df.index, engage_df.engagement_index, cases_df.cases, '#36B6D2', '#E76a5d', 'Engagement Index', 'COVID Cases')\n",
    "    add_secondary_y_plot(fig, 2, 1, engage_df.index, cases_df.index, engage_df.engagement_index, cases_df.new_cases, '#36B6D2', '#E76a5d', 'Engagement Index', 'COVID Cases')\n",
    "\n",
    "        \n",
    "    fig.add_vline(x=dt.datetime(2020,1,21), line_width=2, line_dash='dash', line_color='#9B9B9B')\n",
    "    fig.add_vline(x=dt.datetime(2020,6,1), line_width=2, line_dash='dash', line_color='#9B9B9B')\n",
    "    fig.add_vline(x=dt.datetime(2020,8,12), line_width=2, line_dash='dash', line_color='#9B9B9B')\n",
    "\n",
    "    fig.update_layout(\n",
    "        autosize=False,\n",
    "        width=850,\n",
    "        height=450,)\n",
    "\n",
    "    fig.update_layout(plot_bgcolor='#E6EFF1') \n",
    "    fig.update_xaxes(showgrid=False, title_text='Date')\n",
    "    fig.update_yaxes(showgrid=False, title_text='Engagement Index', secondary_y=False)\n",
    "    fig.update_yaxes(showgrid=False, title_text='Cases', secondary_y=True)\n",
    "    fig.update_layout(title_x=.3, title_y=.92, title_font_size=30, height=750, width=1000)\n",
    "    fig.update_traces(showlegend=False)\n",
    "    \n",
    "    fig.show()\n",
    "    \n",
    "def plot_resampled_engage_to_cases(engage_df: pd.DataFrame, cases_df: pd.DataFrame):\n",
    "    fig =  make_subplots(rows=3, cols=1, \n",
    "                         specs=[[{'secondary_y': True}], [{'secondary_y': True}], [{'secondary_y': True}]],\n",
    "                         subplot_titles=(\"Daily\", \"Weekly\", \"Monthly\"))\n",
    "    \n",
    "    add_secondary_y_plot(fig, 1, 1, engage_df.index, cases_df.index, engage_df.engagement_index, cases_df.new_cases, '#36B6D2', '#E76a5d', 'Engagement Index', 'COVID Cases')\n",
    "    \n",
    "    engage_df_weekly = resample(engage_df, '7D')\n",
    "    cases_df_weekly = resample(cases_df, '7D', ['cases', 'new_cases'])\n",
    "    add_secondary_y_plot(fig, 2, 1, engage_df_weekly.index, cases_df_weekly.index, engage_df_weekly.engagement_index, cases_df_weekly.new_cases, '#36B6D2', '#E76a5d', 'Engagement Index', 'COVID Cases')\n",
    "    \n",
    "    engage_df_monthly = resample(engage_df, 'M')\n",
    "    cases_df_monthly = resample(cases_df, 'M', ['cases', 'new_cases'])\n",
    "    add_secondary_y_plot(fig, 3, 1, engage_df_monthly.index, cases_df_monthly.index, engage_df_monthly.engagement_index, cases_df_monthly.new_cases, '#36B6D2', '#E76a5d', 'Engagement Index', 'COVID Cases')\n",
    "    \n",
    "    fig.add_vline(x=dt.datetime(2020,1,21), line_width=2, line_dash='dash', line_color='#9B9B9B')\n",
    "    fig.add_vline(x=dt.datetime(2020,6,1), line_width=2, line_dash='dash', line_color='#9B9B9B')\n",
    "    fig.add_vline(x=dt.datetime(2020,8,12), line_width=2, line_dash='dash', line_color='#9B9B9B')\n",
    "\n",
    "    fig.update_layout(\n",
    "        autosize=False,\n",
    "        width=850,\n",
    "        height=450,)\n",
    "\n",
    "    fig.update_layout(plot_bgcolor='#E6EFF1') \n",
    "    fig.update_xaxes(showgrid=False, title_text='Date')\n",
    "    fig.update_yaxes(showgrid=False, title_text='Engagement Index', secondary_y=False)\n",
    "    fig.update_yaxes(showgrid=False, title_text='Cases', secondary_y=True)\n",
    "    fig.update_layout(title_x=.3, title_y=.92, title_font_size=30, height=750, width=1000)\n",
    "    fig.update_traces(showlegend=False)\n",
    "    \n",
    "    fig.show()"
   ]
  },
  {
   "cell_type": "code",
   "execution_count": 9,
   "id": "bc85c727",
   "metadata": {
    "execution": {
     "iopub.execute_input": "2021-09-26T18:27:36.656835Z",
     "iopub.status.busy": "2021-09-26T18:27:36.656114Z",
     "iopub.status.idle": "2021-09-26T18:27:36.916897Z",
     "shell.execute_reply": "2021-09-26T18:27:36.916270Z"
    },
    "papermill": {
     "duration": 0.290493,
     "end_time": "2021-09-26T18:27:36.917066",
     "exception": false,
     "start_time": "2021-09-26T18:27:36.626573",
     "status": "completed"
    },
    "tags": []
   },
   "outputs": [
    {
     "data": {
      "text/html": [
       "<div>                            <div id=\"ebf70fea-379f-486a-b0b9-37d5ed918b2f\" class=\"plotly-graph-div\" style=\"height:750px; width:1000px;\"></div>            <script type=\"text/javascript\">                require([\"plotly\"], function(Plotly) {                    window.PLOTLYENV=window.PLOTLYENV || {};                                    if (document.getElementById(\"ebf70fea-379f-486a-b0b9-37d5ed918b2f\")) {                    Plotly.newPlot(                        \"ebf70fea-379f-486a-b0b9-37d5ed918b2f\",                        [{\"marker\":{\"color\":\"#36B6D2\"},\"mode\":\"lines\",\"name\":\"Engagement Index\",\"showlegend\":false,\"type\":\"scatter\",\"x\":[\"2020-01-01T00:00:00\",\"2020-01-02T00:00:00\",\"2020-01-03T00:00:00\",\"2020-01-04T00:00:00\",\"2020-01-05T00:00:00\",\"2020-01-06T00:00:00\",\"2020-01-07T00:00:00\",\"2020-01-08T00:00:00\",\"2020-01-09T00:00:00\",\"2020-01-10T00:00:00\",\"2020-01-11T00:00:00\",\"2020-01-12T00:00:00\",\"2020-01-13T00:00:00\",\"2020-01-14T00:00:00\",\"2020-01-15T00:00:00\",\"2020-01-16T00:00:00\",\"2020-01-17T00:00:00\",\"2020-01-18T00:00:00\",\"2020-01-19T00:00:00\",\"2020-01-20T00:00:00\",\"2020-01-21T00:00:00\",\"2020-01-22T00:00:00\",\"2020-01-23T00:00:00\",\"2020-01-24T00:00:00\",\"2020-01-25T00:00:00\",\"2020-01-26T00:00:00\",\"2020-01-27T00:00:00\",\"2020-01-28T00:00:00\",\"2020-01-29T00:00:00\",\"2020-01-30T00:00:00\",\"2020-01-31T00:00:00\",\"2020-02-01T00:00:00\",\"2020-02-02T00:00:00\",\"2020-02-03T00:00:00\",\"2020-02-04T00:00:00\",\"2020-02-05T00:00:00\",\"2020-02-06T00:00:00\",\"2020-02-07T00:00:00\",\"2020-02-08T00:00:00\",\"2020-02-09T00:00:00\",\"2020-02-10T00:00:00\",\"2020-02-11T00:00:00\",\"2020-02-12T00:00:00\",\"2020-02-13T00:00:00\",\"2020-02-14T00:00:00\",\"2020-02-15T00:00:00\",\"2020-02-16T00:00:00\",\"2020-02-17T00:00:00\",\"2020-02-18T00:00:00\",\"2020-02-19T00:00:00\",\"2020-02-20T00:00:00\",\"2020-02-21T00:00:00\",\"2020-02-22T00:00:00\",\"2020-02-23T00:00:00\",\"2020-02-24T00:00:00\",\"2020-02-25T00:00:00\",\"2020-02-26T00:00:00\",\"2020-02-27T00:00:00\",\"2020-02-28T00:00:00\",\"2020-02-29T00:00:00\",\"2020-03-01T00:00:00\",\"2020-03-02T00:00:00\",\"2020-03-03T00:00:00\",\"2020-03-04T00:00:00\",\"2020-03-05T00:00:00\",\"2020-03-06T00:00:00\",\"2020-03-07T00:00:00\",\"2020-03-08T00:00:00\",\"2020-03-09T00:00:00\",\"2020-03-10T00:00:00\",\"2020-03-11T00:00:00\",\"2020-03-12T00:00:00\",\"2020-03-13T00:00:00\",\"2020-03-14T00:00:00\",\"2020-03-15T00:00:00\",\"2020-03-16T00:00:00\",\"2020-03-17T00:00:00\",\"2020-03-18T00:00:00\",\"2020-03-19T00:00:00\",\"2020-03-20T00:00:00\",\"2020-03-21T00:00:00\",\"2020-03-22T00:00:00\",\"2020-03-23T00:00:00\",\"2020-03-24T00:00:00\",\"2020-03-25T00:00:00\",\"2020-03-26T00:00:00\",\"2020-03-27T00:00:00\",\"2020-03-28T00:00:00\",\"2020-03-29T00:00:00\",\"2020-03-30T00:00:00\",\"2020-03-31T00:00:00\",\"2020-04-01T00:00:00\",\"2020-04-02T00:00:00\",\"2020-04-03T00:00:00\",\"2020-04-04T00:00:00\",\"2020-04-05T00:00:00\",\"2020-04-06T00:00:00\",\"2020-04-07T00:00:00\",\"2020-04-08T00:00:00\",\"2020-04-09T00:00:00\",\"2020-04-10T00:00:00\",\"2020-04-11T00:00:00\",\"2020-04-12T00:00:00\",\"2020-04-13T00:00:00\",\"2020-04-14T00:00:00\",\"2020-04-15T00:00:00\",\"2020-04-16T00:00:00\",\"2020-04-17T00:00:00\",\"2020-04-18T00:00:00\",\"2020-04-19T00:00:00\",\"2020-04-20T00:00:00\",\"2020-04-21T00:00:00\",\"2020-04-22T00:00:00\",\"2020-04-23T00:00:00\",\"2020-04-24T00:00:00\",\"2020-04-25T00:00:00\",\"2020-04-26T00:00:00\",\"2020-04-27T00:00:00\",\"2020-04-28T00:00:00\",\"2020-04-29T00:00:00\",\"2020-04-30T00:00:00\",\"2020-05-01T00:00:00\",\"2020-05-02T00:00:00\",\"2020-05-03T00:00:00\",\"2020-05-04T00:00:00\",\"2020-05-05T00:00:00\",\"2020-05-06T00:00:00\",\"2020-05-07T00:00:00\",\"2020-05-08T00:00:00\",\"2020-05-09T00:00:00\",\"2020-05-10T00:00:00\",\"2020-05-11T00:00:00\",\"2020-05-12T00:00:00\",\"2020-05-13T00:00:00\",\"2020-05-14T00:00:00\",\"2020-05-15T00:00:00\",\"2020-05-16T00:00:00\",\"2020-05-17T00:00:00\",\"2020-05-18T00:00:00\",\"2020-05-19T00:00:00\",\"2020-05-20T00:00:00\",\"2020-05-21T00:00:00\",\"2020-05-22T00:00:00\",\"2020-05-23T00:00:00\",\"2020-05-24T00:00:00\",\"2020-05-25T00:00:00\",\"2020-05-26T00:00:00\",\"2020-05-27T00:00:00\",\"2020-05-28T00:00:00\",\"2020-05-29T00:00:00\",\"2020-05-30T00:00:00\",\"2020-05-31T00:00:00\",\"2020-06-01T00:00:00\",\"2020-06-02T00:00:00\",\"2020-06-03T00:00:00\",\"2020-06-04T00:00:00\",\"2020-06-05T00:00:00\",\"2020-06-06T00:00:00\",\"2020-06-07T00:00:00\",\"2020-06-08T00:00:00\",\"2020-06-09T00:00:00\",\"2020-06-10T00:00:00\",\"2020-06-11T00:00:00\",\"2020-06-12T00:00:00\",\"2020-06-13T00:00:00\",\"2020-06-14T00:00:00\",\"2020-06-15T00:00:00\",\"2020-06-16T00:00:00\",\"2020-06-17T00:00:00\",\"2020-06-18T00:00:00\",\"2020-06-19T00:00:00\",\"2020-06-20T00:00:00\",\"2020-06-21T00:00:00\",\"2020-06-22T00:00:00\",\"2020-06-23T00:00:00\",\"2020-06-24T00:00:00\",\"2020-06-25T00:00:00\",\"2020-06-26T00:00:00\",\"2020-06-27T00:00:00\",\"2020-06-28T00:00:00\",\"2020-06-29T00:00:00\",\"2020-06-30T00:00:00\",\"2020-07-01T00:00:00\",\"2020-07-02T00:00:00\",\"2020-07-03T00:00:00\",\"2020-07-04T00:00:00\",\"2020-07-05T00:00:00\",\"2020-07-06T00:00:00\",\"2020-07-07T00:00:00\",\"2020-07-08T00:00:00\",\"2020-07-09T00:00:00\",\"2020-07-10T00:00:00\",\"2020-07-11T00:00:00\",\"2020-07-12T00:00:00\",\"2020-07-13T00:00:00\",\"2020-07-14T00:00:00\",\"2020-07-15T00:00:00\",\"2020-07-16T00:00:00\",\"2020-07-17T00:00:00\",\"2020-07-18T00:00:00\",\"2020-07-19T00:00:00\",\"2020-07-20T00:00:00\",\"2020-07-21T00:00:00\",\"2020-07-22T00:00:00\",\"2020-07-23T00:00:00\",\"2020-07-24T00:00:00\",\"2020-07-25T00:00:00\",\"2020-07-26T00:00:00\",\"2020-07-27T00:00:00\",\"2020-07-28T00:00:00\",\"2020-07-29T00:00:00\",\"2020-07-30T00:00:00\",\"2020-07-31T00:00:00\",\"2020-08-01T00:00:00\",\"2020-08-02T00:00:00\",\"2020-08-03T00:00:00\",\"2020-08-04T00:00:00\",\"2020-08-05T00:00:00\",\"2020-08-06T00:00:00\",\"2020-08-07T00:00:00\",\"2020-08-08T00:00:00\",\"2020-08-09T00:00:00\",\"2020-08-10T00:00:00\",\"2020-08-11T00:00:00\",\"2020-08-12T00:00:00\",\"2020-08-13T00:00:00\",\"2020-08-14T00:00:00\",\"2020-08-15T00:00:00\",\"2020-08-16T00:00:00\",\"2020-08-17T00:00:00\",\"2020-08-18T00:00:00\",\"2020-08-19T00:00:00\",\"2020-08-20T00:00:00\",\"2020-08-21T00:00:00\",\"2020-08-22T00:00:00\",\"2020-08-23T00:00:00\",\"2020-08-24T00:00:00\",\"2020-08-25T00:00:00\",\"2020-08-26T00:00:00\",\"2020-08-27T00:00:00\",\"2020-08-28T00:00:00\",\"2020-08-29T00:00:00\",\"2020-08-30T00:00:00\",\"2020-08-31T00:00:00\",\"2020-09-01T00:00:00\",\"2020-09-02T00:00:00\",\"2020-09-03T00:00:00\",\"2020-09-04T00:00:00\",\"2020-09-05T00:00:00\",\"2020-09-06T00:00:00\",\"2020-09-07T00:00:00\",\"2020-09-08T00:00:00\",\"2020-09-09T00:00:00\",\"2020-09-10T00:00:00\",\"2020-09-11T00:00:00\",\"2020-09-12T00:00:00\",\"2020-09-13T00:00:00\",\"2020-09-14T00:00:00\",\"2020-09-15T00:00:00\",\"2020-09-16T00:00:00\",\"2020-09-17T00:00:00\",\"2020-09-18T00:00:00\",\"2020-09-19T00:00:00\",\"2020-09-20T00:00:00\",\"2020-09-21T00:00:00\",\"2020-09-22T00:00:00\",\"2020-09-23T00:00:00\",\"2020-09-24T00:00:00\",\"2020-09-25T00:00:00\",\"2020-09-26T00:00:00\",\"2020-09-27T00:00:00\",\"2020-09-28T00:00:00\",\"2020-09-29T00:00:00\",\"2020-09-30T00:00:00\",\"2020-10-01T00:00:00\",\"2020-10-02T00:00:00\",\"2020-10-03T00:00:00\",\"2020-10-04T00:00:00\",\"2020-10-05T00:00:00\",\"2020-10-06T00:00:00\",\"2020-10-07T00:00:00\",\"2020-10-08T00:00:00\",\"2020-10-09T00:00:00\",\"2020-10-10T00:00:00\",\"2020-10-11T00:00:00\",\"2020-10-12T00:00:00\",\"2020-10-13T00:00:00\",\"2020-10-14T00:00:00\",\"2020-10-15T00:00:00\",\"2020-10-16T00:00:00\",\"2020-10-17T00:00:00\",\"2020-10-18T00:00:00\",\"2020-10-19T00:00:00\",\"2020-10-20T00:00:00\",\"2020-10-21T00:00:00\",\"2020-10-22T00:00:00\",\"2020-10-23T00:00:00\",\"2020-10-24T00:00:00\",\"2020-10-25T00:00:00\",\"2020-10-26T00:00:00\",\"2020-10-27T00:00:00\",\"2020-10-28T00:00:00\",\"2020-10-29T00:00:00\",\"2020-10-30T00:00:00\",\"2020-10-31T00:00:00\",\"2020-11-01T00:00:00\",\"2020-11-02T00:00:00\",\"2020-11-03T00:00:00\",\"2020-11-04T00:00:00\",\"2020-11-05T00:00:00\",\"2020-11-06T00:00:00\",\"2020-11-07T00:00:00\",\"2020-11-08T00:00:00\",\"2020-11-09T00:00:00\",\"2020-11-10T00:00:00\",\"2020-11-11T00:00:00\",\"2020-11-12T00:00:00\",\"2020-11-13T00:00:00\",\"2020-11-14T00:00:00\",\"2020-11-15T00:00:00\",\"2020-11-16T00:00:00\",\"2020-11-17T00:00:00\",\"2020-11-18T00:00:00\",\"2020-11-19T00:00:00\",\"2020-11-20T00:00:00\",\"2020-11-21T00:00:00\",\"2020-11-22T00:00:00\",\"2020-11-23T00:00:00\",\"2020-11-24T00:00:00\",\"2020-11-25T00:00:00\",\"2020-11-26T00:00:00\",\"2020-11-27T00:00:00\",\"2020-11-28T00:00:00\",\"2020-11-29T00:00:00\",\"2020-11-30T00:00:00\",\"2020-12-01T00:00:00\",\"2020-12-02T00:00:00\",\"2020-12-03T00:00:00\",\"2020-12-04T00:00:00\",\"2020-12-05T00:00:00\",\"2020-12-06T00:00:00\",\"2020-12-07T00:00:00\",\"2020-12-08T00:00:00\",\"2020-12-09T00:00:00\",\"2020-12-10T00:00:00\",\"2020-12-11T00:00:00\",\"2020-12-12T00:00:00\",\"2020-12-13T00:00:00\",\"2020-12-14T00:00:00\",\"2020-12-15T00:00:00\",\"2020-12-16T00:00:00\",\"2020-12-17T00:00:00\",\"2020-12-18T00:00:00\",\"2020-12-19T00:00:00\",\"2020-12-20T00:00:00\",\"2020-12-21T00:00:00\",\"2020-12-22T00:00:00\",\"2020-12-23T00:00:00\",\"2020-12-24T00:00:00\",\"2020-12-25T00:00:00\",\"2020-12-26T00:00:00\",\"2020-12-27T00:00:00\",\"2020-12-28T00:00:00\",\"2020-12-29T00:00:00\",\"2020-12-30T00:00:00\",\"2020-12-31T00:00:00\"],\"xaxis\":\"x\",\"y\":[16.770189822938267,85.26234887154608,88.26327662178703,17.528291609353506,23.879479179167166,114.57364014608665,119.16312158636993,124.81071715556249,129.12457124677172,126.37062821972255,19.93999393694422,28.560770910780672,126.60170120122987,128.64213170272814,127.86309610380023,132.40857557502738,116.85341805524088,17.79960803452173,18.47410520607375,38.49788504342513,126.34921208882555,125.55712397157816,128.82883898524463,118.41035195148194,17.801630386052302,23.701606965878522,124.37537379561196,127.13638705307288,128.55041896341575,130.04735281919977,123.94775145594589,19.333508901347496,23.964155825924195,121.75566901477929,131.41793544155706,125.48961617571439,123.65002986082722,120.01060920825672,19.95259579035796,26.775322510255737,128.70101707537634,128.27418610656795,215.4140998494334,220.62888080701694,183.86486782062886,30.97849085216711,32.22789987228608,97.81250502080046,194.24115864330588,208.43538814327616,215.71889454369202,209.77026874039242,35.23178503590456,48.86460475889661,216.57508233319612,222.24354538826103,207.47856858502814,215.8115201271952,194.70871129719805,36.029682814545765,46.032591000512674,212.95647689502013,218.45389719497453,210.6622568054868,219.7437258717871,206.78286386317183,34.92435720668964,46.203467105524055,207.75082015468948,219.5918391691395,211.94010834331104,215.34402160755354,183.6755663744349,47.38648813535275,41.65234519892312,146.40277474723723,178.47052312474008,232.71878919411742,232.2541631429536,202.7769986171596,63.22868311457047,53.286675153058134,230.92931951263864,230.53802931362347,235.04380803917425,222.04964429938596,189.47727137290855,58.006311572381165,57.37332264345436,243.79519790444115,232.8531317790167,233.9682200030622,234.21533528195135,208.29275163398694,60.55883687868576,55.15011052513465,242.07795208836959,240.54456759594865,244.14577770293027,229.22385277694184,129.23167646224312,167.28094044588659,135.5463564499874,189.4648944970207,212.6044934346035,214.06278726708075,214.6248659820448,180.26672281410728,64.06963595218183,55.341078369734575,221.81189391746275,237.26088413027983,228.2569832696207,227.01041128463166,194.96790346021325,64.79398418641313,61.89648643631831,229.4687679531475,226.46880168228344,221.29449572467192,220.1484974503387,187.37776805324458,61.97751615644069,56.51994638897466,216.15296248154567,221.79883166028057,215.40681802355027,210.3376410280864,180.03699682751713,69.11680517591594,57.41011151662612,211.43175241829223,208.6855373813133,200.79192215327586,194.70273379659696,167.46791682537483,62.850791286240586,60.60826252662258,189.03966844901575,186.32177614113215,179.36863859065747,180.17781806733583,148.236503464396,52.10632151654039,39.00332490894224,51.45688720836686,166.69053832702483,167.99762374240964,175.75940853506364,154.18885947792143,51.77555846391051,48.13445694200352,163.312614071752,152.51003043213632,151.25882988139495,147.92747903536642,130.33628629776757,48.760188226533735,47.81054764083127,142.66300566468448,126.42937910883857,121.11619950774578,119.8428038277512,98.26995740574358,40.22612952236255,35.271485368314835,86.11685458061075,73.82609194218423,70.34364254527235,69.97593706161138,56.667332315133,35.39781540542064,34.33210653606626,49.32578567792296,48.289607193563654,46.409822943402794,44.69112331569352,41.57343097433937,33.801397797701426,33.334351492767006,41.27093061846885,42.351593579051205,40.70673147637434,38.77731002082627,33.09707591592971,30.2658777385159,29.50809622850804,42.247105345281085,43.70154392539655,43.92771466083151,43.18344773370468,39.23856629766298,32.23478765201123,30.555470474967905,41.516420982142854,42.079340765027325,42.17036692081095,40.955719108110515,36.23353677621283,30.769007575757577,30.770911586338972,40.691797650900185,41.319727012778124,41.711310556760665,41.324831173571816,35.004716025378634,29.761002060793405,29.888822635023466,37.97812960442964,40.61239779659474,40.44865045758776,44.66196435117302,41.97014717661194,31.866509031610637,32.50052389764534,44.601688895262676,45.07383813611281,45.42028275997256,47.629422454207145,51.75553964091184,32.60388167388167,30.60363855124329,61.84618959842001,64.33721106061249,84.26886201253342,93.50080751787223,100.47845207026837,39.51733034773446,38.16576100060277,114.32245243406378,130.87631183257642,151.00570995266037,163.43245201072386,159.7416580198876,45.64941885356378,47.250258610781195,205.84175239169576,203.34451488550417,197.0983734065191,211.4903519827851,201.77333359926604,50.968981164383564,51.665530777795446,235.91892283873722,242.5424439642175,242.1168797446932,230.23206954865614,233.4927115447266,52.670541034710155,46.93739631869403,60.83253607740243,254.196125631011,233.42632091613135,235.18006601761437,218.74522697223446,61.57341837127532,67.5946694992876,234.6464019592664,243.48554924948562,247.3687579663547,263.043770904185,243.24650367652498,65.74789716780023,72.26096401385833,249.5924633160842,255.40329121565077,244.45337671718082,282.8792252254635,291.41651471815857,65.81740785940933,72.11006147293013,304.3198998492944,242.8697824758159,235.69429856306547,244.48968273671287,226.93636045360077,66.69329277968792,72.81560931049209,241.71015836606873,238.63053105781887,235.04634572853274,245.0437803384172,233.94350519726805,69.28086577360044,67.32268757355826,187.11443278739185,232.75536717460403,214.54736725724868,228.46987449542328,268.76357335759997,72.77283991378916,76.88547237549092,227.81002727831017,238.52443660244705,234.37531477406205,240.89438004955292,228.4344897169394,70.26655496300566,77.05218730046116,236.4607696585022,231.93807918644785,230.0774625242413,236.57741322567324,233.8685778995797,65.9817750213858,70.52280829511666,220.50983131891877,183.72117274600097,216.4634397044004,219.48087482162674,225.66666960595933,70.62998554782766,70.33099650226531,214.539617749373,221.30530961106814,214.30405170456822,216.39168970314796,233.89357741655164,71.60043353926083,72.6161500996738,211.3518847039496,225.44852662503655,233.50088174339007,222.38727061262674,233.98538195023673,73.07617533522958,73.48471407932144,246.0461815003313,268.4754786009486,67.82579801899317,57.747157760611614,51.34010680554329,52.2557509994289,60.66966175612972,231.80734280134448,254.50235909689124,230.40892398362058,235.9654415084977,238.43511956105652,71.2028807066085,71.29788127593247,231.5978676094629,246.06439289562576,239.4075934195353,250.76979458550932,236.24302529122667,72.30202331703647,72.62721303978572,227.7313282854371,240.14845220579068,263.4667913896089,244.95900567087665,256.79968493301726,69.06303038889283,64.80657814552141,223.2420342812331,218.0765508699855,151.10499722000628,51.1728854438753,37.90119468195058,36.847772879091515,40.23063469136327,42.76873856004454,43.842840176794084,44.39114505125305,43.049106041703794],\"yaxis\":\"y\"},{\"marker\":{\"color\":\"#E76a5d\"},\"mode\":\"lines\",\"name\":\"COVID Cases\",\"showlegend\":false,\"type\":\"scatter\",\"x\":[\"2020-01-21T00:00:00\",\"2020-01-22T00:00:00\",\"2020-01-23T00:00:00\",\"2020-01-24T00:00:00\",\"2020-01-25T00:00:00\",\"2020-01-26T00:00:00\",\"2020-01-27T00:00:00\",\"2020-01-28T00:00:00\",\"2020-01-29T00:00:00\",\"2020-01-30T00:00:00\",\"2020-01-31T00:00:00\",\"2020-02-01T00:00:00\",\"2020-02-02T00:00:00\",\"2020-02-03T00:00:00\",\"2020-02-04T00:00:00\",\"2020-02-05T00:00:00\",\"2020-02-06T00:00:00\",\"2020-02-07T00:00:00\",\"2020-02-08T00:00:00\",\"2020-02-09T00:00:00\",\"2020-02-10T00:00:00\",\"2020-02-11T00:00:00\",\"2020-02-12T00:00:00\",\"2020-02-13T00:00:00\",\"2020-02-14T00:00:00\",\"2020-02-15T00:00:00\",\"2020-02-16T00:00:00\",\"2020-02-17T00:00:00\",\"2020-02-18T00:00:00\",\"2020-02-19T00:00:00\",\"2020-02-20T00:00:00\",\"2020-02-21T00:00:00\",\"2020-02-22T00:00:00\",\"2020-02-23T00:00:00\",\"2020-02-24T00:00:00\",\"2020-02-25T00:00:00\",\"2020-02-26T00:00:00\",\"2020-02-27T00:00:00\",\"2020-02-28T00:00:00\",\"2020-02-29T00:00:00\",\"2020-03-01T00:00:00\",\"2020-03-02T00:00:00\",\"2020-03-03T00:00:00\",\"2020-03-04T00:00:00\",\"2020-03-05T00:00:00\",\"2020-03-06T00:00:00\",\"2020-03-07T00:00:00\",\"2020-03-08T00:00:00\",\"2020-03-09T00:00:00\",\"2020-03-10T00:00:00\",\"2020-03-11T00:00:00\",\"2020-03-12T00:00:00\",\"2020-03-13T00:00:00\",\"2020-03-14T00:00:00\",\"2020-03-15T00:00:00\",\"2020-03-16T00:00:00\",\"2020-03-17T00:00:00\",\"2020-03-18T00:00:00\",\"2020-03-19T00:00:00\",\"2020-03-20T00:00:00\",\"2020-03-21T00:00:00\",\"2020-03-22T00:00:00\",\"2020-03-23T00:00:00\",\"2020-03-24T00:00:00\",\"2020-03-25T00:00:00\",\"2020-03-26T00:00:00\",\"2020-03-27T00:00:00\",\"2020-03-28T00:00:00\",\"2020-03-29T00:00:00\",\"2020-03-30T00:00:00\",\"2020-03-31T00:00:00\",\"2020-04-01T00:00:00\",\"2020-04-02T00:00:00\",\"2020-04-03T00:00:00\",\"2020-04-04T00:00:00\",\"2020-04-05T00:00:00\",\"2020-04-06T00:00:00\",\"2020-04-07T00:00:00\",\"2020-04-08T00:00:00\",\"2020-04-09T00:00:00\",\"2020-04-10T00:00:00\",\"2020-04-11T00:00:00\",\"2020-04-12T00:00:00\",\"2020-04-13T00:00:00\",\"2020-04-14T00:00:00\",\"2020-04-15T00:00:00\",\"2020-04-16T00:00:00\",\"2020-04-17T00:00:00\",\"2020-04-18T00:00:00\",\"2020-04-19T00:00:00\",\"2020-04-20T00:00:00\",\"2020-04-21T00:00:00\",\"2020-04-22T00:00:00\",\"2020-04-23T00:00:00\",\"2020-04-24T00:00:00\",\"2020-04-25T00:00:00\",\"2020-04-26T00:00:00\",\"2020-04-27T00:00:00\",\"2020-04-28T00:00:00\",\"2020-04-29T00:00:00\",\"2020-04-30T00:00:00\",\"2020-05-01T00:00:00\",\"2020-05-02T00:00:00\",\"2020-05-03T00:00:00\",\"2020-05-04T00:00:00\",\"2020-05-05T00:00:00\",\"2020-05-06T00:00:00\",\"2020-05-07T00:00:00\",\"2020-05-08T00:00:00\",\"2020-05-09T00:00:00\",\"2020-05-10T00:00:00\",\"2020-05-11T00:00:00\",\"2020-05-12T00:00:00\",\"2020-05-13T00:00:00\",\"2020-05-14T00:00:00\",\"2020-05-15T00:00:00\",\"2020-05-16T00:00:00\",\"2020-05-17T00:00:00\",\"2020-05-18T00:00:00\",\"2020-05-19T00:00:00\",\"2020-05-20T00:00:00\",\"2020-05-21T00:00:00\",\"2020-05-22T00:00:00\",\"2020-05-23T00:00:00\",\"2020-05-24T00:00:00\",\"2020-05-25T00:00:00\",\"2020-05-26T00:00:00\",\"2020-05-27T00:00:00\",\"2020-05-28T00:00:00\",\"2020-05-29T00:00:00\",\"2020-05-30T00:00:00\",\"2020-05-31T00:00:00\",\"2020-06-01T00:00:00\",\"2020-06-02T00:00:00\",\"2020-06-03T00:00:00\",\"2020-06-04T00:00:00\",\"2020-06-05T00:00:00\",\"2020-06-06T00:00:00\",\"2020-06-07T00:00:00\",\"2020-06-08T00:00:00\",\"2020-06-09T00:00:00\",\"2020-06-10T00:00:00\",\"2020-06-11T00:00:00\",\"2020-06-12T00:00:00\",\"2020-06-13T00:00:00\",\"2020-06-14T00:00:00\",\"2020-06-15T00:00:00\",\"2020-06-16T00:00:00\",\"2020-06-17T00:00:00\",\"2020-06-18T00:00:00\",\"2020-06-19T00:00:00\",\"2020-06-20T00:00:00\",\"2020-06-21T00:00:00\",\"2020-06-22T00:00:00\",\"2020-06-23T00:00:00\",\"2020-06-24T00:00:00\",\"2020-06-25T00:00:00\",\"2020-06-26T00:00:00\",\"2020-06-27T00:00:00\",\"2020-06-28T00:00:00\",\"2020-06-29T00:00:00\",\"2020-06-30T00:00:00\",\"2020-07-01T00:00:00\",\"2020-07-02T00:00:00\",\"2020-07-03T00:00:00\",\"2020-07-04T00:00:00\",\"2020-07-05T00:00:00\",\"2020-07-06T00:00:00\",\"2020-07-07T00:00:00\",\"2020-07-08T00:00:00\",\"2020-07-09T00:00:00\",\"2020-07-10T00:00:00\",\"2020-07-11T00:00:00\",\"2020-07-12T00:00:00\",\"2020-07-13T00:00:00\",\"2020-07-14T00:00:00\",\"2020-07-15T00:00:00\",\"2020-07-16T00:00:00\",\"2020-07-17T00:00:00\",\"2020-07-18T00:00:00\",\"2020-07-19T00:00:00\",\"2020-07-20T00:00:00\",\"2020-07-21T00:00:00\",\"2020-07-22T00:00:00\",\"2020-07-23T00:00:00\",\"2020-07-24T00:00:00\",\"2020-07-25T00:00:00\",\"2020-07-26T00:00:00\",\"2020-07-27T00:00:00\",\"2020-07-28T00:00:00\",\"2020-07-29T00:00:00\",\"2020-07-30T00:00:00\",\"2020-07-31T00:00:00\",\"2020-08-01T00:00:00\",\"2020-08-02T00:00:00\",\"2020-08-03T00:00:00\",\"2020-08-04T00:00:00\",\"2020-08-05T00:00:00\",\"2020-08-06T00:00:00\",\"2020-08-07T00:00:00\",\"2020-08-08T00:00:00\",\"2020-08-09T00:00:00\",\"2020-08-10T00:00:00\",\"2020-08-11T00:00:00\",\"2020-08-12T00:00:00\",\"2020-08-13T00:00:00\",\"2020-08-14T00:00:00\",\"2020-08-15T00:00:00\",\"2020-08-16T00:00:00\",\"2020-08-17T00:00:00\",\"2020-08-18T00:00:00\",\"2020-08-19T00:00:00\",\"2020-08-20T00:00:00\",\"2020-08-21T00:00:00\",\"2020-08-22T00:00:00\",\"2020-08-23T00:00:00\",\"2020-08-24T00:00:00\",\"2020-08-25T00:00:00\",\"2020-08-26T00:00:00\",\"2020-08-27T00:00:00\",\"2020-08-28T00:00:00\",\"2020-08-29T00:00:00\",\"2020-08-30T00:00:00\",\"2020-08-31T00:00:00\",\"2020-09-01T00:00:00\",\"2020-09-02T00:00:00\",\"2020-09-03T00:00:00\",\"2020-09-04T00:00:00\",\"2020-09-05T00:00:00\",\"2020-09-06T00:00:00\",\"2020-09-07T00:00:00\",\"2020-09-08T00:00:00\",\"2020-09-09T00:00:00\",\"2020-09-10T00:00:00\",\"2020-09-11T00:00:00\",\"2020-09-12T00:00:00\",\"2020-09-13T00:00:00\",\"2020-09-14T00:00:00\",\"2020-09-15T00:00:00\",\"2020-09-16T00:00:00\",\"2020-09-17T00:00:00\",\"2020-09-18T00:00:00\",\"2020-09-19T00:00:00\",\"2020-09-20T00:00:00\",\"2020-09-21T00:00:00\",\"2020-09-22T00:00:00\",\"2020-09-23T00:00:00\",\"2020-09-24T00:00:00\",\"2020-09-25T00:00:00\",\"2020-09-26T00:00:00\",\"2020-09-27T00:00:00\",\"2020-09-28T00:00:00\",\"2020-09-29T00:00:00\",\"2020-09-30T00:00:00\",\"2020-10-01T00:00:00\",\"2020-10-02T00:00:00\",\"2020-10-03T00:00:00\",\"2020-10-04T00:00:00\",\"2020-10-05T00:00:00\",\"2020-10-06T00:00:00\",\"2020-10-07T00:00:00\",\"2020-10-08T00:00:00\",\"2020-10-09T00:00:00\",\"2020-10-10T00:00:00\",\"2020-10-11T00:00:00\",\"2020-10-12T00:00:00\",\"2020-10-13T00:00:00\",\"2020-10-14T00:00:00\",\"2020-10-15T00:00:00\",\"2020-10-16T00:00:00\",\"2020-10-17T00:00:00\",\"2020-10-18T00:00:00\",\"2020-10-19T00:00:00\",\"2020-10-20T00:00:00\",\"2020-10-21T00:00:00\",\"2020-10-22T00:00:00\",\"2020-10-23T00:00:00\",\"2020-10-24T00:00:00\",\"2020-10-25T00:00:00\",\"2020-10-26T00:00:00\",\"2020-10-27T00:00:00\",\"2020-10-28T00:00:00\",\"2020-10-29T00:00:00\",\"2020-10-30T00:00:00\",\"2020-10-31T00:00:00\",\"2020-11-01T00:00:00\",\"2020-11-02T00:00:00\",\"2020-11-03T00:00:00\",\"2020-11-04T00:00:00\",\"2020-11-05T00:00:00\",\"2020-11-06T00:00:00\",\"2020-11-07T00:00:00\",\"2020-11-08T00:00:00\",\"2020-11-09T00:00:00\",\"2020-11-10T00:00:00\",\"2020-11-11T00:00:00\",\"2020-11-12T00:00:00\",\"2020-11-13T00:00:00\",\"2020-11-14T00:00:00\",\"2020-11-15T00:00:00\",\"2020-11-16T00:00:00\",\"2020-11-17T00:00:00\",\"2020-11-18T00:00:00\",\"2020-11-19T00:00:00\",\"2020-11-20T00:00:00\",\"2020-11-21T00:00:00\",\"2020-11-22T00:00:00\",\"2020-11-23T00:00:00\",\"2020-11-24T00:00:00\",\"2020-11-25T00:00:00\",\"2020-11-26T00:00:00\",\"2020-11-27T00:00:00\",\"2020-11-28T00:00:00\",\"2020-11-29T00:00:00\",\"2020-11-30T00:00:00\",\"2020-12-01T00:00:00\",\"2020-12-02T00:00:00\",\"2020-12-03T00:00:00\",\"2020-12-04T00:00:00\",\"2020-12-05T00:00:00\",\"2020-12-06T00:00:00\",\"2020-12-07T00:00:00\",\"2020-12-08T00:00:00\",\"2020-12-09T00:00:00\",\"2020-12-10T00:00:00\",\"2020-12-11T00:00:00\",\"2020-12-12T00:00:00\",\"2020-12-13T00:00:00\",\"2020-12-14T00:00:00\",\"2020-12-15T00:00:00\",\"2020-12-16T00:00:00\",\"2020-12-17T00:00:00\",\"2020-12-18T00:00:00\",\"2020-12-19T00:00:00\",\"2020-12-20T00:00:00\",\"2020-12-21T00:00:00\",\"2020-12-22T00:00:00\",\"2020-12-23T00:00:00\",\"2020-12-24T00:00:00\",\"2020-12-25T00:00:00\",\"2020-12-26T00:00:00\",\"2020-12-27T00:00:00\",\"2020-12-28T00:00:00\",\"2020-12-29T00:00:00\",\"2020-12-30T00:00:00\"],\"xaxis\":\"x\",\"y\":[1.0,1.0,1.0,1.0,1.0,1.25,1.25,1.25,1.25,1.5,1.75,1.6,2.2,2.2,2.2,2.0,2.0,2.0,2.0,2.0,2.1666666666666665,2.1666666666666665,2.0,2.142857142857143,2.142857142857143,2.142857142857143,2.142857142857143,3.125,3.125,3.125,3.375,3.75,3.75,3.75,5.375,5.0,6.666666666666667,6.666666666666667,6.5,7.0,6.769230769230769,6.933333333333334,7.8125,9.470588235294118,10.857142857142858,11.107142857142858,12.969696969696969,15.628571428571428,20.216216216216218,26.102564102564102,28.066666666666666,35.48936170212766,43.6078431372549,55.73076923076923,67.9245283018868,85.0377358490566,109.37037037037037,154.62962962962962,229.5,333.55555555555554,454.22222222222223,612.4629629629629,805.6481481481482,998.8518518518518,1269.851851851852,1584.6296296296296,1905.5555555555557,2253.927272727273,2590.6545454545453,2981.0,3426.5636363636363,3916.2,4456.509090909091,5044.109090909091,5682.272727272727,6148.018181818182,6710.127272727273,7261.709090909091,7840.254545454545,8471.145454545454,9079.745454545455,9656.472727272727,10149.981818181817,10618.50909090909,11103.8,11649.854545454546,12224.636363636364,12797.527272727273,13313.854545454546,13774.472727272727,14272.563636363637,14736.454545454546,15260.654545454545,15874.763636363636,16542.78181818182,17168.381818181817,17654.47272727273,18076.236363636363,18524.436363636363,19007.254545454547,19559.2,20176.836363636365,20712.727272727272,21188.0,21587.30909090909,22018.381818181817,22463.945454545454,22981.727272727272,23484.418181818182,23936.563636363637,24305.963636363635,24626.345454545455,25031.8,25416.254545454547,25906.47272727273,26383.50909090909,26813.672727272726,27159.381818181817,27556.236363636363,27937.636363636364,28357.090909090908,28824.963636363635,29257.672727272726,29662.545454545456,30026.745454545453,30374.01818181818,30717.581818181818,31058.381818181817,31467.69090909091,31914.01818181818,32339.418181818182,32714.581818181818,33112.70909090909,33490.72727272727,33854.12727272727,34247.145454545454,34769.12727272727,35178.509090909094,35516.98181818182,35848.01818181818,36189.92727272727,36605.41818181818,37027.27272727273,37490.781818181815,37951.4,38299.218181818185,38664.98181818182,39117.43636363636,39583.89090909091,40094.05454545454,40654.70909090909,41236.98181818182,41716.6,42270.527272727275,42907.98181818182,43580.509090909094,44329.10909090909,45156.89090909091,45925.96363636364,46644.29090909091,47362.4,48242.2,49150.836363636365,50161.0,51200.163636363635,52109.36363636364,52923.30909090909,53783.6,54766.94545454546,55847.94545454546,56936.836363636365,58177.32727272727,59281.34545454545,60332.34545454545,61451.74545454545,62644.509090909094,63887.09090909091,65263.218181818185,66552.72727272728,67688.2,68820.47272727273,69909.34545454546,71096.2,72364.18181818182,73637.01818181819,74973.83636363636,76187.94545454545,77173.70909090909,78249.72727272728,79397.29090909091,80611.5090909091,81865.10909090909,83121.25454545455,84154.4909090909,85078.01818181819,85941.36363636363,86914.98181818181,87891.76363636364,88937.47272727273,90049.41818181818,91053.78181818181,91935.23636363636,92792.92727272728,93763.05454545455,94749.92727272728,95732.85454545454,96814.25454545455,97736.85454545454,98502.98181818181,99185.21818181819,99971.27272727272,100753.32727272727,101590.21818181819,102481.65454545454,103300.3090909091,103888.18181818182,104622.8,105335.21818181819,106159.2,106988.5090909091,107835.12727272727,108646.2,109254.0,109917.4,110718.29090909091,111308.18181818182,112151.76363636364,113099.05454545455,113867.29090909091,114412.70909090909,114870.27272727272,115396.4909090909,116002.52727272727,116694.54545454546,117559.4,118270.38181818182,118876.61818181818,119547.29090909091,120260.32727272727,120974.29090909091,121798.10909090909,122686.96363636364,123447.16363636364,124108.18181818182,125107.3090909091,125787.14545454546,126542.58181818182,127364.47272727273,128356.85454545454,129133.12727272727,129811.27272727272,130490.54545454546,131285.03636363638,132049.72727272726,132893.69090909092,133867.87272727274,134736.58181818182,135374.0909090909,136508.87272727274,137288.18181818182,138252.12727272726,139277.25454545455,140349.29090909092,141288.34545454546,142102.58181818182,142975.6,143964.56363636363,145052.8,146241.03636363638,147522.2,148481.4909090909,149352.07272727272,150541.8909090909,151643.6,152811.54545454544,154177.54545454544,155728.4,157157.1090909091,158242.83636363636,159599.8909090909,160952.3818181818,162441.14545454545,164089.67272727273,165905.45454545456,167436.4909090909,168785.4909090909,170494.69090909092,172174.9818181818,174140.03636363638,176346.3818181818,178761.34545454546,181051.0,182931.23636363636,185303.03636363638,187843.94545454546,190441.72727272726,193417.2,196717.12727272726,199608.63636363635,202066.56363636363,205094.9818181818,208033.72727272726,211166.0909090909,214575.32727272727,218190.94545454546,221317.0,223876.8909090909,227142.76363636364,230376.54545454544,233660.0,235532.6181818182,239275.14545454545,242028.0181818182,244502.96363636362,247551.29090909092,250900.8909090909,254558.56363636363,258517.43636363637,262724.12727272726,266464.2727272727,269590.10909090907,273308.7090909091,277303.5090909091,281298.34545454546,285393.34545454546,290493.58181818185,294266.89090909093,297616.32727272727,301268.7818181818,304962.4727272727,309413.87272727274,313735.85454545455,318302.94545454544,321828.4909090909,325099.6,328763.56363636366,332429.6909090909,336570.83636363636,340089.2181818182,341924.32727272727,345867.2545454545,348632.5090909091,352069.05454545456,355724.14545454545,359886.85454545455],\"yaxis\":\"y2\"},{\"marker\":{\"color\":\"#36B6D2\"},\"mode\":\"lines\",\"name\":\"Engagement Index\",\"showlegend\":false,\"type\":\"scatter\",\"x\":[\"2020-01-01T00:00:00\",\"2020-01-02T00:00:00\",\"2020-01-03T00:00:00\",\"2020-01-04T00:00:00\",\"2020-01-05T00:00:00\",\"2020-01-06T00:00:00\",\"2020-01-07T00:00:00\",\"2020-01-08T00:00:00\",\"2020-01-09T00:00:00\",\"2020-01-10T00:00:00\",\"2020-01-11T00:00:00\",\"2020-01-12T00:00:00\",\"2020-01-13T00:00:00\",\"2020-01-14T00:00:00\",\"2020-01-15T00:00:00\",\"2020-01-16T00:00:00\",\"2020-01-17T00:00:00\",\"2020-01-18T00:00:00\",\"2020-01-19T00:00:00\",\"2020-01-20T00:00:00\",\"2020-01-21T00:00:00\",\"2020-01-22T00:00:00\",\"2020-01-23T00:00:00\",\"2020-01-24T00:00:00\",\"2020-01-25T00:00:00\",\"2020-01-26T00:00:00\",\"2020-01-27T00:00:00\",\"2020-01-28T00:00:00\",\"2020-01-29T00:00:00\",\"2020-01-30T00:00:00\",\"2020-01-31T00:00:00\",\"2020-02-01T00:00:00\",\"2020-02-02T00:00:00\",\"2020-02-03T00:00:00\",\"2020-02-04T00:00:00\",\"2020-02-05T00:00:00\",\"2020-02-06T00:00:00\",\"2020-02-07T00:00:00\",\"2020-02-08T00:00:00\",\"2020-02-09T00:00:00\",\"2020-02-10T00:00:00\",\"2020-02-11T00:00:00\",\"2020-02-12T00:00:00\",\"2020-02-13T00:00:00\",\"2020-02-14T00:00:00\",\"2020-02-15T00:00:00\",\"2020-02-16T00:00:00\",\"2020-02-17T00:00:00\",\"2020-02-18T00:00:00\",\"2020-02-19T00:00:00\",\"2020-02-20T00:00:00\",\"2020-02-21T00:00:00\",\"2020-02-22T00:00:00\",\"2020-02-23T00:00:00\",\"2020-02-24T00:00:00\",\"2020-02-25T00:00:00\",\"2020-02-26T00:00:00\",\"2020-02-27T00:00:00\",\"2020-02-28T00:00:00\",\"2020-02-29T00:00:00\",\"2020-03-01T00:00:00\",\"2020-03-02T00:00:00\",\"2020-03-03T00:00:00\",\"2020-03-04T00:00:00\",\"2020-03-05T00:00:00\",\"2020-03-06T00:00:00\",\"2020-03-07T00:00:00\",\"2020-03-08T00:00:00\",\"2020-03-09T00:00:00\",\"2020-03-10T00:00:00\",\"2020-03-11T00:00:00\",\"2020-03-12T00:00:00\",\"2020-03-13T00:00:00\",\"2020-03-14T00:00:00\",\"2020-03-15T00:00:00\",\"2020-03-16T00:00:00\",\"2020-03-17T00:00:00\",\"2020-03-18T00:00:00\",\"2020-03-19T00:00:00\",\"2020-03-20T00:00:00\",\"2020-03-21T00:00:00\",\"2020-03-22T00:00:00\",\"2020-03-23T00:00:00\",\"2020-03-24T00:00:00\",\"2020-03-25T00:00:00\",\"2020-03-26T00:00:00\",\"2020-03-27T00:00:00\",\"2020-03-28T00:00:00\",\"2020-03-29T00:00:00\",\"2020-03-30T00:00:00\",\"2020-03-31T00:00:00\",\"2020-04-01T00:00:00\",\"2020-04-02T00:00:00\",\"2020-04-03T00:00:00\",\"2020-04-04T00:00:00\",\"2020-04-05T00:00:00\",\"2020-04-06T00:00:00\",\"2020-04-07T00:00:00\",\"2020-04-08T00:00:00\",\"2020-04-09T00:00:00\",\"2020-04-10T00:00:00\",\"2020-04-11T00:00:00\",\"2020-04-12T00:00:00\",\"2020-04-13T00:00:00\",\"2020-04-14T00:00:00\",\"2020-04-15T00:00:00\",\"2020-04-16T00:00:00\",\"2020-04-17T00:00:00\",\"2020-04-18T00:00:00\",\"2020-04-19T00:00:00\",\"2020-04-20T00:00:00\",\"2020-04-21T00:00:00\",\"2020-04-22T00:00:00\",\"2020-04-23T00:00:00\",\"2020-04-24T00:00:00\",\"2020-04-25T00:00:00\",\"2020-04-26T00:00:00\",\"2020-04-27T00:00:00\",\"2020-04-28T00:00:00\",\"2020-04-29T00:00:00\",\"2020-04-30T00:00:00\",\"2020-05-01T00:00:00\",\"2020-05-02T00:00:00\",\"2020-05-03T00:00:00\",\"2020-05-04T00:00:00\",\"2020-05-05T00:00:00\",\"2020-05-06T00:00:00\",\"2020-05-07T00:00:00\",\"2020-05-08T00:00:00\",\"2020-05-09T00:00:00\",\"2020-05-10T00:00:00\",\"2020-05-11T00:00:00\",\"2020-05-12T00:00:00\",\"2020-05-13T00:00:00\",\"2020-05-14T00:00:00\",\"2020-05-15T00:00:00\",\"2020-05-16T00:00:00\",\"2020-05-17T00:00:00\",\"2020-05-18T00:00:00\",\"2020-05-19T00:00:00\",\"2020-05-20T00:00:00\",\"2020-05-21T00:00:00\",\"2020-05-22T00:00:00\",\"2020-05-23T00:00:00\",\"2020-05-24T00:00:00\",\"2020-05-25T00:00:00\",\"2020-05-26T00:00:00\",\"2020-05-27T00:00:00\",\"2020-05-28T00:00:00\",\"2020-05-29T00:00:00\",\"2020-05-30T00:00:00\",\"2020-05-31T00:00:00\",\"2020-06-01T00:00:00\",\"2020-06-02T00:00:00\",\"2020-06-03T00:00:00\",\"2020-06-04T00:00:00\",\"2020-06-05T00:00:00\",\"2020-06-06T00:00:00\",\"2020-06-07T00:00:00\",\"2020-06-08T00:00:00\",\"2020-06-09T00:00:00\",\"2020-06-10T00:00:00\",\"2020-06-11T00:00:00\",\"2020-06-12T00:00:00\",\"2020-06-13T00:00:00\",\"2020-06-14T00:00:00\",\"2020-06-15T00:00:00\",\"2020-06-16T00:00:00\",\"2020-06-17T00:00:00\",\"2020-06-18T00:00:00\",\"2020-06-19T00:00:00\",\"2020-06-20T00:00:00\",\"2020-06-21T00:00:00\",\"2020-06-22T00:00:00\",\"2020-06-23T00:00:00\",\"2020-06-24T00:00:00\",\"2020-06-25T00:00:00\",\"2020-06-26T00:00:00\",\"2020-06-27T00:00:00\",\"2020-06-28T00:00:00\",\"2020-06-29T00:00:00\",\"2020-06-30T00:00:00\",\"2020-07-01T00:00:00\",\"2020-07-02T00:00:00\",\"2020-07-03T00:00:00\",\"2020-07-04T00:00:00\",\"2020-07-05T00:00:00\",\"2020-07-06T00:00:00\",\"2020-07-07T00:00:00\",\"2020-07-08T00:00:00\",\"2020-07-09T00:00:00\",\"2020-07-10T00:00:00\",\"2020-07-11T00:00:00\",\"2020-07-12T00:00:00\",\"2020-07-13T00:00:00\",\"2020-07-14T00:00:00\",\"2020-07-15T00:00:00\",\"2020-07-16T00:00:00\",\"2020-07-17T00:00:00\",\"2020-07-18T00:00:00\",\"2020-07-19T00:00:00\",\"2020-07-20T00:00:00\",\"2020-07-21T00:00:00\",\"2020-07-22T00:00:00\",\"2020-07-23T00:00:00\",\"2020-07-24T00:00:00\",\"2020-07-25T00:00:00\",\"2020-07-26T00:00:00\",\"2020-07-27T00:00:00\",\"2020-07-28T00:00:00\",\"2020-07-29T00:00:00\",\"2020-07-30T00:00:00\",\"2020-07-31T00:00:00\",\"2020-08-01T00:00:00\",\"2020-08-02T00:00:00\",\"2020-08-03T00:00:00\",\"2020-08-04T00:00:00\",\"2020-08-05T00:00:00\",\"2020-08-06T00:00:00\",\"2020-08-07T00:00:00\",\"2020-08-08T00:00:00\",\"2020-08-09T00:00:00\",\"2020-08-10T00:00:00\",\"2020-08-11T00:00:00\",\"2020-08-12T00:00:00\",\"2020-08-13T00:00:00\",\"2020-08-14T00:00:00\",\"2020-08-15T00:00:00\",\"2020-08-16T00:00:00\",\"2020-08-17T00:00:00\",\"2020-08-18T00:00:00\",\"2020-08-19T00:00:00\",\"2020-08-20T00:00:00\",\"2020-08-21T00:00:00\",\"2020-08-22T00:00:00\",\"2020-08-23T00:00:00\",\"2020-08-24T00:00:00\",\"2020-08-25T00:00:00\",\"2020-08-26T00:00:00\",\"2020-08-27T00:00:00\",\"2020-08-28T00:00:00\",\"2020-08-29T00:00:00\",\"2020-08-30T00:00:00\",\"2020-08-31T00:00:00\",\"2020-09-01T00:00:00\",\"2020-09-02T00:00:00\",\"2020-09-03T00:00:00\",\"2020-09-04T00:00:00\",\"2020-09-05T00:00:00\",\"2020-09-06T00:00:00\",\"2020-09-07T00:00:00\",\"2020-09-08T00:00:00\",\"2020-09-09T00:00:00\",\"2020-09-10T00:00:00\",\"2020-09-11T00:00:00\",\"2020-09-12T00:00:00\",\"2020-09-13T00:00:00\",\"2020-09-14T00:00:00\",\"2020-09-15T00:00:00\",\"2020-09-16T00:00:00\",\"2020-09-17T00:00:00\",\"2020-09-18T00:00:00\",\"2020-09-19T00:00:00\",\"2020-09-20T00:00:00\",\"2020-09-21T00:00:00\",\"2020-09-22T00:00:00\",\"2020-09-23T00:00:00\",\"2020-09-24T00:00:00\",\"2020-09-25T00:00:00\",\"2020-09-26T00:00:00\",\"2020-09-27T00:00:00\",\"2020-09-28T00:00:00\",\"2020-09-29T00:00:00\",\"2020-09-30T00:00:00\",\"2020-10-01T00:00:00\",\"2020-10-02T00:00:00\",\"2020-10-03T00:00:00\",\"2020-10-04T00:00:00\",\"2020-10-05T00:00:00\",\"2020-10-06T00:00:00\",\"2020-10-07T00:00:00\",\"2020-10-08T00:00:00\",\"2020-10-09T00:00:00\",\"2020-10-10T00:00:00\",\"2020-10-11T00:00:00\",\"2020-10-12T00:00:00\",\"2020-10-13T00:00:00\",\"2020-10-14T00:00:00\",\"2020-10-15T00:00:00\",\"2020-10-16T00:00:00\",\"2020-10-17T00:00:00\",\"2020-10-18T00:00:00\",\"2020-10-19T00:00:00\",\"2020-10-20T00:00:00\",\"2020-10-21T00:00:00\",\"2020-10-22T00:00:00\",\"2020-10-23T00:00:00\",\"2020-10-24T00:00:00\",\"2020-10-25T00:00:00\",\"2020-10-26T00:00:00\",\"2020-10-27T00:00:00\",\"2020-10-28T00:00:00\",\"2020-10-29T00:00:00\",\"2020-10-30T00:00:00\",\"2020-10-31T00:00:00\",\"2020-11-01T00:00:00\",\"2020-11-02T00:00:00\",\"2020-11-03T00:00:00\",\"2020-11-04T00:00:00\",\"2020-11-05T00:00:00\",\"2020-11-06T00:00:00\",\"2020-11-07T00:00:00\",\"2020-11-08T00:00:00\",\"2020-11-09T00:00:00\",\"2020-11-10T00:00:00\",\"2020-11-11T00:00:00\",\"2020-11-12T00:00:00\",\"2020-11-13T00:00:00\",\"2020-11-14T00:00:00\",\"2020-11-15T00:00:00\",\"2020-11-16T00:00:00\",\"2020-11-17T00:00:00\",\"2020-11-18T00:00:00\",\"2020-11-19T00:00:00\",\"2020-11-20T00:00:00\",\"2020-11-21T00:00:00\",\"2020-11-22T00:00:00\",\"2020-11-23T00:00:00\",\"2020-11-24T00:00:00\",\"2020-11-25T00:00:00\",\"2020-11-26T00:00:00\",\"2020-11-27T00:00:00\",\"2020-11-28T00:00:00\",\"2020-11-29T00:00:00\",\"2020-11-30T00:00:00\",\"2020-12-01T00:00:00\",\"2020-12-02T00:00:00\",\"2020-12-03T00:00:00\",\"2020-12-04T00:00:00\",\"2020-12-05T00:00:00\",\"2020-12-06T00:00:00\",\"2020-12-07T00:00:00\",\"2020-12-08T00:00:00\",\"2020-12-09T00:00:00\",\"2020-12-10T00:00:00\",\"2020-12-11T00:00:00\",\"2020-12-12T00:00:00\",\"2020-12-13T00:00:00\",\"2020-12-14T00:00:00\",\"2020-12-15T00:00:00\",\"2020-12-16T00:00:00\",\"2020-12-17T00:00:00\",\"2020-12-18T00:00:00\",\"2020-12-19T00:00:00\",\"2020-12-20T00:00:00\",\"2020-12-21T00:00:00\",\"2020-12-22T00:00:00\",\"2020-12-23T00:00:00\",\"2020-12-24T00:00:00\",\"2020-12-25T00:00:00\",\"2020-12-26T00:00:00\",\"2020-12-27T00:00:00\",\"2020-12-28T00:00:00\",\"2020-12-29T00:00:00\",\"2020-12-30T00:00:00\",\"2020-12-31T00:00:00\"],\"xaxis\":\"x2\",\"y\":[16.770189822938267,85.26234887154608,88.26327662178703,17.528291609353506,23.879479179167166,114.57364014608665,119.16312158636993,124.81071715556249,129.12457124677172,126.37062821972255,19.93999393694422,28.560770910780672,126.60170120122987,128.64213170272814,127.86309610380023,132.40857557502738,116.85341805524088,17.79960803452173,18.47410520607375,38.49788504342513,126.34921208882555,125.55712397157816,128.82883898524463,118.41035195148194,17.801630386052302,23.701606965878522,124.37537379561196,127.13638705307288,128.55041896341575,130.04735281919977,123.94775145594589,19.333508901347496,23.964155825924195,121.75566901477929,131.41793544155706,125.48961617571439,123.65002986082722,120.01060920825672,19.95259579035796,26.775322510255737,128.70101707537634,128.27418610656795,215.4140998494334,220.62888080701694,183.86486782062886,30.97849085216711,32.22789987228608,97.81250502080046,194.24115864330588,208.43538814327616,215.71889454369202,209.77026874039242,35.23178503590456,48.86460475889661,216.57508233319612,222.24354538826103,207.47856858502814,215.8115201271952,194.70871129719805,36.029682814545765,46.032591000512674,212.95647689502013,218.45389719497453,210.6622568054868,219.7437258717871,206.78286386317183,34.92435720668964,46.203467105524055,207.75082015468948,219.5918391691395,211.94010834331104,215.34402160755354,183.6755663744349,47.38648813535275,41.65234519892312,146.40277474723723,178.47052312474008,232.71878919411742,232.2541631429536,202.7769986171596,63.22868311457047,53.286675153058134,230.92931951263864,230.53802931362347,235.04380803917425,222.04964429938596,189.47727137290855,58.006311572381165,57.37332264345436,243.79519790444115,232.8531317790167,233.9682200030622,234.21533528195135,208.29275163398694,60.55883687868576,55.15011052513465,242.07795208836959,240.54456759594865,244.14577770293027,229.22385277694184,129.23167646224312,167.28094044588659,135.5463564499874,189.4648944970207,212.6044934346035,214.06278726708075,214.6248659820448,180.26672281410728,64.06963595218183,55.341078369734575,221.81189391746275,237.26088413027983,228.2569832696207,227.01041128463166,194.96790346021325,64.79398418641313,61.89648643631831,229.4687679531475,226.46880168228344,221.29449572467192,220.1484974503387,187.37776805324458,61.97751615644069,56.51994638897466,216.15296248154567,221.79883166028057,215.40681802355027,210.3376410280864,180.03699682751713,69.11680517591594,57.41011151662612,211.43175241829223,208.6855373813133,200.79192215327586,194.70273379659696,167.46791682537483,62.850791286240586,60.60826252662258,189.03966844901575,186.32177614113215,179.36863859065747,180.17781806733583,148.236503464396,52.10632151654039,39.00332490894224,51.45688720836686,166.69053832702483,167.99762374240964,175.75940853506364,154.18885947792143,51.77555846391051,48.13445694200352,163.312614071752,152.51003043213632,151.25882988139495,147.92747903536642,130.33628629776757,48.760188226533735,47.81054764083127,142.66300566468448,126.42937910883857,121.11619950774578,119.8428038277512,98.26995740574358,40.22612952236255,35.271485368314835,86.11685458061075,73.82609194218423,70.34364254527235,69.97593706161138,56.667332315133,35.39781540542064,34.33210653606626,49.32578567792296,48.289607193563654,46.409822943402794,44.69112331569352,41.57343097433937,33.801397797701426,33.334351492767006,41.27093061846885,42.351593579051205,40.70673147637434,38.77731002082627,33.09707591592971,30.2658777385159,29.50809622850804,42.247105345281085,43.70154392539655,43.92771466083151,43.18344773370468,39.23856629766298,32.23478765201123,30.555470474967905,41.516420982142854,42.079340765027325,42.17036692081095,40.955719108110515,36.23353677621283,30.769007575757577,30.770911586338972,40.691797650900185,41.319727012778124,41.711310556760665,41.324831173571816,35.004716025378634,29.761002060793405,29.888822635023466,37.97812960442964,40.61239779659474,40.44865045758776,44.66196435117302,41.97014717661194,31.866509031610637,32.50052389764534,44.601688895262676,45.07383813611281,45.42028275997256,47.629422454207145,51.75553964091184,32.60388167388167,30.60363855124329,61.84618959842001,64.33721106061249,84.26886201253342,93.50080751787223,100.47845207026837,39.51733034773446,38.16576100060277,114.32245243406378,130.87631183257642,151.00570995266037,163.43245201072386,159.7416580198876,45.64941885356378,47.250258610781195,205.84175239169576,203.34451488550417,197.0983734065191,211.4903519827851,201.77333359926604,50.968981164383564,51.665530777795446,235.91892283873722,242.5424439642175,242.1168797446932,230.23206954865614,233.4927115447266,52.670541034710155,46.93739631869403,60.83253607740243,254.196125631011,233.42632091613135,235.18006601761437,218.74522697223446,61.57341837127532,67.5946694992876,234.6464019592664,243.48554924948562,247.3687579663547,263.043770904185,243.24650367652498,65.74789716780023,72.26096401385833,249.5924633160842,255.40329121565077,244.45337671718082,282.8792252254635,291.41651471815857,65.81740785940933,72.11006147293013,304.3198998492944,242.8697824758159,235.69429856306547,244.48968273671287,226.93636045360077,66.69329277968792,72.81560931049209,241.71015836606873,238.63053105781887,235.04634572853274,245.0437803384172,233.94350519726805,69.28086577360044,67.32268757355826,187.11443278739185,232.75536717460403,214.54736725724868,228.46987449542328,268.76357335759997,72.77283991378916,76.88547237549092,227.81002727831017,238.52443660244705,234.37531477406205,240.89438004955292,228.4344897169394,70.26655496300566,77.05218730046116,236.4607696585022,231.93807918644785,230.0774625242413,236.57741322567324,233.8685778995797,65.9817750213858,70.52280829511666,220.50983131891877,183.72117274600097,216.4634397044004,219.48087482162674,225.66666960595933,70.62998554782766,70.33099650226531,214.539617749373,221.30530961106814,214.30405170456822,216.39168970314796,233.89357741655164,71.60043353926083,72.6161500996738,211.3518847039496,225.44852662503655,233.50088174339007,222.38727061262674,233.98538195023673,73.07617533522958,73.48471407932144,246.0461815003313,268.4754786009486,67.82579801899317,57.747157760611614,51.34010680554329,52.2557509994289,60.66966175612972,231.80734280134448,254.50235909689124,230.40892398362058,235.9654415084977,238.43511956105652,71.2028807066085,71.29788127593247,231.5978676094629,246.06439289562576,239.4075934195353,250.76979458550932,236.24302529122667,72.30202331703647,72.62721303978572,227.7313282854371,240.14845220579068,263.4667913896089,244.95900567087665,256.79968493301726,69.06303038889283,64.80657814552141,223.2420342812331,218.0765508699855,151.10499722000628,51.1728854438753,37.90119468195058,36.847772879091515,40.23063469136327,42.76873856004454,43.842840176794084,44.39114505125305,43.049106041703794],\"yaxis\":\"y3\"},{\"marker\":{\"color\":\"#E76a5d\"},\"mode\":\"lines\",\"name\":\"COVID Cases\",\"showlegend\":false,\"type\":\"scatter\",\"x\":[\"2020-01-21T00:00:00\",\"2020-01-22T00:00:00\",\"2020-01-23T00:00:00\",\"2020-01-24T00:00:00\",\"2020-01-25T00:00:00\",\"2020-01-26T00:00:00\",\"2020-01-27T00:00:00\",\"2020-01-28T00:00:00\",\"2020-01-29T00:00:00\",\"2020-01-30T00:00:00\",\"2020-01-31T00:00:00\",\"2020-02-01T00:00:00\",\"2020-02-02T00:00:00\",\"2020-02-03T00:00:00\",\"2020-02-04T00:00:00\",\"2020-02-05T00:00:00\",\"2020-02-06T00:00:00\",\"2020-02-07T00:00:00\",\"2020-02-08T00:00:00\",\"2020-02-09T00:00:00\",\"2020-02-10T00:00:00\",\"2020-02-11T00:00:00\",\"2020-02-12T00:00:00\",\"2020-02-13T00:00:00\",\"2020-02-14T00:00:00\",\"2020-02-15T00:00:00\",\"2020-02-16T00:00:00\",\"2020-02-17T00:00:00\",\"2020-02-18T00:00:00\",\"2020-02-19T00:00:00\",\"2020-02-20T00:00:00\",\"2020-02-21T00:00:00\",\"2020-02-22T00:00:00\",\"2020-02-23T00:00:00\",\"2020-02-24T00:00:00\",\"2020-02-25T00:00:00\",\"2020-02-26T00:00:00\",\"2020-02-27T00:00:00\",\"2020-02-28T00:00:00\",\"2020-02-29T00:00:00\",\"2020-03-01T00:00:00\",\"2020-03-02T00:00:00\",\"2020-03-03T00:00:00\",\"2020-03-04T00:00:00\",\"2020-03-05T00:00:00\",\"2020-03-06T00:00:00\",\"2020-03-07T00:00:00\",\"2020-03-08T00:00:00\",\"2020-03-09T00:00:00\",\"2020-03-10T00:00:00\",\"2020-03-11T00:00:00\",\"2020-03-12T00:00:00\",\"2020-03-13T00:00:00\",\"2020-03-14T00:00:00\",\"2020-03-15T00:00:00\",\"2020-03-16T00:00:00\",\"2020-03-17T00:00:00\",\"2020-03-18T00:00:00\",\"2020-03-19T00:00:00\",\"2020-03-20T00:00:00\",\"2020-03-21T00:00:00\",\"2020-03-22T00:00:00\",\"2020-03-23T00:00:00\",\"2020-03-24T00:00:00\",\"2020-03-25T00:00:00\",\"2020-03-26T00:00:00\",\"2020-03-27T00:00:00\",\"2020-03-28T00:00:00\",\"2020-03-29T00:00:00\",\"2020-03-30T00:00:00\",\"2020-03-31T00:00:00\",\"2020-04-01T00:00:00\",\"2020-04-02T00:00:00\",\"2020-04-03T00:00:00\",\"2020-04-04T00:00:00\",\"2020-04-05T00:00:00\",\"2020-04-06T00:00:00\",\"2020-04-07T00:00:00\",\"2020-04-08T00:00:00\",\"2020-04-09T00:00:00\",\"2020-04-10T00:00:00\",\"2020-04-11T00:00:00\",\"2020-04-12T00:00:00\",\"2020-04-13T00:00:00\",\"2020-04-14T00:00:00\",\"2020-04-15T00:00:00\",\"2020-04-16T00:00:00\",\"2020-04-17T00:00:00\",\"2020-04-18T00:00:00\",\"2020-04-19T00:00:00\",\"2020-04-20T00:00:00\",\"2020-04-21T00:00:00\",\"2020-04-22T00:00:00\",\"2020-04-23T00:00:00\",\"2020-04-24T00:00:00\",\"2020-04-25T00:00:00\",\"2020-04-26T00:00:00\",\"2020-04-27T00:00:00\",\"2020-04-28T00:00:00\",\"2020-04-29T00:00:00\",\"2020-04-30T00:00:00\",\"2020-05-01T00:00:00\",\"2020-05-02T00:00:00\",\"2020-05-03T00:00:00\",\"2020-05-04T00:00:00\",\"2020-05-05T00:00:00\",\"2020-05-06T00:00:00\",\"2020-05-07T00:00:00\",\"2020-05-08T00:00:00\",\"2020-05-09T00:00:00\",\"2020-05-10T00:00:00\",\"2020-05-11T00:00:00\",\"2020-05-12T00:00:00\",\"2020-05-13T00:00:00\",\"2020-05-14T00:00:00\",\"2020-05-15T00:00:00\",\"2020-05-16T00:00:00\",\"2020-05-17T00:00:00\",\"2020-05-18T00:00:00\",\"2020-05-19T00:00:00\",\"2020-05-20T00:00:00\",\"2020-05-21T00:00:00\",\"2020-05-22T00:00:00\",\"2020-05-23T00:00:00\",\"2020-05-24T00:00:00\",\"2020-05-25T00:00:00\",\"2020-05-26T00:00:00\",\"2020-05-27T00:00:00\",\"2020-05-28T00:00:00\",\"2020-05-29T00:00:00\",\"2020-05-30T00:00:00\",\"2020-05-31T00:00:00\",\"2020-06-01T00:00:00\",\"2020-06-02T00:00:00\",\"2020-06-03T00:00:00\",\"2020-06-04T00:00:00\",\"2020-06-05T00:00:00\",\"2020-06-06T00:00:00\",\"2020-06-07T00:00:00\",\"2020-06-08T00:00:00\",\"2020-06-09T00:00:00\",\"2020-06-10T00:00:00\",\"2020-06-11T00:00:00\",\"2020-06-12T00:00:00\",\"2020-06-13T00:00:00\",\"2020-06-14T00:00:00\",\"2020-06-15T00:00:00\",\"2020-06-16T00:00:00\",\"2020-06-17T00:00:00\",\"2020-06-18T00:00:00\",\"2020-06-19T00:00:00\",\"2020-06-20T00:00:00\",\"2020-06-21T00:00:00\",\"2020-06-22T00:00:00\",\"2020-06-23T00:00:00\",\"2020-06-24T00:00:00\",\"2020-06-25T00:00:00\",\"2020-06-26T00:00:00\",\"2020-06-27T00:00:00\",\"2020-06-28T00:00:00\",\"2020-06-29T00:00:00\",\"2020-06-30T00:00:00\",\"2020-07-01T00:00:00\",\"2020-07-02T00:00:00\",\"2020-07-03T00:00:00\",\"2020-07-04T00:00:00\",\"2020-07-05T00:00:00\",\"2020-07-06T00:00:00\",\"2020-07-07T00:00:00\",\"2020-07-08T00:00:00\",\"2020-07-09T00:00:00\",\"2020-07-10T00:00:00\",\"2020-07-11T00:00:00\",\"2020-07-12T00:00:00\",\"2020-07-13T00:00:00\",\"2020-07-14T00:00:00\",\"2020-07-15T00:00:00\",\"2020-07-16T00:00:00\",\"2020-07-17T00:00:00\",\"2020-07-18T00:00:00\",\"2020-07-19T00:00:00\",\"2020-07-20T00:00:00\",\"2020-07-21T00:00:00\",\"2020-07-22T00:00:00\",\"2020-07-23T00:00:00\",\"2020-07-24T00:00:00\",\"2020-07-25T00:00:00\",\"2020-07-26T00:00:00\",\"2020-07-27T00:00:00\",\"2020-07-28T00:00:00\",\"2020-07-29T00:00:00\",\"2020-07-30T00:00:00\",\"2020-07-31T00:00:00\",\"2020-08-01T00:00:00\",\"2020-08-02T00:00:00\",\"2020-08-03T00:00:00\",\"2020-08-04T00:00:00\",\"2020-08-05T00:00:00\",\"2020-08-06T00:00:00\",\"2020-08-07T00:00:00\",\"2020-08-08T00:00:00\",\"2020-08-09T00:00:00\",\"2020-08-10T00:00:00\",\"2020-08-11T00:00:00\",\"2020-08-12T00:00:00\",\"2020-08-13T00:00:00\",\"2020-08-14T00:00:00\",\"2020-08-15T00:00:00\",\"2020-08-16T00:00:00\",\"2020-08-17T00:00:00\",\"2020-08-18T00:00:00\",\"2020-08-19T00:00:00\",\"2020-08-20T00:00:00\",\"2020-08-21T00:00:00\",\"2020-08-22T00:00:00\",\"2020-08-23T00:00:00\",\"2020-08-24T00:00:00\",\"2020-08-25T00:00:00\",\"2020-08-26T00:00:00\",\"2020-08-27T00:00:00\",\"2020-08-28T00:00:00\",\"2020-08-29T00:00:00\",\"2020-08-30T00:00:00\",\"2020-08-31T00:00:00\",\"2020-09-01T00:00:00\",\"2020-09-02T00:00:00\",\"2020-09-03T00:00:00\",\"2020-09-04T00:00:00\",\"2020-09-05T00:00:00\",\"2020-09-06T00:00:00\",\"2020-09-07T00:00:00\",\"2020-09-08T00:00:00\",\"2020-09-09T00:00:00\",\"2020-09-10T00:00:00\",\"2020-09-11T00:00:00\",\"2020-09-12T00:00:00\",\"2020-09-13T00:00:00\",\"2020-09-14T00:00:00\",\"2020-09-15T00:00:00\",\"2020-09-16T00:00:00\",\"2020-09-17T00:00:00\",\"2020-09-18T00:00:00\",\"2020-09-19T00:00:00\",\"2020-09-20T00:00:00\",\"2020-09-21T00:00:00\",\"2020-09-22T00:00:00\",\"2020-09-23T00:00:00\",\"2020-09-24T00:00:00\",\"2020-09-25T00:00:00\",\"2020-09-26T00:00:00\",\"2020-09-27T00:00:00\",\"2020-09-28T00:00:00\",\"2020-09-29T00:00:00\",\"2020-09-30T00:00:00\",\"2020-10-01T00:00:00\",\"2020-10-02T00:00:00\",\"2020-10-03T00:00:00\",\"2020-10-04T00:00:00\",\"2020-10-05T00:00:00\",\"2020-10-06T00:00:00\",\"2020-10-07T00:00:00\",\"2020-10-08T00:00:00\",\"2020-10-09T00:00:00\",\"2020-10-10T00:00:00\",\"2020-10-11T00:00:00\",\"2020-10-12T00:00:00\",\"2020-10-13T00:00:00\",\"2020-10-14T00:00:00\",\"2020-10-15T00:00:00\",\"2020-10-16T00:00:00\",\"2020-10-17T00:00:00\",\"2020-10-18T00:00:00\",\"2020-10-19T00:00:00\",\"2020-10-20T00:00:00\",\"2020-10-21T00:00:00\",\"2020-10-22T00:00:00\",\"2020-10-23T00:00:00\",\"2020-10-24T00:00:00\",\"2020-10-25T00:00:00\",\"2020-10-26T00:00:00\",\"2020-10-27T00:00:00\",\"2020-10-28T00:00:00\",\"2020-10-29T00:00:00\",\"2020-10-30T00:00:00\",\"2020-10-31T00:00:00\",\"2020-11-01T00:00:00\",\"2020-11-02T00:00:00\",\"2020-11-03T00:00:00\",\"2020-11-04T00:00:00\",\"2020-11-05T00:00:00\",\"2020-11-06T00:00:00\",\"2020-11-07T00:00:00\",\"2020-11-08T00:00:00\",\"2020-11-09T00:00:00\",\"2020-11-10T00:00:00\",\"2020-11-11T00:00:00\",\"2020-11-12T00:00:00\",\"2020-11-13T00:00:00\",\"2020-11-14T00:00:00\",\"2020-11-15T00:00:00\",\"2020-11-16T00:00:00\",\"2020-11-17T00:00:00\",\"2020-11-18T00:00:00\",\"2020-11-19T00:00:00\",\"2020-11-20T00:00:00\",\"2020-11-21T00:00:00\",\"2020-11-22T00:00:00\",\"2020-11-23T00:00:00\",\"2020-11-24T00:00:00\",\"2020-11-25T00:00:00\",\"2020-11-26T00:00:00\",\"2020-11-27T00:00:00\",\"2020-11-28T00:00:00\",\"2020-11-29T00:00:00\",\"2020-11-30T00:00:00\",\"2020-12-01T00:00:00\",\"2020-12-02T00:00:00\",\"2020-12-03T00:00:00\",\"2020-12-04T00:00:00\",\"2020-12-05T00:00:00\",\"2020-12-06T00:00:00\",\"2020-12-07T00:00:00\",\"2020-12-08T00:00:00\",\"2020-12-09T00:00:00\",\"2020-12-10T00:00:00\",\"2020-12-11T00:00:00\",\"2020-12-12T00:00:00\",\"2020-12-13T00:00:00\",\"2020-12-14T00:00:00\",\"2020-12-15T00:00:00\",\"2020-12-16T00:00:00\",\"2020-12-17T00:00:00\",\"2020-12-18T00:00:00\",\"2020-12-19T00:00:00\",\"2020-12-20T00:00:00\",\"2020-12-21T00:00:00\",\"2020-12-22T00:00:00\",\"2020-12-23T00:00:00\",\"2020-12-24T00:00:00\",\"2020-12-25T00:00:00\",\"2020-12-26T00:00:00\",\"2020-12-27T00:00:00\",\"2020-12-28T00:00:00\",\"2020-12-29T00:00:00\",\"2020-12-30T00:00:00\"],\"xaxis\":\"x2\",\"y\":[1.0,0.0,0.0,0.0,0.0,0.25,0.0,0.0,0.0,0.25,0.25,0.1499999999999999,0.6000000000000001,0.0,0.0,0.20000000000000018,0.0,0.0,0.0,0.0,0.16666666666666652,0.0,0.16666666666666652,0.1428571428571428,0.0,0.0,0.0,0.9821428571428572,0.0,0.0,0.25,0.375,0.0,0.0,1.625,0.375,1.666666666666667,0.0,0.16666666666666696,0.5,0.23076923076923084,0.1641025641025644,0.8791666666666664,1.6580882352941178,1.38655462184874,0.25,1.8625541125541112,2.6588744588744593,4.5876447876447894,5.886347886347885,1.9641025641025642,7.422695035460993,8.118481435127244,12.12292609351433,12.193759071117562,17.113207547169807,24.332634521313764,45.25925925925925,74.87037037037038,104.05555555555554,120.66666666666669,158.2407407407407,193.18518518518522,193.2037037037037,271.0000000000001,314.7777777777776,320.9259259259261,348.37171717171714,336.7272727272725,390.3454545454547,445.5636363636363,489.6363636363635,540.3090909090915,587.5999999999995,638.1636363636362,465.7454545454548,562.1090909090908,551.5818181818186,578.545454545454,630.8909090909092,608.6000000000004,576.7272727272721,493.50909090909045,468.52727272727316,485.2909090909088,546.0545454545463,574.7818181818184,572.8909090909092,516.3272727272724,460.61818181818126,498.0909090909099,463.8909090909092,524.1999999999989,614.1090909090908,668.0181818181827,625.5999999999985,486.09090909091174,421.76363636363385,448.2000000000007,482.8181818181838,551.9454545454537,617.636363636364,535.8909090909074,475.27272727272793,399.3090909090897,431.0727272727272,445.56363636363676,517.7818181818184,502.6909090909103,452.1454545454544,369.3999999999978,320.38181818182056,405.45454545454413,384.45454545454777,490.2181818181816,477.0363636363618,430.1636363636353,345.7090909090912,396.8545454545456,381.40000000000146,419.45454545454413,467.8727272727265,432.7090909090912,404.8727272727301,364.1999999999971,347.27272727272793,343.56363636363676,340.7999999999993,409.30909090909336,446.3272727272706,425.40000000000146,375.1636363636353,398.1272727272735,378.0181818181809,363.40000000000146,393.0181818181809,521.9818181818191,409.38181818182056,338.472727272725,331.0363636363618,341.90909090908826,415.4909090909132,421.8545454545456,463.5090909090868,460.6181818181867,347.8181818181838,365.76363636363385,452.45454545454413,466.45454545454413,510.1636363636353,560.6545454545485,582.2727272727279,479.61818181817944,553.9272727272764,637.4545454545441,672.527272727275,748.5999999999985,827.7818181818147,769.0727272727308,718.3272727272706,718.1090909090926,879.7999999999956,908.6363636363676,1010.1636363636353,1039.1636363636353,909.2000000000044,813.94545454545,860.2909090909088,983.3454545454588,1081.0,1088.8909090909074,1240.490909090906,1104.018181818181,1051.0,1119.4000000000015,1192.7636363636411,1242.5818181818177,1376.1272727272735,1289.509090909094,1135.4727272727177,1132.2727272727352,1088.8727272727265,1186.8545454545383,1267.9818181818264,1272.8363636363647,1336.8181818181765,1214.1090909090854,985.7636363636411,1076.0181818181882,1147.5636363636295,1214.2181818181853,1253.5999999999913,1256.1454545454617,1033.2363636363589,923.5272727272823,863.3454545454442,973.6181818181794,976.7818181818293,1045.7090909090912,1111.94545454545,1004.3636363636324,881.4545454545441,857.6909090909176,970.1272727272735,986.8727272727265,982.9272727272619,1081.4000000000087,922.5999999999913,766.1272727272735,682.2363636363734,786.0545454545354,782.05454545455,836.8909090909146,891.436363636356,818.6545454545558,587.8727272727265,734.6181818181794,712.4181818181823,823.9818181818118,829.309090909097,846.6181818181794,811.0727272727236,607.8000000000029,663.3999999999942,800.8909090909146,589.8909090909146,843.5818181818177,947.2909090909088,768.2363636363589,545.4181818181823,457.5636363636295,526.2181818181853,606.0363636363618,692.0181818181882,864.8545454545383,710.9818181818264,606.2363636363589,670.6727272727294,713.0363636363618,713.9636363636382,823.8181818181765,888.8545454545529,760.1999999999971,661.0181818181882,999.1272727272735,679.8363636363647,755.436363636356,821.8909090909146,992.381818181806,776.2727272727352,678.1454545454471,679.2727272727352,794.4909090909205,764.6909090908885,843.9636363636528,974.1818181818235,868.7090909090766,637.5090909090941,1134.7818181818293,779.3090909090824,963.9454545454355,1025.127272727288,1072.0363636363763,939.0545454545354,814.2363636363589,873.0181818181882,988.9636363636237,1088.2363636363589,1188.236363636388,1281.1636363636353,959.2909090908943,870.5818181818177,1189.8181818181765,1101.7090909091057,1167.9454545454355,1366.0,1550.8545454545529,1428.7090909091057,1085.7272727272648,1357.0545454545354,1352.490909090906,1488.7636363636411,1648.5272727272823,1815.7818181818293,1531.0363636363472,1349.0,1709.2000000000116,1680.2909090908943,1965.0545454545645,2206.3454545454297,2414.9636363636528,2289.654545454541,1880.2363636363589,2371.8000000000175,2540.9090909090883,2597.7818181818,2975.472727272747,3299.9272727272473,2891.509090909094,2457.9272727272764,3028.4181818181823,2938.745454545453,3132.363636363647,3409.236363636359,3615.618181818194,3126.0545454545354,2559.8909090909,3265.872727272741,3233.7818181818,3283.4545454545587,1872.618181818194,3742.527272727253,2752.872727272741,2474.9454545454355,3048.3272727272997,3349.5999999999767,3657.6727272727294,3958.872727272741,4206.690909090888,3740.145454545447,3125.8363636363647,3718.600000000035,3994.7999999999884,3994.8363636363647,4095.0,5100.236363636388,3773.3090909090824,3349.4363636363414,3652.4545454545296,3693.6909090909176,4451.400000000023,4321.981818181812,4567.090909090883,3525.5454545454704,3271.109090909071,3663.963636363682,3666.127272727259,4141.145454545447,3518.381818181835,1835.1090909090708,3942.9272727272473,2765.254545454576,3436.5454545454704,3655.0909090908826,4162.709090909106],\"yaxis\":\"y4\"}],                        {\"annotations\":[{\"font\":{\"size\":16},\"showarrow\":false,\"text\":\"Engagement Index VS Cumulative Cases - Over Time (US)\",\"x\":0.47,\"xanchor\":\"center\",\"xref\":\"paper\",\"y\":1.0,\"yanchor\":\"bottom\",\"yref\":\"paper\"},{\"font\":{\"size\":16},\"showarrow\":false,\"text\":\"Engagement Index VS New Cases Daily - Over Time (US)\",\"x\":0.47,\"xanchor\":\"center\",\"xref\":\"paper\",\"y\":0.375,\"yanchor\":\"bottom\",\"yref\":\"paper\"}],\"autosize\":false,\"height\":750,\"plot_bgcolor\":\"#E6EFF1\",\"shapes\":[{\"line\":{\"color\":\"#9B9B9B\",\"dash\":\"dash\",\"width\":2},\"type\":\"line\",\"x0\":\"2020-01-21T00:00:00\",\"x1\":\"2020-01-21T00:00:00\",\"xref\":\"x\",\"y0\":0,\"y1\":1,\"yref\":\"y domain\"},{\"line\":{\"color\":\"#9B9B9B\",\"dash\":\"dash\",\"width\":2},\"type\":\"line\",\"x0\":\"2020-01-21T00:00:00\",\"x1\":\"2020-01-21T00:00:00\",\"xref\":\"x2\",\"y0\":0,\"y1\":1,\"yref\":\"y3 domain\"},{\"line\":{\"color\":\"#9B9B9B\",\"dash\":\"dash\",\"width\":2},\"type\":\"line\",\"x0\":\"2020-06-01T00:00:00\",\"x1\":\"2020-06-01T00:00:00\",\"xref\":\"x\",\"y0\":0,\"y1\":1,\"yref\":\"y domain\"},{\"line\":{\"color\":\"#9B9B9B\",\"dash\":\"dash\",\"width\":2},\"type\":\"line\",\"x0\":\"2020-06-01T00:00:00\",\"x1\":\"2020-06-01T00:00:00\",\"xref\":\"x2\",\"y0\":0,\"y1\":1,\"yref\":\"y3 domain\"},{\"line\":{\"color\":\"#9B9B9B\",\"dash\":\"dash\",\"width\":2},\"type\":\"line\",\"x0\":\"2020-08-12T00:00:00\",\"x1\":\"2020-08-12T00:00:00\",\"xref\":\"x\",\"y0\":0,\"y1\":1,\"yref\":\"y domain\"},{\"line\":{\"color\":\"#9B9B9B\",\"dash\":\"dash\",\"width\":2},\"type\":\"line\",\"x0\":\"2020-08-12T00:00:00\",\"x1\":\"2020-08-12T00:00:00\",\"xref\":\"x2\",\"y0\":0,\"y1\":1,\"yref\":\"y3 domain\"}],\"template\":{\"data\":{\"bar\":[{\"error_x\":{\"color\":\"#2a3f5f\"},\"error_y\":{\"color\":\"#2a3f5f\"},\"marker\":{\"line\":{\"color\":\"#E5ECF6\",\"width\":0.5},\"pattern\":{\"fillmode\":\"overlay\",\"size\":10,\"solidity\":0.2}},\"type\":\"bar\"}],\"barpolar\":[{\"marker\":{\"line\":{\"color\":\"#E5ECF6\",\"width\":0.5},\"pattern\":{\"fillmode\":\"overlay\",\"size\":10,\"solidity\":0.2}},\"type\":\"barpolar\"}],\"carpet\":[{\"aaxis\":{\"endlinecolor\":\"#2a3f5f\",\"gridcolor\":\"white\",\"linecolor\":\"white\",\"minorgridcolor\":\"white\",\"startlinecolor\":\"#2a3f5f\"},\"baxis\":{\"endlinecolor\":\"#2a3f5f\",\"gridcolor\":\"white\",\"linecolor\":\"white\",\"minorgridcolor\":\"white\",\"startlinecolor\":\"#2a3f5f\"},\"type\":\"carpet\"}],\"choropleth\":[{\"colorbar\":{\"outlinewidth\":0,\"ticks\":\"\"},\"type\":\"choropleth\"}],\"contour\":[{\"colorbar\":{\"outlinewidth\":0,\"ticks\":\"\"},\"colorscale\":[[0.0,\"#0d0887\"],[0.1111111111111111,\"#46039f\"],[0.2222222222222222,\"#7201a8\"],[0.3333333333333333,\"#9c179e\"],[0.4444444444444444,\"#bd3786\"],[0.5555555555555556,\"#d8576b\"],[0.6666666666666666,\"#ed7953\"],[0.7777777777777778,\"#fb9f3a\"],[0.8888888888888888,\"#fdca26\"],[1.0,\"#f0f921\"]],\"type\":\"contour\"}],\"contourcarpet\":[{\"colorbar\":{\"outlinewidth\":0,\"ticks\":\"\"},\"type\":\"contourcarpet\"}],\"heatmap\":[{\"colorbar\":{\"outlinewidth\":0,\"ticks\":\"\"},\"colorscale\":[[0.0,\"#0d0887\"],[0.1111111111111111,\"#46039f\"],[0.2222222222222222,\"#7201a8\"],[0.3333333333333333,\"#9c179e\"],[0.4444444444444444,\"#bd3786\"],[0.5555555555555556,\"#d8576b\"],[0.6666666666666666,\"#ed7953\"],[0.7777777777777778,\"#fb9f3a\"],[0.8888888888888888,\"#fdca26\"],[1.0,\"#f0f921\"]],\"type\":\"heatmap\"}],\"heatmapgl\":[{\"colorbar\":{\"outlinewidth\":0,\"ticks\":\"\"},\"colorscale\":[[0.0,\"#0d0887\"],[0.1111111111111111,\"#46039f\"],[0.2222222222222222,\"#7201a8\"],[0.3333333333333333,\"#9c179e\"],[0.4444444444444444,\"#bd3786\"],[0.5555555555555556,\"#d8576b\"],[0.6666666666666666,\"#ed7953\"],[0.7777777777777778,\"#fb9f3a\"],[0.8888888888888888,\"#fdca26\"],[1.0,\"#f0f921\"]],\"type\":\"heatmapgl\"}],\"histogram\":[{\"marker\":{\"pattern\":{\"fillmode\":\"overlay\",\"size\":10,\"solidity\":0.2}},\"type\":\"histogram\"}],\"histogram2d\":[{\"colorbar\":{\"outlinewidth\":0,\"ticks\":\"\"},\"colorscale\":[[0.0,\"#0d0887\"],[0.1111111111111111,\"#46039f\"],[0.2222222222222222,\"#7201a8\"],[0.3333333333333333,\"#9c179e\"],[0.4444444444444444,\"#bd3786\"],[0.5555555555555556,\"#d8576b\"],[0.6666666666666666,\"#ed7953\"],[0.7777777777777778,\"#fb9f3a\"],[0.8888888888888888,\"#fdca26\"],[1.0,\"#f0f921\"]],\"type\":\"histogram2d\"}],\"histogram2dcontour\":[{\"colorbar\":{\"outlinewidth\":0,\"ticks\":\"\"},\"colorscale\":[[0.0,\"#0d0887\"],[0.1111111111111111,\"#46039f\"],[0.2222222222222222,\"#7201a8\"],[0.3333333333333333,\"#9c179e\"],[0.4444444444444444,\"#bd3786\"],[0.5555555555555556,\"#d8576b\"],[0.6666666666666666,\"#ed7953\"],[0.7777777777777778,\"#fb9f3a\"],[0.8888888888888888,\"#fdca26\"],[1.0,\"#f0f921\"]],\"type\":\"histogram2dcontour\"}],\"mesh3d\":[{\"colorbar\":{\"outlinewidth\":0,\"ticks\":\"\"},\"type\":\"mesh3d\"}],\"parcoords\":[{\"line\":{\"colorbar\":{\"outlinewidth\":0,\"ticks\":\"\"}},\"type\":\"parcoords\"}],\"pie\":[{\"automargin\":true,\"type\":\"pie\"}],\"scatter\":[{\"marker\":{\"colorbar\":{\"outlinewidth\":0,\"ticks\":\"\"}},\"type\":\"scatter\"}],\"scatter3d\":[{\"line\":{\"colorbar\":{\"outlinewidth\":0,\"ticks\":\"\"}},\"marker\":{\"colorbar\":{\"outlinewidth\":0,\"ticks\":\"\"}},\"type\":\"scatter3d\"}],\"scattercarpet\":[{\"marker\":{\"colorbar\":{\"outlinewidth\":0,\"ticks\":\"\"}},\"type\":\"scattercarpet\"}],\"scattergeo\":[{\"marker\":{\"colorbar\":{\"outlinewidth\":0,\"ticks\":\"\"}},\"type\":\"scattergeo\"}],\"scattergl\":[{\"marker\":{\"colorbar\":{\"outlinewidth\":0,\"ticks\":\"\"}},\"type\":\"scattergl\"}],\"scattermapbox\":[{\"marker\":{\"colorbar\":{\"outlinewidth\":0,\"ticks\":\"\"}},\"type\":\"scattermapbox\"}],\"scatterpolar\":[{\"marker\":{\"colorbar\":{\"outlinewidth\":0,\"ticks\":\"\"}},\"type\":\"scatterpolar\"}],\"scatterpolargl\":[{\"marker\":{\"colorbar\":{\"outlinewidth\":0,\"ticks\":\"\"}},\"type\":\"scatterpolargl\"}],\"scatterternary\":[{\"marker\":{\"colorbar\":{\"outlinewidth\":0,\"ticks\":\"\"}},\"type\":\"scatterternary\"}],\"surface\":[{\"colorbar\":{\"outlinewidth\":0,\"ticks\":\"\"},\"colorscale\":[[0.0,\"#0d0887\"],[0.1111111111111111,\"#46039f\"],[0.2222222222222222,\"#7201a8\"],[0.3333333333333333,\"#9c179e\"],[0.4444444444444444,\"#bd3786\"],[0.5555555555555556,\"#d8576b\"],[0.6666666666666666,\"#ed7953\"],[0.7777777777777778,\"#fb9f3a\"],[0.8888888888888888,\"#fdca26\"],[1.0,\"#f0f921\"]],\"type\":\"surface\"}],\"table\":[{\"cells\":{\"fill\":{\"color\":\"#EBF0F8\"},\"line\":{\"color\":\"white\"}},\"header\":{\"fill\":{\"color\":\"#C8D4E3\"},\"line\":{\"color\":\"white\"}},\"type\":\"table\"}]},\"layout\":{\"annotationdefaults\":{\"arrowcolor\":\"#2a3f5f\",\"arrowhead\":0,\"arrowwidth\":1},\"autotypenumbers\":\"strict\",\"coloraxis\":{\"colorbar\":{\"outlinewidth\":0,\"ticks\":\"\"}},\"colorscale\":{\"diverging\":[[0,\"#8e0152\"],[0.1,\"#c51b7d\"],[0.2,\"#de77ae\"],[0.3,\"#f1b6da\"],[0.4,\"#fde0ef\"],[0.5,\"#f7f7f7\"],[0.6,\"#e6f5d0\"],[0.7,\"#b8e186\"],[0.8,\"#7fbc41\"],[0.9,\"#4d9221\"],[1,\"#276419\"]],\"sequential\":[[0.0,\"#0d0887\"],[0.1111111111111111,\"#46039f\"],[0.2222222222222222,\"#7201a8\"],[0.3333333333333333,\"#9c179e\"],[0.4444444444444444,\"#bd3786\"],[0.5555555555555556,\"#d8576b\"],[0.6666666666666666,\"#ed7953\"],[0.7777777777777778,\"#fb9f3a\"],[0.8888888888888888,\"#fdca26\"],[1.0,\"#f0f921\"]],\"sequentialminus\":[[0.0,\"#0d0887\"],[0.1111111111111111,\"#46039f\"],[0.2222222222222222,\"#7201a8\"],[0.3333333333333333,\"#9c179e\"],[0.4444444444444444,\"#bd3786\"],[0.5555555555555556,\"#d8576b\"],[0.6666666666666666,\"#ed7953\"],[0.7777777777777778,\"#fb9f3a\"],[0.8888888888888888,\"#fdca26\"],[1.0,\"#f0f921\"]]},\"colorway\":[\"#636efa\",\"#EF553B\",\"#00cc96\",\"#ab63fa\",\"#FFA15A\",\"#19d3f3\",\"#FF6692\",\"#B6E880\",\"#FF97FF\",\"#FECB52\"],\"font\":{\"color\":\"#2a3f5f\"},\"geo\":{\"bgcolor\":\"white\",\"lakecolor\":\"white\",\"landcolor\":\"#E5ECF6\",\"showlakes\":true,\"showland\":true,\"subunitcolor\":\"white\"},\"hoverlabel\":{\"align\":\"left\"},\"hovermode\":\"closest\",\"mapbox\":{\"style\":\"light\"},\"paper_bgcolor\":\"white\",\"plot_bgcolor\":\"#E5ECF6\",\"polar\":{\"angularaxis\":{\"gridcolor\":\"white\",\"linecolor\":\"white\",\"ticks\":\"\"},\"bgcolor\":\"#E5ECF6\",\"radialaxis\":{\"gridcolor\":\"white\",\"linecolor\":\"white\",\"ticks\":\"\"}},\"scene\":{\"xaxis\":{\"backgroundcolor\":\"#E5ECF6\",\"gridcolor\":\"white\",\"gridwidth\":2,\"linecolor\":\"white\",\"showbackground\":true,\"ticks\":\"\",\"zerolinecolor\":\"white\"},\"yaxis\":{\"backgroundcolor\":\"#E5ECF6\",\"gridcolor\":\"white\",\"gridwidth\":2,\"linecolor\":\"white\",\"showbackground\":true,\"ticks\":\"\",\"zerolinecolor\":\"white\"},\"zaxis\":{\"backgroundcolor\":\"#E5ECF6\",\"gridcolor\":\"white\",\"gridwidth\":2,\"linecolor\":\"white\",\"showbackground\":true,\"ticks\":\"\",\"zerolinecolor\":\"white\"}},\"shapedefaults\":{\"line\":{\"color\":\"#2a3f5f\"}},\"ternary\":{\"aaxis\":{\"gridcolor\":\"white\",\"linecolor\":\"white\",\"ticks\":\"\"},\"baxis\":{\"gridcolor\":\"white\",\"linecolor\":\"white\",\"ticks\":\"\"},\"bgcolor\":\"#E5ECF6\",\"caxis\":{\"gridcolor\":\"white\",\"linecolor\":\"white\",\"ticks\":\"\"}},\"title\":{\"x\":0.05},\"xaxis\":{\"automargin\":true,\"gridcolor\":\"white\",\"linecolor\":\"white\",\"ticks\":\"\",\"title\":{\"standoff\":15},\"zerolinecolor\":\"white\",\"zerolinewidth\":2},\"yaxis\":{\"automargin\":true,\"gridcolor\":\"white\",\"linecolor\":\"white\",\"ticks\":\"\",\"title\":{\"standoff\":15},\"zerolinecolor\":\"white\",\"zerolinewidth\":2}}},\"title\":{\"font\":{\"size\":30},\"x\":0.3,\"y\":0.92},\"width\":1000,\"xaxis\":{\"anchor\":\"y\",\"domain\":[0.0,0.94],\"showgrid\":false,\"title\":{\"text\":\"Date\"}},\"xaxis2\":{\"anchor\":\"y3\",\"domain\":[0.0,0.94],\"showgrid\":false,\"title\":{\"text\":\"Date\"}},\"yaxis\":{\"anchor\":\"x\",\"domain\":[0.625,1.0],\"showgrid\":false,\"title\":{\"text\":\"Engagement Index\"}},\"yaxis2\":{\"anchor\":\"x\",\"overlaying\":\"y\",\"showgrid\":false,\"side\":\"right\",\"title\":{\"text\":\"Cases\"}},\"yaxis3\":{\"anchor\":\"x2\",\"domain\":[0.0,0.375],\"showgrid\":false,\"title\":{\"text\":\"Engagement Index\"}},\"yaxis4\":{\"anchor\":\"x2\",\"overlaying\":\"y3\",\"showgrid\":false,\"side\":\"right\",\"title\":{\"text\":\"Cases\"}}},                        {\"responsive\": true}                    ).then(function(){\n",
       "                            \n",
       "var gd = document.getElementById('ebf70fea-379f-486a-b0b9-37d5ed918b2f');\n",
       "var x = new MutationObserver(function (mutations, observer) {{\n",
       "        var display = window.getComputedStyle(gd).display;\n",
       "        if (!display || display === 'none') {{\n",
       "            console.log([gd, 'removed!']);\n",
       "            Plotly.purge(gd);\n",
       "            observer.disconnect();\n",
       "        }}\n",
       "}});\n",
       "\n",
       "// Listen for the removal of the full notebook cells\n",
       "var notebookContainer = gd.closest('#notebook-container');\n",
       "if (notebookContainer) {{\n",
       "    x.observe(notebookContainer, {childList: true});\n",
       "}}\n",
       "\n",
       "// Listen for the clearing of the current output cell\n",
       "var outputEl = gd.closest('.output');\n",
       "if (outputEl) {{\n",
       "    x.observe(outputEl, {childList: true});\n",
       "}}\n",
       "\n",
       "                        })                };                });            </script>        </div>"
      ]
     },
     "metadata": {},
     "output_type": "display_data"
    }
   ],
   "source": [
    "plot_engage_to_cases(engage_df_us, covid_case_us)"
   ]
  },
  {
   "cell_type": "markdown",
   "id": "c0228fe9",
   "metadata": {
    "papermill": {
     "duration": 0.02699,
     "end_time": "2021-09-26T18:27:36.975861",
     "exception": false,
     "start_time": "2021-09-26T18:27:36.948871",
     "status": "completed"
    },
    "tags": []
   },
   "source": [
    "<div class=\"h3\">Resampling For Generalizing the Trend</div>\n",
    "<br>\n",
    "<p>\n",
    "In the plots above, there is an obvious, regular, constantly occuring dip in engagement. These dips are the weekends when students are far less active. Other larger dips are holidays such as Christmas and other time off school such as summer break.\n",
    "<br>\n",
    "<br>\n",
    "In order to better visualize the trend of engagement, we can use resampling. Resampling is a time series technique that can allow us to look at the engagement and cases (daily) on a weekly or monthly basis instead of a daily basis\n",
    "</p>"
   ]
  },
  {
   "cell_type": "code",
   "execution_count": 10,
   "id": "f0a4f439",
   "metadata": {
    "execution": {
     "iopub.execute_input": "2021-09-26T18:27:37.039368Z",
     "iopub.status.busy": "2021-09-26T18:27:37.033379Z",
     "iopub.status.idle": "2021-09-26T18:27:37.270838Z",
     "shell.execute_reply": "2021-09-26T18:27:37.271343Z"
    },
    "papermill": {
     "duration": 0.269353,
     "end_time": "2021-09-26T18:27:37.271562",
     "exception": false,
     "start_time": "2021-09-26T18:27:37.002209",
     "status": "completed"
    },
    "tags": []
   },
   "outputs": [
    {
     "data": {
      "text/html": [
       "<div>                            <div id=\"ed846e74-b1dd-4cd1-a68d-d9dfab3945f9\" class=\"plotly-graph-div\" style=\"height:750px; width:1000px;\"></div>            <script type=\"text/javascript\">                require([\"plotly\"], function(Plotly) {                    window.PLOTLYENV=window.PLOTLYENV || {};                                    if (document.getElementById(\"ed846e74-b1dd-4cd1-a68d-d9dfab3945f9\")) {                    Plotly.newPlot(                        \"ed846e74-b1dd-4cd1-a68d-d9dfab3945f9\",                        [{\"marker\":{\"color\":\"#36B6D2\"},\"mode\":\"lines\",\"name\":\"Engagement Index\",\"showlegend\":false,\"type\":\"scatter\",\"x\":[\"2020-01-01T00:00:00\",\"2020-01-02T00:00:00\",\"2020-01-03T00:00:00\",\"2020-01-04T00:00:00\",\"2020-01-05T00:00:00\",\"2020-01-06T00:00:00\",\"2020-01-07T00:00:00\",\"2020-01-08T00:00:00\",\"2020-01-09T00:00:00\",\"2020-01-10T00:00:00\",\"2020-01-11T00:00:00\",\"2020-01-12T00:00:00\",\"2020-01-13T00:00:00\",\"2020-01-14T00:00:00\",\"2020-01-15T00:00:00\",\"2020-01-16T00:00:00\",\"2020-01-17T00:00:00\",\"2020-01-18T00:00:00\",\"2020-01-19T00:00:00\",\"2020-01-20T00:00:00\",\"2020-01-21T00:00:00\",\"2020-01-22T00:00:00\",\"2020-01-23T00:00:00\",\"2020-01-24T00:00:00\",\"2020-01-25T00:00:00\",\"2020-01-26T00:00:00\",\"2020-01-27T00:00:00\",\"2020-01-28T00:00:00\",\"2020-01-29T00:00:00\",\"2020-01-30T00:00:00\",\"2020-01-31T00:00:00\",\"2020-02-01T00:00:00\",\"2020-02-02T00:00:00\",\"2020-02-03T00:00:00\",\"2020-02-04T00:00:00\",\"2020-02-05T00:00:00\",\"2020-02-06T00:00:00\",\"2020-02-07T00:00:00\",\"2020-02-08T00:00:00\",\"2020-02-09T00:00:00\",\"2020-02-10T00:00:00\",\"2020-02-11T00:00:00\",\"2020-02-12T00:00:00\",\"2020-02-13T00:00:00\",\"2020-02-14T00:00:00\",\"2020-02-15T00:00:00\",\"2020-02-16T00:00:00\",\"2020-02-17T00:00:00\",\"2020-02-18T00:00:00\",\"2020-02-19T00:00:00\",\"2020-02-20T00:00:00\",\"2020-02-21T00:00:00\",\"2020-02-22T00:00:00\",\"2020-02-23T00:00:00\",\"2020-02-24T00:00:00\",\"2020-02-25T00:00:00\",\"2020-02-26T00:00:00\",\"2020-02-27T00:00:00\",\"2020-02-28T00:00:00\",\"2020-02-29T00:00:00\",\"2020-03-01T00:00:00\",\"2020-03-02T00:00:00\",\"2020-03-03T00:00:00\",\"2020-03-04T00:00:00\",\"2020-03-05T00:00:00\",\"2020-03-06T00:00:00\",\"2020-03-07T00:00:00\",\"2020-03-08T00:00:00\",\"2020-03-09T00:00:00\",\"2020-03-10T00:00:00\",\"2020-03-11T00:00:00\",\"2020-03-12T00:00:00\",\"2020-03-13T00:00:00\",\"2020-03-14T00:00:00\",\"2020-03-15T00:00:00\",\"2020-03-16T00:00:00\",\"2020-03-17T00:00:00\",\"2020-03-18T00:00:00\",\"2020-03-19T00:00:00\",\"2020-03-20T00:00:00\",\"2020-03-21T00:00:00\",\"2020-03-22T00:00:00\",\"2020-03-23T00:00:00\",\"2020-03-24T00:00:00\",\"2020-03-25T00:00:00\",\"2020-03-26T00:00:00\",\"2020-03-27T00:00:00\",\"2020-03-28T00:00:00\",\"2020-03-29T00:00:00\",\"2020-03-30T00:00:00\",\"2020-03-31T00:00:00\",\"2020-04-01T00:00:00\",\"2020-04-02T00:00:00\",\"2020-04-03T00:00:00\",\"2020-04-04T00:00:00\",\"2020-04-05T00:00:00\",\"2020-04-06T00:00:00\",\"2020-04-07T00:00:00\",\"2020-04-08T00:00:00\",\"2020-04-09T00:00:00\",\"2020-04-10T00:00:00\",\"2020-04-11T00:00:00\",\"2020-04-12T00:00:00\",\"2020-04-13T00:00:00\",\"2020-04-14T00:00:00\",\"2020-04-15T00:00:00\",\"2020-04-16T00:00:00\",\"2020-04-17T00:00:00\",\"2020-04-18T00:00:00\",\"2020-04-19T00:00:00\",\"2020-04-20T00:00:00\",\"2020-04-21T00:00:00\",\"2020-04-22T00:00:00\",\"2020-04-23T00:00:00\",\"2020-04-24T00:00:00\",\"2020-04-25T00:00:00\",\"2020-04-26T00:00:00\",\"2020-04-27T00:00:00\",\"2020-04-28T00:00:00\",\"2020-04-29T00:00:00\",\"2020-04-30T00:00:00\",\"2020-05-01T00:00:00\",\"2020-05-02T00:00:00\",\"2020-05-03T00:00:00\",\"2020-05-04T00:00:00\",\"2020-05-05T00:00:00\",\"2020-05-06T00:00:00\",\"2020-05-07T00:00:00\",\"2020-05-08T00:00:00\",\"2020-05-09T00:00:00\",\"2020-05-10T00:00:00\",\"2020-05-11T00:00:00\",\"2020-05-12T00:00:00\",\"2020-05-13T00:00:00\",\"2020-05-14T00:00:00\",\"2020-05-15T00:00:00\",\"2020-05-16T00:00:00\",\"2020-05-17T00:00:00\",\"2020-05-18T00:00:00\",\"2020-05-19T00:00:00\",\"2020-05-20T00:00:00\",\"2020-05-21T00:00:00\",\"2020-05-22T00:00:00\",\"2020-05-23T00:00:00\",\"2020-05-24T00:00:00\",\"2020-05-25T00:00:00\",\"2020-05-26T00:00:00\",\"2020-05-27T00:00:00\",\"2020-05-28T00:00:00\",\"2020-05-29T00:00:00\",\"2020-05-30T00:00:00\",\"2020-05-31T00:00:00\",\"2020-06-01T00:00:00\",\"2020-06-02T00:00:00\",\"2020-06-03T00:00:00\",\"2020-06-04T00:00:00\",\"2020-06-05T00:00:00\",\"2020-06-06T00:00:00\",\"2020-06-07T00:00:00\",\"2020-06-08T00:00:00\",\"2020-06-09T00:00:00\",\"2020-06-10T00:00:00\",\"2020-06-11T00:00:00\",\"2020-06-12T00:00:00\",\"2020-06-13T00:00:00\",\"2020-06-14T00:00:00\",\"2020-06-15T00:00:00\",\"2020-06-16T00:00:00\",\"2020-06-17T00:00:00\",\"2020-06-18T00:00:00\",\"2020-06-19T00:00:00\",\"2020-06-20T00:00:00\",\"2020-06-21T00:00:00\",\"2020-06-22T00:00:00\",\"2020-06-23T00:00:00\",\"2020-06-24T00:00:00\",\"2020-06-25T00:00:00\",\"2020-06-26T00:00:00\",\"2020-06-27T00:00:00\",\"2020-06-28T00:00:00\",\"2020-06-29T00:00:00\",\"2020-06-30T00:00:00\",\"2020-07-01T00:00:00\",\"2020-07-02T00:00:00\",\"2020-07-03T00:00:00\",\"2020-07-04T00:00:00\",\"2020-07-05T00:00:00\",\"2020-07-06T00:00:00\",\"2020-07-07T00:00:00\",\"2020-07-08T00:00:00\",\"2020-07-09T00:00:00\",\"2020-07-10T00:00:00\",\"2020-07-11T00:00:00\",\"2020-07-12T00:00:00\",\"2020-07-13T00:00:00\",\"2020-07-14T00:00:00\",\"2020-07-15T00:00:00\",\"2020-07-16T00:00:00\",\"2020-07-17T00:00:00\",\"2020-07-18T00:00:00\",\"2020-07-19T00:00:00\",\"2020-07-20T00:00:00\",\"2020-07-21T00:00:00\",\"2020-07-22T00:00:00\",\"2020-07-23T00:00:00\",\"2020-07-24T00:00:00\",\"2020-07-25T00:00:00\",\"2020-07-26T00:00:00\",\"2020-07-27T00:00:00\",\"2020-07-28T00:00:00\",\"2020-07-29T00:00:00\",\"2020-07-30T00:00:00\",\"2020-07-31T00:00:00\",\"2020-08-01T00:00:00\",\"2020-08-02T00:00:00\",\"2020-08-03T00:00:00\",\"2020-08-04T00:00:00\",\"2020-08-05T00:00:00\",\"2020-08-06T00:00:00\",\"2020-08-07T00:00:00\",\"2020-08-08T00:00:00\",\"2020-08-09T00:00:00\",\"2020-08-10T00:00:00\",\"2020-08-11T00:00:00\",\"2020-08-12T00:00:00\",\"2020-08-13T00:00:00\",\"2020-08-14T00:00:00\",\"2020-08-15T00:00:00\",\"2020-08-16T00:00:00\",\"2020-08-17T00:00:00\",\"2020-08-18T00:00:00\",\"2020-08-19T00:00:00\",\"2020-08-20T00:00:00\",\"2020-08-21T00:00:00\",\"2020-08-22T00:00:00\",\"2020-08-23T00:00:00\",\"2020-08-24T00:00:00\",\"2020-08-25T00:00:00\",\"2020-08-26T00:00:00\",\"2020-08-27T00:00:00\",\"2020-08-28T00:00:00\",\"2020-08-29T00:00:00\",\"2020-08-30T00:00:00\",\"2020-08-31T00:00:00\",\"2020-09-01T00:00:00\",\"2020-09-02T00:00:00\",\"2020-09-03T00:00:00\",\"2020-09-04T00:00:00\",\"2020-09-05T00:00:00\",\"2020-09-06T00:00:00\",\"2020-09-07T00:00:00\",\"2020-09-08T00:00:00\",\"2020-09-09T00:00:00\",\"2020-09-10T00:00:00\",\"2020-09-11T00:00:00\",\"2020-09-12T00:00:00\",\"2020-09-13T00:00:00\",\"2020-09-14T00:00:00\",\"2020-09-15T00:00:00\",\"2020-09-16T00:00:00\",\"2020-09-17T00:00:00\",\"2020-09-18T00:00:00\",\"2020-09-19T00:00:00\",\"2020-09-20T00:00:00\",\"2020-09-21T00:00:00\",\"2020-09-22T00:00:00\",\"2020-09-23T00:00:00\",\"2020-09-24T00:00:00\",\"2020-09-25T00:00:00\",\"2020-09-26T00:00:00\",\"2020-09-27T00:00:00\",\"2020-09-28T00:00:00\",\"2020-09-29T00:00:00\",\"2020-09-30T00:00:00\",\"2020-10-01T00:00:00\",\"2020-10-02T00:00:00\",\"2020-10-03T00:00:00\",\"2020-10-04T00:00:00\",\"2020-10-05T00:00:00\",\"2020-10-06T00:00:00\",\"2020-10-07T00:00:00\",\"2020-10-08T00:00:00\",\"2020-10-09T00:00:00\",\"2020-10-10T00:00:00\",\"2020-10-11T00:00:00\",\"2020-10-12T00:00:00\",\"2020-10-13T00:00:00\",\"2020-10-14T00:00:00\",\"2020-10-15T00:00:00\",\"2020-10-16T00:00:00\",\"2020-10-17T00:00:00\",\"2020-10-18T00:00:00\",\"2020-10-19T00:00:00\",\"2020-10-20T00:00:00\",\"2020-10-21T00:00:00\",\"2020-10-22T00:00:00\",\"2020-10-23T00:00:00\",\"2020-10-24T00:00:00\",\"2020-10-25T00:00:00\",\"2020-10-26T00:00:00\",\"2020-10-27T00:00:00\",\"2020-10-28T00:00:00\",\"2020-10-29T00:00:00\",\"2020-10-30T00:00:00\",\"2020-10-31T00:00:00\",\"2020-11-01T00:00:00\",\"2020-11-02T00:00:00\",\"2020-11-03T00:00:00\",\"2020-11-04T00:00:00\",\"2020-11-05T00:00:00\",\"2020-11-06T00:00:00\",\"2020-11-07T00:00:00\",\"2020-11-08T00:00:00\",\"2020-11-09T00:00:00\",\"2020-11-10T00:00:00\",\"2020-11-11T00:00:00\",\"2020-11-12T00:00:00\",\"2020-11-13T00:00:00\",\"2020-11-14T00:00:00\",\"2020-11-15T00:00:00\",\"2020-11-16T00:00:00\",\"2020-11-17T00:00:00\",\"2020-11-18T00:00:00\",\"2020-11-19T00:00:00\",\"2020-11-20T00:00:00\",\"2020-11-21T00:00:00\",\"2020-11-22T00:00:00\",\"2020-11-23T00:00:00\",\"2020-11-24T00:00:00\",\"2020-11-25T00:00:00\",\"2020-11-26T00:00:00\",\"2020-11-27T00:00:00\",\"2020-11-28T00:00:00\",\"2020-11-29T00:00:00\",\"2020-11-30T00:00:00\",\"2020-12-01T00:00:00\",\"2020-12-02T00:00:00\",\"2020-12-03T00:00:00\",\"2020-12-04T00:00:00\",\"2020-12-05T00:00:00\",\"2020-12-06T00:00:00\",\"2020-12-07T00:00:00\",\"2020-12-08T00:00:00\",\"2020-12-09T00:00:00\",\"2020-12-10T00:00:00\",\"2020-12-11T00:00:00\",\"2020-12-12T00:00:00\",\"2020-12-13T00:00:00\",\"2020-12-14T00:00:00\",\"2020-12-15T00:00:00\",\"2020-12-16T00:00:00\",\"2020-12-17T00:00:00\",\"2020-12-18T00:00:00\",\"2020-12-19T00:00:00\",\"2020-12-20T00:00:00\",\"2020-12-21T00:00:00\",\"2020-12-22T00:00:00\",\"2020-12-23T00:00:00\",\"2020-12-24T00:00:00\",\"2020-12-25T00:00:00\",\"2020-12-26T00:00:00\",\"2020-12-27T00:00:00\",\"2020-12-28T00:00:00\",\"2020-12-29T00:00:00\",\"2020-12-30T00:00:00\",\"2020-12-31T00:00:00\"],\"xaxis\":\"x\",\"y\":[16.770189822938267,85.26234887154608,88.26327662178703,17.528291609353506,23.879479179167166,114.57364014608665,119.16312158636993,124.81071715556249,129.12457124677172,126.37062821972255,19.93999393694422,28.560770910780672,126.60170120122987,128.64213170272814,127.86309610380023,132.40857557502738,116.85341805524088,17.79960803452173,18.47410520607375,38.49788504342513,126.34921208882555,125.55712397157816,128.82883898524463,118.41035195148194,17.801630386052302,23.701606965878522,124.37537379561196,127.13638705307288,128.55041896341575,130.04735281919977,123.94775145594589,19.333508901347496,23.964155825924195,121.75566901477929,131.41793544155706,125.48961617571439,123.65002986082722,120.01060920825672,19.95259579035796,26.775322510255737,128.70101707537634,128.27418610656795,215.4140998494334,220.62888080701694,183.86486782062886,30.97849085216711,32.22789987228608,97.81250502080046,194.24115864330588,208.43538814327616,215.71889454369202,209.77026874039242,35.23178503590456,48.86460475889661,216.57508233319612,222.24354538826103,207.47856858502814,215.8115201271952,194.70871129719805,36.029682814545765,46.032591000512674,212.95647689502013,218.45389719497453,210.6622568054868,219.7437258717871,206.78286386317183,34.92435720668964,46.203467105524055,207.75082015468948,219.5918391691395,211.94010834331104,215.34402160755354,183.6755663744349,47.38648813535275,41.65234519892312,146.40277474723723,178.47052312474008,232.71878919411742,232.2541631429536,202.7769986171596,63.22868311457047,53.286675153058134,230.92931951263864,230.53802931362347,235.04380803917425,222.04964429938596,189.47727137290855,58.006311572381165,57.37332264345436,243.79519790444115,232.8531317790167,233.9682200030622,234.21533528195135,208.29275163398694,60.55883687868576,55.15011052513465,242.07795208836959,240.54456759594865,244.14577770293027,229.22385277694184,129.23167646224312,167.28094044588659,135.5463564499874,189.4648944970207,212.6044934346035,214.06278726708075,214.6248659820448,180.26672281410728,64.06963595218183,55.341078369734575,221.81189391746275,237.26088413027983,228.2569832696207,227.01041128463166,194.96790346021325,64.79398418641313,61.89648643631831,229.4687679531475,226.46880168228344,221.29449572467192,220.1484974503387,187.37776805324458,61.97751615644069,56.51994638897466,216.15296248154567,221.79883166028057,215.40681802355027,210.3376410280864,180.03699682751713,69.11680517591594,57.41011151662612,211.43175241829223,208.6855373813133,200.79192215327586,194.70273379659696,167.46791682537483,62.850791286240586,60.60826252662258,189.03966844901575,186.32177614113215,179.36863859065747,180.17781806733583,148.236503464396,52.10632151654039,39.00332490894224,51.45688720836686,166.69053832702483,167.99762374240964,175.75940853506364,154.18885947792143,51.77555846391051,48.13445694200352,163.312614071752,152.51003043213632,151.25882988139495,147.92747903536642,130.33628629776757,48.760188226533735,47.81054764083127,142.66300566468448,126.42937910883857,121.11619950774578,119.8428038277512,98.26995740574358,40.22612952236255,35.271485368314835,86.11685458061075,73.82609194218423,70.34364254527235,69.97593706161138,56.667332315133,35.39781540542064,34.33210653606626,49.32578567792296,48.289607193563654,46.409822943402794,44.69112331569352,41.57343097433937,33.801397797701426,33.334351492767006,41.27093061846885,42.351593579051205,40.70673147637434,38.77731002082627,33.09707591592971,30.2658777385159,29.50809622850804,42.247105345281085,43.70154392539655,43.92771466083151,43.18344773370468,39.23856629766298,32.23478765201123,30.555470474967905,41.516420982142854,42.079340765027325,42.17036692081095,40.955719108110515,36.23353677621283,30.769007575757577,30.770911586338972,40.691797650900185,41.319727012778124,41.711310556760665,41.324831173571816,35.004716025378634,29.761002060793405,29.888822635023466,37.97812960442964,40.61239779659474,40.44865045758776,44.66196435117302,41.97014717661194,31.866509031610637,32.50052389764534,44.601688895262676,45.07383813611281,45.42028275997256,47.629422454207145,51.75553964091184,32.60388167388167,30.60363855124329,61.84618959842001,64.33721106061249,84.26886201253342,93.50080751787223,100.47845207026837,39.51733034773446,38.16576100060277,114.32245243406378,130.87631183257642,151.00570995266037,163.43245201072386,159.7416580198876,45.64941885356378,47.250258610781195,205.84175239169576,203.34451488550417,197.0983734065191,211.4903519827851,201.77333359926604,50.968981164383564,51.665530777795446,235.91892283873722,242.5424439642175,242.1168797446932,230.23206954865614,233.4927115447266,52.670541034710155,46.93739631869403,60.83253607740243,254.196125631011,233.42632091613135,235.18006601761437,218.74522697223446,61.57341837127532,67.5946694992876,234.6464019592664,243.48554924948562,247.3687579663547,263.043770904185,243.24650367652498,65.74789716780023,72.26096401385833,249.5924633160842,255.40329121565077,244.45337671718082,282.8792252254635,291.41651471815857,65.81740785940933,72.11006147293013,304.3198998492944,242.8697824758159,235.69429856306547,244.48968273671287,226.93636045360077,66.69329277968792,72.81560931049209,241.71015836606873,238.63053105781887,235.04634572853274,245.0437803384172,233.94350519726805,69.28086577360044,67.32268757355826,187.11443278739185,232.75536717460403,214.54736725724868,228.46987449542328,268.76357335759997,72.77283991378916,76.88547237549092,227.81002727831017,238.52443660244705,234.37531477406205,240.89438004955292,228.4344897169394,70.26655496300566,77.05218730046116,236.4607696585022,231.93807918644785,230.0774625242413,236.57741322567324,233.8685778995797,65.9817750213858,70.52280829511666,220.50983131891877,183.72117274600097,216.4634397044004,219.48087482162674,225.66666960595933,70.62998554782766,70.33099650226531,214.539617749373,221.30530961106814,214.30405170456822,216.39168970314796,233.89357741655164,71.60043353926083,72.6161500996738,211.3518847039496,225.44852662503655,233.50088174339007,222.38727061262674,233.98538195023673,73.07617533522958,73.48471407932144,246.0461815003313,268.4754786009486,67.82579801899317,57.747157760611614,51.34010680554329,52.2557509994289,60.66966175612972,231.80734280134448,254.50235909689124,230.40892398362058,235.9654415084977,238.43511956105652,71.2028807066085,71.29788127593247,231.5978676094629,246.06439289562576,239.4075934195353,250.76979458550932,236.24302529122667,72.30202331703647,72.62721303978572,227.7313282854371,240.14845220579068,263.4667913896089,244.95900567087665,256.79968493301726,69.06303038889283,64.80657814552141,223.2420342812331,218.0765508699855,151.10499722000628,51.1728854438753,37.90119468195058,36.847772879091515,40.23063469136327,42.76873856004454,43.842840176794084,44.39114505125305,43.049106041703794],\"yaxis\":\"y\"},{\"marker\":{\"color\":\"#E76a5d\"},\"mode\":\"lines\",\"name\":\"COVID Cases\",\"showlegend\":false,\"type\":\"scatter\",\"x\":[\"2020-01-21T00:00:00\",\"2020-01-22T00:00:00\",\"2020-01-23T00:00:00\",\"2020-01-24T00:00:00\",\"2020-01-25T00:00:00\",\"2020-01-26T00:00:00\",\"2020-01-27T00:00:00\",\"2020-01-28T00:00:00\",\"2020-01-29T00:00:00\",\"2020-01-30T00:00:00\",\"2020-01-31T00:00:00\",\"2020-02-01T00:00:00\",\"2020-02-02T00:00:00\",\"2020-02-03T00:00:00\",\"2020-02-04T00:00:00\",\"2020-02-05T00:00:00\",\"2020-02-06T00:00:00\",\"2020-02-07T00:00:00\",\"2020-02-08T00:00:00\",\"2020-02-09T00:00:00\",\"2020-02-10T00:00:00\",\"2020-02-11T00:00:00\",\"2020-02-12T00:00:00\",\"2020-02-13T00:00:00\",\"2020-02-14T00:00:00\",\"2020-02-15T00:00:00\",\"2020-02-16T00:00:00\",\"2020-02-17T00:00:00\",\"2020-02-18T00:00:00\",\"2020-02-19T00:00:00\",\"2020-02-20T00:00:00\",\"2020-02-21T00:00:00\",\"2020-02-22T00:00:00\",\"2020-02-23T00:00:00\",\"2020-02-24T00:00:00\",\"2020-02-25T00:00:00\",\"2020-02-26T00:00:00\",\"2020-02-27T00:00:00\",\"2020-02-28T00:00:00\",\"2020-02-29T00:00:00\",\"2020-03-01T00:00:00\",\"2020-03-02T00:00:00\",\"2020-03-03T00:00:00\",\"2020-03-04T00:00:00\",\"2020-03-05T00:00:00\",\"2020-03-06T00:00:00\",\"2020-03-07T00:00:00\",\"2020-03-08T00:00:00\",\"2020-03-09T00:00:00\",\"2020-03-10T00:00:00\",\"2020-03-11T00:00:00\",\"2020-03-12T00:00:00\",\"2020-03-13T00:00:00\",\"2020-03-14T00:00:00\",\"2020-03-15T00:00:00\",\"2020-03-16T00:00:00\",\"2020-03-17T00:00:00\",\"2020-03-18T00:00:00\",\"2020-03-19T00:00:00\",\"2020-03-20T00:00:00\",\"2020-03-21T00:00:00\",\"2020-03-22T00:00:00\",\"2020-03-23T00:00:00\",\"2020-03-24T00:00:00\",\"2020-03-25T00:00:00\",\"2020-03-26T00:00:00\",\"2020-03-27T00:00:00\",\"2020-03-28T00:00:00\",\"2020-03-29T00:00:00\",\"2020-03-30T00:00:00\",\"2020-03-31T00:00:00\",\"2020-04-01T00:00:00\",\"2020-04-02T00:00:00\",\"2020-04-03T00:00:00\",\"2020-04-04T00:00:00\",\"2020-04-05T00:00:00\",\"2020-04-06T00:00:00\",\"2020-04-07T00:00:00\",\"2020-04-08T00:00:00\",\"2020-04-09T00:00:00\",\"2020-04-10T00:00:00\",\"2020-04-11T00:00:00\",\"2020-04-12T00:00:00\",\"2020-04-13T00:00:00\",\"2020-04-14T00:00:00\",\"2020-04-15T00:00:00\",\"2020-04-16T00:00:00\",\"2020-04-17T00:00:00\",\"2020-04-18T00:00:00\",\"2020-04-19T00:00:00\",\"2020-04-20T00:00:00\",\"2020-04-21T00:00:00\",\"2020-04-22T00:00:00\",\"2020-04-23T00:00:00\",\"2020-04-24T00:00:00\",\"2020-04-25T00:00:00\",\"2020-04-26T00:00:00\",\"2020-04-27T00:00:00\",\"2020-04-28T00:00:00\",\"2020-04-29T00:00:00\",\"2020-04-30T00:00:00\",\"2020-05-01T00:00:00\",\"2020-05-02T00:00:00\",\"2020-05-03T00:00:00\",\"2020-05-04T00:00:00\",\"2020-05-05T00:00:00\",\"2020-05-06T00:00:00\",\"2020-05-07T00:00:00\",\"2020-05-08T00:00:00\",\"2020-05-09T00:00:00\",\"2020-05-10T00:00:00\",\"2020-05-11T00:00:00\",\"2020-05-12T00:00:00\",\"2020-05-13T00:00:00\",\"2020-05-14T00:00:00\",\"2020-05-15T00:00:00\",\"2020-05-16T00:00:00\",\"2020-05-17T00:00:00\",\"2020-05-18T00:00:00\",\"2020-05-19T00:00:00\",\"2020-05-20T00:00:00\",\"2020-05-21T00:00:00\",\"2020-05-22T00:00:00\",\"2020-05-23T00:00:00\",\"2020-05-24T00:00:00\",\"2020-05-25T00:00:00\",\"2020-05-26T00:00:00\",\"2020-05-27T00:00:00\",\"2020-05-28T00:00:00\",\"2020-05-29T00:00:00\",\"2020-05-30T00:00:00\",\"2020-05-31T00:00:00\",\"2020-06-01T00:00:00\",\"2020-06-02T00:00:00\",\"2020-06-03T00:00:00\",\"2020-06-04T00:00:00\",\"2020-06-05T00:00:00\",\"2020-06-06T00:00:00\",\"2020-06-07T00:00:00\",\"2020-06-08T00:00:00\",\"2020-06-09T00:00:00\",\"2020-06-10T00:00:00\",\"2020-06-11T00:00:00\",\"2020-06-12T00:00:00\",\"2020-06-13T00:00:00\",\"2020-06-14T00:00:00\",\"2020-06-15T00:00:00\",\"2020-06-16T00:00:00\",\"2020-06-17T00:00:00\",\"2020-06-18T00:00:00\",\"2020-06-19T00:00:00\",\"2020-06-20T00:00:00\",\"2020-06-21T00:00:00\",\"2020-06-22T00:00:00\",\"2020-06-23T00:00:00\",\"2020-06-24T00:00:00\",\"2020-06-25T00:00:00\",\"2020-06-26T00:00:00\",\"2020-06-27T00:00:00\",\"2020-06-28T00:00:00\",\"2020-06-29T00:00:00\",\"2020-06-30T00:00:00\",\"2020-07-01T00:00:00\",\"2020-07-02T00:00:00\",\"2020-07-03T00:00:00\",\"2020-07-04T00:00:00\",\"2020-07-05T00:00:00\",\"2020-07-06T00:00:00\",\"2020-07-07T00:00:00\",\"2020-07-08T00:00:00\",\"2020-07-09T00:00:00\",\"2020-07-10T00:00:00\",\"2020-07-11T00:00:00\",\"2020-07-12T00:00:00\",\"2020-07-13T00:00:00\",\"2020-07-14T00:00:00\",\"2020-07-15T00:00:00\",\"2020-07-16T00:00:00\",\"2020-07-17T00:00:00\",\"2020-07-18T00:00:00\",\"2020-07-19T00:00:00\",\"2020-07-20T00:00:00\",\"2020-07-21T00:00:00\",\"2020-07-22T00:00:00\",\"2020-07-23T00:00:00\",\"2020-07-24T00:00:00\",\"2020-07-25T00:00:00\",\"2020-07-26T00:00:00\",\"2020-07-27T00:00:00\",\"2020-07-28T00:00:00\",\"2020-07-29T00:00:00\",\"2020-07-30T00:00:00\",\"2020-07-31T00:00:00\",\"2020-08-01T00:00:00\",\"2020-08-02T00:00:00\",\"2020-08-03T00:00:00\",\"2020-08-04T00:00:00\",\"2020-08-05T00:00:00\",\"2020-08-06T00:00:00\",\"2020-08-07T00:00:00\",\"2020-08-08T00:00:00\",\"2020-08-09T00:00:00\",\"2020-08-10T00:00:00\",\"2020-08-11T00:00:00\",\"2020-08-12T00:00:00\",\"2020-08-13T00:00:00\",\"2020-08-14T00:00:00\",\"2020-08-15T00:00:00\",\"2020-08-16T00:00:00\",\"2020-08-17T00:00:00\",\"2020-08-18T00:00:00\",\"2020-08-19T00:00:00\",\"2020-08-20T00:00:00\",\"2020-08-21T00:00:00\",\"2020-08-22T00:00:00\",\"2020-08-23T00:00:00\",\"2020-08-24T00:00:00\",\"2020-08-25T00:00:00\",\"2020-08-26T00:00:00\",\"2020-08-27T00:00:00\",\"2020-08-28T00:00:00\",\"2020-08-29T00:00:00\",\"2020-08-30T00:00:00\",\"2020-08-31T00:00:00\",\"2020-09-01T00:00:00\",\"2020-09-02T00:00:00\",\"2020-09-03T00:00:00\",\"2020-09-04T00:00:00\",\"2020-09-05T00:00:00\",\"2020-09-06T00:00:00\",\"2020-09-07T00:00:00\",\"2020-09-08T00:00:00\",\"2020-09-09T00:00:00\",\"2020-09-10T00:00:00\",\"2020-09-11T00:00:00\",\"2020-09-12T00:00:00\",\"2020-09-13T00:00:00\",\"2020-09-14T00:00:00\",\"2020-09-15T00:00:00\",\"2020-09-16T00:00:00\",\"2020-09-17T00:00:00\",\"2020-09-18T00:00:00\",\"2020-09-19T00:00:00\",\"2020-09-20T00:00:00\",\"2020-09-21T00:00:00\",\"2020-09-22T00:00:00\",\"2020-09-23T00:00:00\",\"2020-09-24T00:00:00\",\"2020-09-25T00:00:00\",\"2020-09-26T00:00:00\",\"2020-09-27T00:00:00\",\"2020-09-28T00:00:00\",\"2020-09-29T00:00:00\",\"2020-09-30T00:00:00\",\"2020-10-01T00:00:00\",\"2020-10-02T00:00:00\",\"2020-10-03T00:00:00\",\"2020-10-04T00:00:00\",\"2020-10-05T00:00:00\",\"2020-10-06T00:00:00\",\"2020-10-07T00:00:00\",\"2020-10-08T00:00:00\",\"2020-10-09T00:00:00\",\"2020-10-10T00:00:00\",\"2020-10-11T00:00:00\",\"2020-10-12T00:00:00\",\"2020-10-13T00:00:00\",\"2020-10-14T00:00:00\",\"2020-10-15T00:00:00\",\"2020-10-16T00:00:00\",\"2020-10-17T00:00:00\",\"2020-10-18T00:00:00\",\"2020-10-19T00:00:00\",\"2020-10-20T00:00:00\",\"2020-10-21T00:00:00\",\"2020-10-22T00:00:00\",\"2020-10-23T00:00:00\",\"2020-10-24T00:00:00\",\"2020-10-25T00:00:00\",\"2020-10-26T00:00:00\",\"2020-10-27T00:00:00\",\"2020-10-28T00:00:00\",\"2020-10-29T00:00:00\",\"2020-10-30T00:00:00\",\"2020-10-31T00:00:00\",\"2020-11-01T00:00:00\",\"2020-11-02T00:00:00\",\"2020-11-03T00:00:00\",\"2020-11-04T00:00:00\",\"2020-11-05T00:00:00\",\"2020-11-06T00:00:00\",\"2020-11-07T00:00:00\",\"2020-11-08T00:00:00\",\"2020-11-09T00:00:00\",\"2020-11-10T00:00:00\",\"2020-11-11T00:00:00\",\"2020-11-12T00:00:00\",\"2020-11-13T00:00:00\",\"2020-11-14T00:00:00\",\"2020-11-15T00:00:00\",\"2020-11-16T00:00:00\",\"2020-11-17T00:00:00\",\"2020-11-18T00:00:00\",\"2020-11-19T00:00:00\",\"2020-11-20T00:00:00\",\"2020-11-21T00:00:00\",\"2020-11-22T00:00:00\",\"2020-11-23T00:00:00\",\"2020-11-24T00:00:00\",\"2020-11-25T00:00:00\",\"2020-11-26T00:00:00\",\"2020-11-27T00:00:00\",\"2020-11-28T00:00:00\",\"2020-11-29T00:00:00\",\"2020-11-30T00:00:00\",\"2020-12-01T00:00:00\",\"2020-12-02T00:00:00\",\"2020-12-03T00:00:00\",\"2020-12-04T00:00:00\",\"2020-12-05T00:00:00\",\"2020-12-06T00:00:00\",\"2020-12-07T00:00:00\",\"2020-12-08T00:00:00\",\"2020-12-09T00:00:00\",\"2020-12-10T00:00:00\",\"2020-12-11T00:00:00\",\"2020-12-12T00:00:00\",\"2020-12-13T00:00:00\",\"2020-12-14T00:00:00\",\"2020-12-15T00:00:00\",\"2020-12-16T00:00:00\",\"2020-12-17T00:00:00\",\"2020-12-18T00:00:00\",\"2020-12-19T00:00:00\",\"2020-12-20T00:00:00\",\"2020-12-21T00:00:00\",\"2020-12-22T00:00:00\",\"2020-12-23T00:00:00\",\"2020-12-24T00:00:00\",\"2020-12-25T00:00:00\",\"2020-12-26T00:00:00\",\"2020-12-27T00:00:00\",\"2020-12-28T00:00:00\",\"2020-12-29T00:00:00\",\"2020-12-30T00:00:00\"],\"xaxis\":\"x\",\"y\":[1.0,0.0,0.0,0.0,0.0,0.25,0.0,0.0,0.0,0.25,0.25,0.1499999999999999,0.6000000000000001,0.0,0.0,0.20000000000000018,0.0,0.0,0.0,0.0,0.16666666666666652,0.0,0.16666666666666652,0.1428571428571428,0.0,0.0,0.0,0.9821428571428572,0.0,0.0,0.25,0.375,0.0,0.0,1.625,0.375,1.666666666666667,0.0,0.16666666666666696,0.5,0.23076923076923084,0.1641025641025644,0.8791666666666664,1.6580882352941178,1.38655462184874,0.25,1.8625541125541112,2.6588744588744593,4.5876447876447894,5.886347886347885,1.9641025641025642,7.422695035460993,8.118481435127244,12.12292609351433,12.193759071117562,17.113207547169807,24.332634521313764,45.25925925925925,74.87037037037038,104.05555555555554,120.66666666666669,158.2407407407407,193.18518518518522,193.2037037037037,271.0000000000001,314.7777777777776,320.9259259259261,348.37171717171714,336.7272727272725,390.3454545454547,445.5636363636363,489.6363636363635,540.3090909090915,587.5999999999995,638.1636363636362,465.7454545454548,562.1090909090908,551.5818181818186,578.545454545454,630.8909090909092,608.6000000000004,576.7272727272721,493.50909090909045,468.52727272727316,485.2909090909088,546.0545454545463,574.7818181818184,572.8909090909092,516.3272727272724,460.61818181818126,498.0909090909099,463.8909090909092,524.1999999999989,614.1090909090908,668.0181818181827,625.5999999999985,486.09090909091174,421.76363636363385,448.2000000000007,482.8181818181838,551.9454545454537,617.636363636364,535.8909090909074,475.27272727272793,399.3090909090897,431.0727272727272,445.56363636363676,517.7818181818184,502.6909090909103,452.1454545454544,369.3999999999978,320.38181818182056,405.45454545454413,384.45454545454777,490.2181818181816,477.0363636363618,430.1636363636353,345.7090909090912,396.8545454545456,381.40000000000146,419.45454545454413,467.8727272727265,432.7090909090912,404.8727272727301,364.1999999999971,347.27272727272793,343.56363636363676,340.7999999999993,409.30909090909336,446.3272727272706,425.40000000000146,375.1636363636353,398.1272727272735,378.0181818181809,363.40000000000146,393.0181818181809,521.9818181818191,409.38181818182056,338.472727272725,331.0363636363618,341.90909090908826,415.4909090909132,421.8545454545456,463.5090909090868,460.6181818181867,347.8181818181838,365.76363636363385,452.45454545454413,466.45454545454413,510.1636363636353,560.6545454545485,582.2727272727279,479.61818181817944,553.9272727272764,637.4545454545441,672.527272727275,748.5999999999985,827.7818181818147,769.0727272727308,718.3272727272706,718.1090909090926,879.7999999999956,908.6363636363676,1010.1636363636353,1039.1636363636353,909.2000000000044,813.94545454545,860.2909090909088,983.3454545454588,1081.0,1088.8909090909074,1240.490909090906,1104.018181818181,1051.0,1119.4000000000015,1192.7636363636411,1242.5818181818177,1376.1272727272735,1289.509090909094,1135.4727272727177,1132.2727272727352,1088.8727272727265,1186.8545454545383,1267.9818181818264,1272.8363636363647,1336.8181818181765,1214.1090909090854,985.7636363636411,1076.0181818181882,1147.5636363636295,1214.2181818181853,1253.5999999999913,1256.1454545454617,1033.2363636363589,923.5272727272823,863.3454545454442,973.6181818181794,976.7818181818293,1045.7090909090912,1111.94545454545,1004.3636363636324,881.4545454545441,857.6909090909176,970.1272727272735,986.8727272727265,982.9272727272619,1081.4000000000087,922.5999999999913,766.1272727272735,682.2363636363734,786.0545454545354,782.05454545455,836.8909090909146,891.436363636356,818.6545454545558,587.8727272727265,734.6181818181794,712.4181818181823,823.9818181818118,829.309090909097,846.6181818181794,811.0727272727236,607.8000000000029,663.3999999999942,800.8909090909146,589.8909090909146,843.5818181818177,947.2909090909088,768.2363636363589,545.4181818181823,457.5636363636295,526.2181818181853,606.0363636363618,692.0181818181882,864.8545454545383,710.9818181818264,606.2363636363589,670.6727272727294,713.0363636363618,713.9636363636382,823.8181818181765,888.8545454545529,760.1999999999971,661.0181818181882,999.1272727272735,679.8363636363647,755.436363636356,821.8909090909146,992.381818181806,776.2727272727352,678.1454545454471,679.2727272727352,794.4909090909205,764.6909090908885,843.9636363636528,974.1818181818235,868.7090909090766,637.5090909090941,1134.7818181818293,779.3090909090824,963.9454545454355,1025.127272727288,1072.0363636363763,939.0545454545354,814.2363636363589,873.0181818181882,988.9636363636237,1088.2363636363589,1188.236363636388,1281.1636363636353,959.2909090908943,870.5818181818177,1189.8181818181765,1101.7090909091057,1167.9454545454355,1366.0,1550.8545454545529,1428.7090909091057,1085.7272727272648,1357.0545454545354,1352.490909090906,1488.7636363636411,1648.5272727272823,1815.7818181818293,1531.0363636363472,1349.0,1709.2000000000116,1680.2909090908943,1965.0545454545645,2206.3454545454297,2414.9636363636528,2289.654545454541,1880.2363636363589,2371.8000000000175,2540.9090909090883,2597.7818181818,2975.472727272747,3299.9272727272473,2891.509090909094,2457.9272727272764,3028.4181818181823,2938.745454545453,3132.363636363647,3409.236363636359,3615.618181818194,3126.0545454545354,2559.8909090909,3265.872727272741,3233.7818181818,3283.4545454545587,1872.618181818194,3742.527272727253,2752.872727272741,2474.9454545454355,3048.3272727272997,3349.5999999999767,3657.6727272727294,3958.872727272741,4206.690909090888,3740.145454545447,3125.8363636363647,3718.600000000035,3994.7999999999884,3994.8363636363647,4095.0,5100.236363636388,3773.3090909090824,3349.4363636363414,3652.4545454545296,3693.6909090909176,4451.400000000023,4321.981818181812,4567.090909090883,3525.5454545454704,3271.109090909071,3663.963636363682,3666.127272727259,4141.145454545447,3518.381818181835,1835.1090909090708,3942.9272727272473,2765.254545454576,3436.5454545454704,3655.0909090908826,4162.709090909106],\"yaxis\":\"y2\"},{\"marker\":{\"color\":\"#36B6D2\"},\"mode\":\"lines\",\"name\":\"Engagement Index\",\"showlegend\":false,\"type\":\"scatter\",\"x\":[\"2020-01-01T00:00:00\",\"2020-01-08T00:00:00\",\"2020-01-15T00:00:00\",\"2020-01-22T00:00:00\",\"2020-01-29T00:00:00\",\"2020-02-05T00:00:00\",\"2020-02-12T00:00:00\",\"2020-02-19T00:00:00\",\"2020-02-26T00:00:00\",\"2020-03-04T00:00:00\",\"2020-03-11T00:00:00\",\"2020-03-18T00:00:00\",\"2020-03-25T00:00:00\",\"2020-04-01T00:00:00\",\"2020-04-08T00:00:00\",\"2020-04-15T00:00:00\",\"2020-04-22T00:00:00\",\"2020-04-29T00:00:00\",\"2020-05-06T00:00:00\",\"2020-05-13T00:00:00\",\"2020-05-20T00:00:00\",\"2020-05-27T00:00:00\",\"2020-06-03T00:00:00\",\"2020-06-10T00:00:00\",\"2020-06-17T00:00:00\",\"2020-06-24T00:00:00\",\"2020-07-01T00:00:00\",\"2020-07-08T00:00:00\",\"2020-07-15T00:00:00\",\"2020-07-22T00:00:00\",\"2020-07-29T00:00:00\",\"2020-08-05T00:00:00\",\"2020-08-12T00:00:00\",\"2020-08-19T00:00:00\",\"2020-08-26T00:00:00\",\"2020-09-02T00:00:00\",\"2020-09-09T00:00:00\",\"2020-09-16T00:00:00\",\"2020-09-23T00:00:00\",\"2020-09-30T00:00:00\",\"2020-10-07T00:00:00\",\"2020-10-14T00:00:00\",\"2020-10-21T00:00:00\",\"2020-10-28T00:00:00\",\"2020-11-04T00:00:00\",\"2020-11-11T00:00:00\",\"2020-11-18T00:00:00\",\"2020-11-25T00:00:00\",\"2020-12-02T00:00:00\",\"2020-12-09T00:00:00\",\"2020-12-16T00:00:00\",\"2020-12-23T00:00:00\",\"2020-12-30T00:00:00\"],\"xaxis\":\"x2\",\"y\":[66.49147826246408,97.72150205339138,82.60655715813066,95.11590187270292,97.00239891745278,96.12191096105092,139.30970040937697,165.2627955633741,161.63877827349637,163.6656185966412,146.41026107593612,177.96180829258876,176.94266965868033,182.11539628673418,186.78542739565907,169.6339812046988,176.12333403894687,169.3242882736424,164.63223748161448,151.6832958826084,116.72000458332339,130.52550738074245,113.59795940791672,82.09564602210185,52.047460962141464,40.49037867448917,36.900534378690274,38.96224979519264,37.55872380441559,36.61160140750748,40.160474563714885,47.742309391321285,85.87571103080735,139.46653781783098,170.20827681910058,160.06832284284195,184.95023614075646,199.52337832292258,214.83803833117895,189.56713332392096,181.5009977961961,189.68194161147272,188.48882509271016,177.32272014727377,176.91669907750293,177.9437591131698,192.9937262602978,110.87831103413463,189.28178679154348,191.3184900206173,191.48766795416222,57.69558052187508,43.72012554647842],\"yaxis\":\"y3\"},{\"marker\":{\"color\":\"#E76a5d\"},\"mode\":\"lines\",\"name\":\"COVID Cases\",\"showlegend\":false,\"type\":\"scatter\",\"x\":[\"2020-01-21T00:00:00\",\"2020-01-28T00:00:00\",\"2020-02-04T00:00:00\",\"2020-02-11T00:00:00\",\"2020-02-18T00:00:00\",\"2020-02-25T00:00:00\",\"2020-03-03T00:00:00\",\"2020-03-10T00:00:00\",\"2020-03-17T00:00:00\",\"2020-03-24T00:00:00\",\"2020-03-31T00:00:00\",\"2020-04-07T00:00:00\",\"2020-04-14T00:00:00\",\"2020-04-21T00:00:00\",\"2020-04-28T00:00:00\",\"2020-05-05T00:00:00\",\"2020-05-12T00:00:00\",\"2020-05-19T00:00:00\",\"2020-05-26T00:00:00\",\"2020-06-02T00:00:00\",\"2020-06-09T00:00:00\",\"2020-06-16T00:00:00\",\"2020-06-23T00:00:00\",\"2020-06-30T00:00:00\",\"2020-07-07T00:00:00\",\"2020-07-14T00:00:00\",\"2020-07-21T00:00:00\",\"2020-07-28T00:00:00\",\"2020-08-04T00:00:00\",\"2020-08-11T00:00:00\",\"2020-08-18T00:00:00\",\"2020-08-25T00:00:00\",\"2020-09-01T00:00:00\",\"2020-09-08T00:00:00\",\"2020-09-15T00:00:00\",\"2020-09-22T00:00:00\",\"2020-09-29T00:00:00\",\"2020-10-06T00:00:00\",\"2020-10-13T00:00:00\",\"2020-10-20T00:00:00\",\"2020-10-27T00:00:00\",\"2020-11-03T00:00:00\",\"2020-11-10T00:00:00\",\"2020-11-17T00:00:00\",\"2020-11-24T00:00:00\",\"2020-12-01T00:00:00\",\"2020-12-08T00:00:00\",\"2020-12-15T00:00:00\",\"2020-12-22T00:00:00\",\"2020-12-29T00:00:00\"],\"xaxis\":\"x2\",\"y\":[0.17857142857142858,0.17857142857142858,0.05238095238095238,0.1845238095238095,0.32142857142857145,0.44331501831501846,1.8975546975546977,9.26021709040577,102.94434461415594,310.7645502645502,532.7324675324675,558.3402597402597,522.0077922077924,543.381818181818,501.58181818181816,434.1480519480522,418.5558441558439,402.5402597402598,391.2415584415586,390.7584415584414,402.4233766233769,515.0779220779223,727.4103896103895,917.3142857142853,1095.4493506493507,1208.2285714285722,1191.4831168831172,1098.8051948051932,978.7948051948063,913.1844155844155,776.7974025974025,756.3714285714274,707.5532467532466,668.1454545454554,794.2883116883125,769.0337662337655,859.7610389610408,923.8181818181807,1080.8987012986993,1294.0,1556.4000000000026,2115.477922077923,2827.4207792207767,3149.6831168831186,2915.5038961038977,3679.631168831169,3994.2961038960993,3927.8259740259796,3329.355844155844,3908.899999999994],\"yaxis\":\"y4\"},{\"marker\":{\"color\":\"#36B6D2\"},\"mode\":\"lines\",\"name\":\"Engagement Index\",\"showlegend\":false,\"type\":\"scatter\",\"x\":[\"2020-01-31T00:00:00\",\"2020-02-29T00:00:00\",\"2020-03-31T00:00:00\",\"2020-04-30T00:00:00\",\"2020-05-31T00:00:00\",\"2020-06-30T00:00:00\",\"2020-07-31T00:00:00\",\"2020-08-31T00:00:00\",\"2020-09-30T00:00:00\",\"2020-10-31T00:00:00\",\"2020-11-30T00:00:00\",\"2020-12-31T00:00:00\"],\"xaxis\":\"x3\",\"y\":[89.55140640856081,129.49519312221344,165.55824091798166,181.46833218857608,141.06231282369737,77.78142533234775,37.977823473742404,97.24354714225275,193.1298857330394,186.30591015735206,161.04596405529603,153.23958990991082],\"yaxis\":\"y5\"},{\"marker\":{\"color\":\"#E76a5d\"},\"mode\":\"lines\",\"name\":\"COVID Cases\",\"showlegend\":false,\"type\":\"scatter\",\"x\":[\"2020-01-31T00:00:00\",\"2020-02-29T00:00:00\",\"2020-03-31T00:00:00\",\"2020-04-30T00:00:00\",\"2020-05-31T00:00:00\",\"2020-06-30T00:00:00\",\"2020-07-31T00:00:00\",\"2020-08-31T00:00:00\",\"2020-09-30T00:00:00\",\"2020-10-31T00:00:00\",\"2020-11-30T00:00:00\",\"2020-12-31T00:00:00\"],\"xaxis\":\"x3\",\"y\":[0.1590909090909091,0.2540229885057471,110.32339273629596,537.7545454545455,424.3671554252199,517.5872727272726,1125.1307917888564,864.3917888563047,737.7442424242423,1141.5085043988272,2670.493333333334,3744.518787878788],\"yaxis\":\"y6\"}],                        {\"annotations\":[{\"font\":{\"size\":16},\"showarrow\":false,\"text\":\"Daily\",\"x\":0.47,\"xanchor\":\"center\",\"xref\":\"paper\",\"y\":1.0,\"yanchor\":\"bottom\",\"yref\":\"paper\"},{\"font\":{\"size\":16},\"showarrow\":false,\"text\":\"Weekly\",\"x\":0.47,\"xanchor\":\"center\",\"xref\":\"paper\",\"y\":0.6111111111111112,\"yanchor\":\"bottom\",\"yref\":\"paper\"},{\"font\":{\"size\":16},\"showarrow\":false,\"text\":\"Monthly\",\"x\":0.47,\"xanchor\":\"center\",\"xref\":\"paper\",\"y\":0.22222222222222224,\"yanchor\":\"bottom\",\"yref\":\"paper\"}],\"autosize\":false,\"height\":750,\"plot_bgcolor\":\"#E6EFF1\",\"shapes\":[{\"line\":{\"color\":\"#9B9B9B\",\"dash\":\"dash\",\"width\":2},\"type\":\"line\",\"x0\":\"2020-01-21T00:00:00\",\"x1\":\"2020-01-21T00:00:00\",\"xref\":\"x\",\"y0\":0,\"y1\":1,\"yref\":\"y domain\"},{\"line\":{\"color\":\"#9B9B9B\",\"dash\":\"dash\",\"width\":2},\"type\":\"line\",\"x0\":\"2020-01-21T00:00:00\",\"x1\":\"2020-01-21T00:00:00\",\"xref\":\"x2\",\"y0\":0,\"y1\":1,\"yref\":\"y3 domain\"},{\"line\":{\"color\":\"#9B9B9B\",\"dash\":\"dash\",\"width\":2},\"type\":\"line\",\"x0\":\"2020-01-21T00:00:00\",\"x1\":\"2020-01-21T00:00:00\",\"xref\":\"x3\",\"y0\":0,\"y1\":1,\"yref\":\"y5 domain\"},{\"line\":{\"color\":\"#9B9B9B\",\"dash\":\"dash\",\"width\":2},\"type\":\"line\",\"x0\":\"2020-06-01T00:00:00\",\"x1\":\"2020-06-01T00:00:00\",\"xref\":\"x\",\"y0\":0,\"y1\":1,\"yref\":\"y domain\"},{\"line\":{\"color\":\"#9B9B9B\",\"dash\":\"dash\",\"width\":2},\"type\":\"line\",\"x0\":\"2020-06-01T00:00:00\",\"x1\":\"2020-06-01T00:00:00\",\"xref\":\"x2\",\"y0\":0,\"y1\":1,\"yref\":\"y3 domain\"},{\"line\":{\"color\":\"#9B9B9B\",\"dash\":\"dash\",\"width\":2},\"type\":\"line\",\"x0\":\"2020-06-01T00:00:00\",\"x1\":\"2020-06-01T00:00:00\",\"xref\":\"x3\",\"y0\":0,\"y1\":1,\"yref\":\"y5 domain\"},{\"line\":{\"color\":\"#9B9B9B\",\"dash\":\"dash\",\"width\":2},\"type\":\"line\",\"x0\":\"2020-08-12T00:00:00\",\"x1\":\"2020-08-12T00:00:00\",\"xref\":\"x\",\"y0\":0,\"y1\":1,\"yref\":\"y domain\"},{\"line\":{\"color\":\"#9B9B9B\",\"dash\":\"dash\",\"width\":2},\"type\":\"line\",\"x0\":\"2020-08-12T00:00:00\",\"x1\":\"2020-08-12T00:00:00\",\"xref\":\"x2\",\"y0\":0,\"y1\":1,\"yref\":\"y3 domain\"},{\"line\":{\"color\":\"#9B9B9B\",\"dash\":\"dash\",\"width\":2},\"type\":\"line\",\"x0\":\"2020-08-12T00:00:00\",\"x1\":\"2020-08-12T00:00:00\",\"xref\":\"x3\",\"y0\":0,\"y1\":1,\"yref\":\"y5 domain\"}],\"template\":{\"data\":{\"bar\":[{\"error_x\":{\"color\":\"#2a3f5f\"},\"error_y\":{\"color\":\"#2a3f5f\"},\"marker\":{\"line\":{\"color\":\"#E5ECF6\",\"width\":0.5},\"pattern\":{\"fillmode\":\"overlay\",\"size\":10,\"solidity\":0.2}},\"type\":\"bar\"}],\"barpolar\":[{\"marker\":{\"line\":{\"color\":\"#E5ECF6\",\"width\":0.5},\"pattern\":{\"fillmode\":\"overlay\",\"size\":10,\"solidity\":0.2}},\"type\":\"barpolar\"}],\"carpet\":[{\"aaxis\":{\"endlinecolor\":\"#2a3f5f\",\"gridcolor\":\"white\",\"linecolor\":\"white\",\"minorgridcolor\":\"white\",\"startlinecolor\":\"#2a3f5f\"},\"baxis\":{\"endlinecolor\":\"#2a3f5f\",\"gridcolor\":\"white\",\"linecolor\":\"white\",\"minorgridcolor\":\"white\",\"startlinecolor\":\"#2a3f5f\"},\"type\":\"carpet\"}],\"choropleth\":[{\"colorbar\":{\"outlinewidth\":0,\"ticks\":\"\"},\"type\":\"choropleth\"}],\"contour\":[{\"colorbar\":{\"outlinewidth\":0,\"ticks\":\"\"},\"colorscale\":[[0.0,\"#0d0887\"],[0.1111111111111111,\"#46039f\"],[0.2222222222222222,\"#7201a8\"],[0.3333333333333333,\"#9c179e\"],[0.4444444444444444,\"#bd3786\"],[0.5555555555555556,\"#d8576b\"],[0.6666666666666666,\"#ed7953\"],[0.7777777777777778,\"#fb9f3a\"],[0.8888888888888888,\"#fdca26\"],[1.0,\"#f0f921\"]],\"type\":\"contour\"}],\"contourcarpet\":[{\"colorbar\":{\"outlinewidth\":0,\"ticks\":\"\"},\"type\":\"contourcarpet\"}],\"heatmap\":[{\"colorbar\":{\"outlinewidth\":0,\"ticks\":\"\"},\"colorscale\":[[0.0,\"#0d0887\"],[0.1111111111111111,\"#46039f\"],[0.2222222222222222,\"#7201a8\"],[0.3333333333333333,\"#9c179e\"],[0.4444444444444444,\"#bd3786\"],[0.5555555555555556,\"#d8576b\"],[0.6666666666666666,\"#ed7953\"],[0.7777777777777778,\"#fb9f3a\"],[0.8888888888888888,\"#fdca26\"],[1.0,\"#f0f921\"]],\"type\":\"heatmap\"}],\"heatmapgl\":[{\"colorbar\":{\"outlinewidth\":0,\"ticks\":\"\"},\"colorscale\":[[0.0,\"#0d0887\"],[0.1111111111111111,\"#46039f\"],[0.2222222222222222,\"#7201a8\"],[0.3333333333333333,\"#9c179e\"],[0.4444444444444444,\"#bd3786\"],[0.5555555555555556,\"#d8576b\"],[0.6666666666666666,\"#ed7953\"],[0.7777777777777778,\"#fb9f3a\"],[0.8888888888888888,\"#fdca26\"],[1.0,\"#f0f921\"]],\"type\":\"heatmapgl\"}],\"histogram\":[{\"marker\":{\"pattern\":{\"fillmode\":\"overlay\",\"size\":10,\"solidity\":0.2}},\"type\":\"histogram\"}],\"histogram2d\":[{\"colorbar\":{\"outlinewidth\":0,\"ticks\":\"\"},\"colorscale\":[[0.0,\"#0d0887\"],[0.1111111111111111,\"#46039f\"],[0.2222222222222222,\"#7201a8\"],[0.3333333333333333,\"#9c179e\"],[0.4444444444444444,\"#bd3786\"],[0.5555555555555556,\"#d8576b\"],[0.6666666666666666,\"#ed7953\"],[0.7777777777777778,\"#fb9f3a\"],[0.8888888888888888,\"#fdca26\"],[1.0,\"#f0f921\"]],\"type\":\"histogram2d\"}],\"histogram2dcontour\":[{\"colorbar\":{\"outlinewidth\":0,\"ticks\":\"\"},\"colorscale\":[[0.0,\"#0d0887\"],[0.1111111111111111,\"#46039f\"],[0.2222222222222222,\"#7201a8\"],[0.3333333333333333,\"#9c179e\"],[0.4444444444444444,\"#bd3786\"],[0.5555555555555556,\"#d8576b\"],[0.6666666666666666,\"#ed7953\"],[0.7777777777777778,\"#fb9f3a\"],[0.8888888888888888,\"#fdca26\"],[1.0,\"#f0f921\"]],\"type\":\"histogram2dcontour\"}],\"mesh3d\":[{\"colorbar\":{\"outlinewidth\":0,\"ticks\":\"\"},\"type\":\"mesh3d\"}],\"parcoords\":[{\"line\":{\"colorbar\":{\"outlinewidth\":0,\"ticks\":\"\"}},\"type\":\"parcoords\"}],\"pie\":[{\"automargin\":true,\"type\":\"pie\"}],\"scatter\":[{\"marker\":{\"colorbar\":{\"outlinewidth\":0,\"ticks\":\"\"}},\"type\":\"scatter\"}],\"scatter3d\":[{\"line\":{\"colorbar\":{\"outlinewidth\":0,\"ticks\":\"\"}},\"marker\":{\"colorbar\":{\"outlinewidth\":0,\"ticks\":\"\"}},\"type\":\"scatter3d\"}],\"scattercarpet\":[{\"marker\":{\"colorbar\":{\"outlinewidth\":0,\"ticks\":\"\"}},\"type\":\"scattercarpet\"}],\"scattergeo\":[{\"marker\":{\"colorbar\":{\"outlinewidth\":0,\"ticks\":\"\"}},\"type\":\"scattergeo\"}],\"scattergl\":[{\"marker\":{\"colorbar\":{\"outlinewidth\":0,\"ticks\":\"\"}},\"type\":\"scattergl\"}],\"scattermapbox\":[{\"marker\":{\"colorbar\":{\"outlinewidth\":0,\"ticks\":\"\"}},\"type\":\"scattermapbox\"}],\"scatterpolar\":[{\"marker\":{\"colorbar\":{\"outlinewidth\":0,\"ticks\":\"\"}},\"type\":\"scatterpolar\"}],\"scatterpolargl\":[{\"marker\":{\"colorbar\":{\"outlinewidth\":0,\"ticks\":\"\"}},\"type\":\"scatterpolargl\"}],\"scatterternary\":[{\"marker\":{\"colorbar\":{\"outlinewidth\":0,\"ticks\":\"\"}},\"type\":\"scatterternary\"}],\"surface\":[{\"colorbar\":{\"outlinewidth\":0,\"ticks\":\"\"},\"colorscale\":[[0.0,\"#0d0887\"],[0.1111111111111111,\"#46039f\"],[0.2222222222222222,\"#7201a8\"],[0.3333333333333333,\"#9c179e\"],[0.4444444444444444,\"#bd3786\"],[0.5555555555555556,\"#d8576b\"],[0.6666666666666666,\"#ed7953\"],[0.7777777777777778,\"#fb9f3a\"],[0.8888888888888888,\"#fdca26\"],[1.0,\"#f0f921\"]],\"type\":\"surface\"}],\"table\":[{\"cells\":{\"fill\":{\"color\":\"#EBF0F8\"},\"line\":{\"color\":\"white\"}},\"header\":{\"fill\":{\"color\":\"#C8D4E3\"},\"line\":{\"color\":\"white\"}},\"type\":\"table\"}]},\"layout\":{\"annotationdefaults\":{\"arrowcolor\":\"#2a3f5f\",\"arrowhead\":0,\"arrowwidth\":1},\"autotypenumbers\":\"strict\",\"coloraxis\":{\"colorbar\":{\"outlinewidth\":0,\"ticks\":\"\"}},\"colorscale\":{\"diverging\":[[0,\"#8e0152\"],[0.1,\"#c51b7d\"],[0.2,\"#de77ae\"],[0.3,\"#f1b6da\"],[0.4,\"#fde0ef\"],[0.5,\"#f7f7f7\"],[0.6,\"#e6f5d0\"],[0.7,\"#b8e186\"],[0.8,\"#7fbc41\"],[0.9,\"#4d9221\"],[1,\"#276419\"]],\"sequential\":[[0.0,\"#0d0887\"],[0.1111111111111111,\"#46039f\"],[0.2222222222222222,\"#7201a8\"],[0.3333333333333333,\"#9c179e\"],[0.4444444444444444,\"#bd3786\"],[0.5555555555555556,\"#d8576b\"],[0.6666666666666666,\"#ed7953\"],[0.7777777777777778,\"#fb9f3a\"],[0.8888888888888888,\"#fdca26\"],[1.0,\"#f0f921\"]],\"sequentialminus\":[[0.0,\"#0d0887\"],[0.1111111111111111,\"#46039f\"],[0.2222222222222222,\"#7201a8\"],[0.3333333333333333,\"#9c179e\"],[0.4444444444444444,\"#bd3786\"],[0.5555555555555556,\"#d8576b\"],[0.6666666666666666,\"#ed7953\"],[0.7777777777777778,\"#fb9f3a\"],[0.8888888888888888,\"#fdca26\"],[1.0,\"#f0f921\"]]},\"colorway\":[\"#636efa\",\"#EF553B\",\"#00cc96\",\"#ab63fa\",\"#FFA15A\",\"#19d3f3\",\"#FF6692\",\"#B6E880\",\"#FF97FF\",\"#FECB52\"],\"font\":{\"color\":\"#2a3f5f\"},\"geo\":{\"bgcolor\":\"white\",\"lakecolor\":\"white\",\"landcolor\":\"#E5ECF6\",\"showlakes\":true,\"showland\":true,\"subunitcolor\":\"white\"},\"hoverlabel\":{\"align\":\"left\"},\"hovermode\":\"closest\",\"mapbox\":{\"style\":\"light\"},\"paper_bgcolor\":\"white\",\"plot_bgcolor\":\"#E5ECF6\",\"polar\":{\"angularaxis\":{\"gridcolor\":\"white\",\"linecolor\":\"white\",\"ticks\":\"\"},\"bgcolor\":\"#E5ECF6\",\"radialaxis\":{\"gridcolor\":\"white\",\"linecolor\":\"white\",\"ticks\":\"\"}},\"scene\":{\"xaxis\":{\"backgroundcolor\":\"#E5ECF6\",\"gridcolor\":\"white\",\"gridwidth\":2,\"linecolor\":\"white\",\"showbackground\":true,\"ticks\":\"\",\"zerolinecolor\":\"white\"},\"yaxis\":{\"backgroundcolor\":\"#E5ECF6\",\"gridcolor\":\"white\",\"gridwidth\":2,\"linecolor\":\"white\",\"showbackground\":true,\"ticks\":\"\",\"zerolinecolor\":\"white\"},\"zaxis\":{\"backgroundcolor\":\"#E5ECF6\",\"gridcolor\":\"white\",\"gridwidth\":2,\"linecolor\":\"white\",\"showbackground\":true,\"ticks\":\"\",\"zerolinecolor\":\"white\"}},\"shapedefaults\":{\"line\":{\"color\":\"#2a3f5f\"}},\"ternary\":{\"aaxis\":{\"gridcolor\":\"white\",\"linecolor\":\"white\",\"ticks\":\"\"},\"baxis\":{\"gridcolor\":\"white\",\"linecolor\":\"white\",\"ticks\":\"\"},\"bgcolor\":\"#E5ECF6\",\"caxis\":{\"gridcolor\":\"white\",\"linecolor\":\"white\",\"ticks\":\"\"}},\"title\":{\"x\":0.05},\"xaxis\":{\"automargin\":true,\"gridcolor\":\"white\",\"linecolor\":\"white\",\"ticks\":\"\",\"title\":{\"standoff\":15},\"zerolinecolor\":\"white\",\"zerolinewidth\":2},\"yaxis\":{\"automargin\":true,\"gridcolor\":\"white\",\"linecolor\":\"white\",\"ticks\":\"\",\"title\":{\"standoff\":15},\"zerolinecolor\":\"white\",\"zerolinewidth\":2}}},\"title\":{\"font\":{\"size\":30},\"x\":0.3,\"y\":0.92},\"width\":1000,\"xaxis\":{\"anchor\":\"y\",\"domain\":[0.0,0.94],\"showgrid\":false,\"title\":{\"text\":\"Date\"}},\"xaxis2\":{\"anchor\":\"y3\",\"domain\":[0.0,0.94],\"showgrid\":false,\"title\":{\"text\":\"Date\"}},\"xaxis3\":{\"anchor\":\"y5\",\"domain\":[0.0,0.94],\"showgrid\":false,\"title\":{\"text\":\"Date\"}},\"yaxis\":{\"anchor\":\"x\",\"domain\":[0.7777777777777778,1.0],\"showgrid\":false,\"title\":{\"text\":\"Engagement Index\"}},\"yaxis2\":{\"anchor\":\"x\",\"overlaying\":\"y\",\"showgrid\":false,\"side\":\"right\",\"title\":{\"text\":\"Cases\"}},\"yaxis3\":{\"anchor\":\"x2\",\"domain\":[0.3888888888888889,0.6111111111111112],\"showgrid\":false,\"title\":{\"text\":\"Engagement Index\"}},\"yaxis4\":{\"anchor\":\"x2\",\"overlaying\":\"y3\",\"showgrid\":false,\"side\":\"right\",\"title\":{\"text\":\"Cases\"}},\"yaxis5\":{\"anchor\":\"x3\",\"domain\":[0.0,0.22222222222222224],\"showgrid\":false,\"title\":{\"text\":\"Engagement Index\"}},\"yaxis6\":{\"anchor\":\"x3\",\"overlaying\":\"y5\",\"showgrid\":false,\"side\":\"right\",\"title\":{\"text\":\"Cases\"}}},                        {\"responsive\": true}                    ).then(function(){\n",
       "                            \n",
       "var gd = document.getElementById('ed846e74-b1dd-4cd1-a68d-d9dfab3945f9');\n",
       "var x = new MutationObserver(function (mutations, observer) {{\n",
       "        var display = window.getComputedStyle(gd).display;\n",
       "        if (!display || display === 'none') {{\n",
       "            console.log([gd, 'removed!']);\n",
       "            Plotly.purge(gd);\n",
       "            observer.disconnect();\n",
       "        }}\n",
       "}});\n",
       "\n",
       "// Listen for the removal of the full notebook cells\n",
       "var notebookContainer = gd.closest('#notebook-container');\n",
       "if (notebookContainer) {{\n",
       "    x.observe(notebookContainer, {childList: true});\n",
       "}}\n",
       "\n",
       "// Listen for the clearing of the current output cell\n",
       "var outputEl = gd.closest('.output');\n",
       "if (outputEl) {{\n",
       "    x.observe(outputEl, {childList: true});\n",
       "}}\n",
       "\n",
       "                        })                };                });            </script>        </div>"
      ]
     },
     "metadata": {},
     "output_type": "display_data"
    }
   ],
   "source": [
    "plot_resampled_engage_to_cases(engage_df_us, covid_case_us)"
   ]
  },
  {
   "cell_type": "markdown",
   "id": "8e15fe8c",
   "metadata": {
    "papermill": {
     "duration": 0.031426,
     "end_time": "2021-09-26T18:27:37.332840",
     "exception": false,
     "start_time": "2021-09-26T18:27:37.301414",
     "status": "completed"
    },
    "tags": []
   },
   "source": [
    "While time of year certainly seems to play a part in digital student engagement, the actual quantity of COVID-19 cases does not seem to have a significant impact of engagement.\n",
    "\n",
    "<div class=\"h3\">Visualizing With Box Plots</div>\n",
    "<br>\n",
    "<p>\n",
    "By utilizing box plots, we can clearly see the change in engagement over the 4 time periods. \n",
    "<br>\n",
    "It is clear that with the existence of COIVD-19 in the U.S., there is now an overall increase in digital engagement. Of course summer had the lowest engagement since school was out of seesion. Also, fall had higher engagement scores than the spring likely because the school systems had figured out how to more effective utilize digital platforms.\n",
    "</p>"
   ]
  },
  {
   "cell_type": "code",
   "execution_count": 11,
   "id": "7b13c1cc",
   "metadata": {
    "_kg_hide-input": true,
    "execution": {
     "iopub.execute_input": "2021-09-26T18:27:37.406461Z",
     "iopub.status.busy": "2021-09-26T18:27:37.405474Z",
     "iopub.status.idle": "2021-09-26T18:27:37.408697Z",
     "shell.execute_reply": "2021-09-26T18:27:37.408041Z"
    },
    "papermill": {
     "duration": 0.047336,
     "end_time": "2021-09-26T18:27:37.408854",
     "exception": false,
     "start_time": "2021-09-26T18:27:37.361518",
     "status": "completed"
    },
    "tags": []
   },
   "outputs": [],
   "source": [
    "def split_by_time(engage_df: pd.DataFrame, start: dt.datetime, end: dt.datetime):\n",
    "    engage_df = engage_df[engage_df.index > start]\n",
    "    engage_df = engage_df[engage_df.index < end]\n",
    "    return engage_df.engagement_index.values\n",
    "\n",
    "def plot_engage_box_plot(engage_df: pd.DataFrame):\n",
    "    y1 = split_by_time(engage_df, dt.datetime(2019,12,31), dt.datetime(2020,1,21))\n",
    "    y2 = split_by_time(engage_df, dt.datetime(2020,1,22), dt.datetime(2020,6,1))\n",
    "    y3 = split_by_time(engage_df, dt.datetime(2020,6,2), dt.datetime(2020,8,12))\n",
    "    y4 = split_by_time(engage_df, dt.datetime(2020,8,13), dt.datetime(2021,1,1))\n",
    "    \n",
    "    fig = go.Figure()\n",
    "    fig.add_trace(go.Box(y=y1, marker_color=px.colors.sequential.Teal[2], name='Before COVID Hit'))\n",
    "    fig.add_trace(go.Box(y=y2, marker_color=px.colors.sequential.Teal[3], name='Spring 2020'))\n",
    "    fig.add_trace(go.Box(y=y3, marker_color=px.colors.sequential.Teal[1], name='Summer 2020'))\n",
    "    fig.add_trace(go.Box(y=y4, marker_color=px.colors.sequential.Teal[4], name='Fall 2020'))\n",
    "    fig.update_layout(height=400, width=1000, yaxis_title='engagement', title='Engagement Index Box Plots', title_x=.3) \n",
    "    fig.show()"
   ]
  },
  {
   "cell_type": "code",
   "execution_count": 12,
   "id": "369a2b69",
   "metadata": {
    "execution": {
     "iopub.execute_input": "2021-09-26T18:27:37.470851Z",
     "iopub.status.busy": "2021-09-26T18:27:37.470063Z",
     "iopub.status.idle": "2021-09-26T18:27:37.514876Z",
     "shell.execute_reply": "2021-09-26T18:27:37.514189Z"
    },
    "papermill": {
     "duration": 0.077237,
     "end_time": "2021-09-26T18:27:37.515035",
     "exception": false,
     "start_time": "2021-09-26T18:27:37.437798",
     "status": "completed"
    },
    "tags": []
   },
   "outputs": [
    {
     "data": {
      "text/html": [
       "<div>                            <div id=\"72bb35f3-d667-4f95-bfec-536b57b9d21f\" class=\"plotly-graph-div\" style=\"height:400px; width:1000px;\"></div>            <script type=\"text/javascript\">                require([\"plotly\"], function(Plotly) {                    window.PLOTLYENV=window.PLOTLYENV || {};                                    if (document.getElementById(\"72bb35f3-d667-4f95-bfec-536b57b9d21f\")) {                    Plotly.newPlot(                        \"72bb35f3-d667-4f95-bfec-536b57b9d21f\",                        [{\"marker\":{\"color\":\"rgb(133, 196, 201)\"},\"name\":\"Before COVID Hit\",\"type\":\"box\",\"y\":[16.770189822938267,85.26234887154608,88.26327662178703,17.528291609353506,23.879479179167166,114.57364014608665,119.16312158636993,124.81071715556249,129.12457124677172,126.37062821972255,19.93999393694422,28.560770910780672,126.60170120122987,128.64213170272814,127.86309610380023,132.40857557502738,116.85341805524088,17.79960803452173,18.47410520607375,38.49788504342513]},{\"marker\":{\"color\":\"rgb(104, 171, 184)\"},\"name\":\"Spring 2020\",\"type\":\"box\",\"y\":[128.82883898524463,118.41035195148194,17.801630386052302,23.701606965878522,124.37537379561196,127.13638705307288,128.55041896341575,130.04735281919977,123.94775145594589,19.333508901347496,23.964155825924195,121.75566901477929,131.41793544155706,125.48961617571439,123.65002986082722,120.01060920825672,19.95259579035796,26.775322510255737,128.70101707537634,128.27418610656795,215.4140998494334,220.62888080701694,183.86486782062886,30.97849085216711,32.22789987228608,97.81250502080046,194.24115864330588,208.43538814327616,215.71889454369202,209.77026874039242,35.23178503590456,48.86460475889661,216.57508233319612,222.24354538826103,207.47856858502814,215.8115201271952,194.70871129719805,36.029682814545765,46.032591000512674,212.95647689502013,218.45389719497453,210.6622568054868,219.7437258717871,206.78286386317183,34.92435720668964,46.203467105524055,207.75082015468948,219.5918391691395,211.94010834331104,215.34402160755354,183.6755663744349,47.38648813535275,41.65234519892312,146.40277474723723,178.47052312474008,232.71878919411742,232.2541631429536,202.7769986171596,63.22868311457047,53.286675153058134,230.92931951263864,230.53802931362347,235.04380803917425,222.04964429938596,189.47727137290855,58.006311572381165,57.37332264345436,243.79519790444115,232.8531317790167,233.9682200030622,234.21533528195135,208.29275163398694,60.55883687868576,55.15011052513465,242.07795208836959,240.54456759594865,244.14577770293027,229.22385277694184,129.23167646224312,167.28094044588659,135.5463564499874,189.4648944970207,212.6044934346035,214.06278726708075,214.6248659820448,180.26672281410728,64.06963595218183,55.341078369734575,221.81189391746275,237.26088413027983,228.2569832696207,227.01041128463166,194.96790346021325,64.79398418641313,61.89648643631831,229.4687679531475,226.46880168228344,221.29449572467192,220.1484974503387,187.37776805324458,61.97751615644069,56.51994638897466,216.15296248154567,221.79883166028057,215.40681802355027,210.3376410280864,180.03699682751713,69.11680517591594,57.41011151662612,211.43175241829223,208.6855373813133,200.79192215327586,194.70273379659696,167.46791682537483,62.850791286240586,60.60826252662258,189.03966844901575,186.32177614113215,179.36863859065747,180.17781806733583,148.236503464396,52.10632151654039,39.00332490894224,51.45688720836686,166.69053832702483,167.99762374240964,175.75940853506364,154.18885947792143,51.77555846391051,48.13445694200352]},{\"marker\":{\"color\":\"rgb(168, 219, 217)\"},\"name\":\"Summer 2020\",\"type\":\"box\",\"y\":[151.25882988139495,147.92747903536642,130.33628629776757,48.760188226533735,47.81054764083127,142.66300566468448,126.42937910883857,121.11619950774578,119.8428038277512,98.26995740574358,40.22612952236255,35.271485368314835,86.11685458061075,73.82609194218423,70.34364254527235,69.97593706161138,56.667332315133,35.39781540542064,34.33210653606626,49.32578567792296,48.289607193563654,46.409822943402794,44.69112331569352,41.57343097433937,33.801397797701426,33.334351492767006,41.27093061846885,42.351593579051205,40.70673147637434,38.77731002082627,33.09707591592971,30.2658777385159,29.50809622850804,42.247105345281085,43.70154392539655,43.92771466083151,43.18344773370468,39.23856629766298,32.23478765201123,30.555470474967905,41.516420982142854,42.079340765027325,42.17036692081095,40.955719108110515,36.23353677621283,30.769007575757577,30.770911586338972,40.691797650900185,41.319727012778124,41.711310556760665,41.324831173571816,35.004716025378634,29.761002060793405,29.888822635023466,37.97812960442964,40.61239779659474,40.44865045758776,44.66196435117302,41.97014717661194,31.866509031610637,32.50052389764534,44.601688895262676,45.07383813611281,45.42028275997256,47.629422454207145,51.75553964091184,32.60388167388167,30.60363855124329,61.84618959842001,64.33721106061249]},{\"marker\":{\"color\":\"rgb(79, 144, 166)\"},\"name\":\"Fall 2020\",\"type\":\"box\",\"y\":[100.47845207026837,39.51733034773446,38.16576100060277,114.32245243406378,130.87631183257642,151.00570995266037,163.43245201072386,159.7416580198876,45.64941885356378,47.250258610781195,205.84175239169576,203.34451488550417,197.0983734065191,211.4903519827851,201.77333359926604,50.968981164383564,51.665530777795446,235.91892283873722,242.5424439642175,242.1168797446932,230.23206954865614,233.4927115447266,52.670541034710155,46.93739631869403,60.83253607740243,254.196125631011,233.42632091613135,235.18006601761437,218.74522697223446,61.57341837127532,67.5946694992876,234.6464019592664,243.48554924948562,247.3687579663547,263.043770904185,243.24650367652498,65.74789716780023,72.26096401385833,249.5924633160842,255.40329121565077,244.45337671718082,282.8792252254635,291.41651471815857,65.81740785940933,72.11006147293013,304.3198998492944,242.8697824758159,235.69429856306547,244.48968273671287,226.93636045360077,66.69329277968792,72.81560931049209,241.71015836606873,238.63053105781887,235.04634572853274,245.0437803384172,233.94350519726805,69.28086577360044,67.32268757355826,187.11443278739185,232.75536717460403,214.54736725724868,228.46987449542328,268.76357335759997,72.77283991378916,76.88547237549092,227.81002727831017,238.52443660244705,234.37531477406205,240.89438004955292,228.4344897169394,70.26655496300566,77.05218730046116,236.4607696585022,231.93807918644785,230.0774625242413,236.57741322567324,233.8685778995797,65.9817750213858,70.52280829511666,220.50983131891877,183.72117274600097,216.4634397044004,219.48087482162674,225.66666960595933,70.62998554782766,70.33099650226531,214.539617749373,221.30530961106814,214.30405170456822,216.39168970314796,233.89357741655164,71.60043353926083,72.6161500996738,211.3518847039496,225.44852662503655,233.50088174339007,222.38727061262674,233.98538195023673,73.07617533522958,73.48471407932144,246.0461815003313,268.4754786009486,67.82579801899317,57.747157760611614,51.34010680554329,52.2557509994289,60.66966175612972,231.80734280134448,254.50235909689124,230.40892398362058,235.9654415084977,238.43511956105652,71.2028807066085,71.29788127593247,231.5978676094629,246.06439289562576,239.4075934195353,250.76979458550932,236.24302529122667,72.30202331703647,72.62721303978572,227.7313282854371,240.14845220579068,263.4667913896089,244.95900567087665,256.79968493301726,69.06303038889283,64.80657814552141,223.2420342812331,218.0765508699855,151.10499722000628,51.1728854438753,37.90119468195058,36.847772879091515,40.23063469136327,42.76873856004454,43.842840176794084,44.39114505125305,43.049106041703794]}],                        {\"height\":400,\"template\":{\"data\":{\"bar\":[{\"error_x\":{\"color\":\"#2a3f5f\"},\"error_y\":{\"color\":\"#2a3f5f\"},\"marker\":{\"line\":{\"color\":\"#E5ECF6\",\"width\":0.5},\"pattern\":{\"fillmode\":\"overlay\",\"size\":10,\"solidity\":0.2}},\"type\":\"bar\"}],\"barpolar\":[{\"marker\":{\"line\":{\"color\":\"#E5ECF6\",\"width\":0.5},\"pattern\":{\"fillmode\":\"overlay\",\"size\":10,\"solidity\":0.2}},\"type\":\"barpolar\"}],\"carpet\":[{\"aaxis\":{\"endlinecolor\":\"#2a3f5f\",\"gridcolor\":\"white\",\"linecolor\":\"white\",\"minorgridcolor\":\"white\",\"startlinecolor\":\"#2a3f5f\"},\"baxis\":{\"endlinecolor\":\"#2a3f5f\",\"gridcolor\":\"white\",\"linecolor\":\"white\",\"minorgridcolor\":\"white\",\"startlinecolor\":\"#2a3f5f\"},\"type\":\"carpet\"}],\"choropleth\":[{\"colorbar\":{\"outlinewidth\":0,\"ticks\":\"\"},\"type\":\"choropleth\"}],\"contour\":[{\"colorbar\":{\"outlinewidth\":0,\"ticks\":\"\"},\"colorscale\":[[0.0,\"#0d0887\"],[0.1111111111111111,\"#46039f\"],[0.2222222222222222,\"#7201a8\"],[0.3333333333333333,\"#9c179e\"],[0.4444444444444444,\"#bd3786\"],[0.5555555555555556,\"#d8576b\"],[0.6666666666666666,\"#ed7953\"],[0.7777777777777778,\"#fb9f3a\"],[0.8888888888888888,\"#fdca26\"],[1.0,\"#f0f921\"]],\"type\":\"contour\"}],\"contourcarpet\":[{\"colorbar\":{\"outlinewidth\":0,\"ticks\":\"\"},\"type\":\"contourcarpet\"}],\"heatmap\":[{\"colorbar\":{\"outlinewidth\":0,\"ticks\":\"\"},\"colorscale\":[[0.0,\"#0d0887\"],[0.1111111111111111,\"#46039f\"],[0.2222222222222222,\"#7201a8\"],[0.3333333333333333,\"#9c179e\"],[0.4444444444444444,\"#bd3786\"],[0.5555555555555556,\"#d8576b\"],[0.6666666666666666,\"#ed7953\"],[0.7777777777777778,\"#fb9f3a\"],[0.8888888888888888,\"#fdca26\"],[1.0,\"#f0f921\"]],\"type\":\"heatmap\"}],\"heatmapgl\":[{\"colorbar\":{\"outlinewidth\":0,\"ticks\":\"\"},\"colorscale\":[[0.0,\"#0d0887\"],[0.1111111111111111,\"#46039f\"],[0.2222222222222222,\"#7201a8\"],[0.3333333333333333,\"#9c179e\"],[0.4444444444444444,\"#bd3786\"],[0.5555555555555556,\"#d8576b\"],[0.6666666666666666,\"#ed7953\"],[0.7777777777777778,\"#fb9f3a\"],[0.8888888888888888,\"#fdca26\"],[1.0,\"#f0f921\"]],\"type\":\"heatmapgl\"}],\"histogram\":[{\"marker\":{\"pattern\":{\"fillmode\":\"overlay\",\"size\":10,\"solidity\":0.2}},\"type\":\"histogram\"}],\"histogram2d\":[{\"colorbar\":{\"outlinewidth\":0,\"ticks\":\"\"},\"colorscale\":[[0.0,\"#0d0887\"],[0.1111111111111111,\"#46039f\"],[0.2222222222222222,\"#7201a8\"],[0.3333333333333333,\"#9c179e\"],[0.4444444444444444,\"#bd3786\"],[0.5555555555555556,\"#d8576b\"],[0.6666666666666666,\"#ed7953\"],[0.7777777777777778,\"#fb9f3a\"],[0.8888888888888888,\"#fdca26\"],[1.0,\"#f0f921\"]],\"type\":\"histogram2d\"}],\"histogram2dcontour\":[{\"colorbar\":{\"outlinewidth\":0,\"ticks\":\"\"},\"colorscale\":[[0.0,\"#0d0887\"],[0.1111111111111111,\"#46039f\"],[0.2222222222222222,\"#7201a8\"],[0.3333333333333333,\"#9c179e\"],[0.4444444444444444,\"#bd3786\"],[0.5555555555555556,\"#d8576b\"],[0.6666666666666666,\"#ed7953\"],[0.7777777777777778,\"#fb9f3a\"],[0.8888888888888888,\"#fdca26\"],[1.0,\"#f0f921\"]],\"type\":\"histogram2dcontour\"}],\"mesh3d\":[{\"colorbar\":{\"outlinewidth\":0,\"ticks\":\"\"},\"type\":\"mesh3d\"}],\"parcoords\":[{\"line\":{\"colorbar\":{\"outlinewidth\":0,\"ticks\":\"\"}},\"type\":\"parcoords\"}],\"pie\":[{\"automargin\":true,\"type\":\"pie\"}],\"scatter\":[{\"marker\":{\"colorbar\":{\"outlinewidth\":0,\"ticks\":\"\"}},\"type\":\"scatter\"}],\"scatter3d\":[{\"line\":{\"colorbar\":{\"outlinewidth\":0,\"ticks\":\"\"}},\"marker\":{\"colorbar\":{\"outlinewidth\":0,\"ticks\":\"\"}},\"type\":\"scatter3d\"}],\"scattercarpet\":[{\"marker\":{\"colorbar\":{\"outlinewidth\":0,\"ticks\":\"\"}},\"type\":\"scattercarpet\"}],\"scattergeo\":[{\"marker\":{\"colorbar\":{\"outlinewidth\":0,\"ticks\":\"\"}},\"type\":\"scattergeo\"}],\"scattergl\":[{\"marker\":{\"colorbar\":{\"outlinewidth\":0,\"ticks\":\"\"}},\"type\":\"scattergl\"}],\"scattermapbox\":[{\"marker\":{\"colorbar\":{\"outlinewidth\":0,\"ticks\":\"\"}},\"type\":\"scattermapbox\"}],\"scatterpolar\":[{\"marker\":{\"colorbar\":{\"outlinewidth\":0,\"ticks\":\"\"}},\"type\":\"scatterpolar\"}],\"scatterpolargl\":[{\"marker\":{\"colorbar\":{\"outlinewidth\":0,\"ticks\":\"\"}},\"type\":\"scatterpolargl\"}],\"scatterternary\":[{\"marker\":{\"colorbar\":{\"outlinewidth\":0,\"ticks\":\"\"}},\"type\":\"scatterternary\"}],\"surface\":[{\"colorbar\":{\"outlinewidth\":0,\"ticks\":\"\"},\"colorscale\":[[0.0,\"#0d0887\"],[0.1111111111111111,\"#46039f\"],[0.2222222222222222,\"#7201a8\"],[0.3333333333333333,\"#9c179e\"],[0.4444444444444444,\"#bd3786\"],[0.5555555555555556,\"#d8576b\"],[0.6666666666666666,\"#ed7953\"],[0.7777777777777778,\"#fb9f3a\"],[0.8888888888888888,\"#fdca26\"],[1.0,\"#f0f921\"]],\"type\":\"surface\"}],\"table\":[{\"cells\":{\"fill\":{\"color\":\"#EBF0F8\"},\"line\":{\"color\":\"white\"}},\"header\":{\"fill\":{\"color\":\"#C8D4E3\"},\"line\":{\"color\":\"white\"}},\"type\":\"table\"}]},\"layout\":{\"annotationdefaults\":{\"arrowcolor\":\"#2a3f5f\",\"arrowhead\":0,\"arrowwidth\":1},\"autotypenumbers\":\"strict\",\"coloraxis\":{\"colorbar\":{\"outlinewidth\":0,\"ticks\":\"\"}},\"colorscale\":{\"diverging\":[[0,\"#8e0152\"],[0.1,\"#c51b7d\"],[0.2,\"#de77ae\"],[0.3,\"#f1b6da\"],[0.4,\"#fde0ef\"],[0.5,\"#f7f7f7\"],[0.6,\"#e6f5d0\"],[0.7,\"#b8e186\"],[0.8,\"#7fbc41\"],[0.9,\"#4d9221\"],[1,\"#276419\"]],\"sequential\":[[0.0,\"#0d0887\"],[0.1111111111111111,\"#46039f\"],[0.2222222222222222,\"#7201a8\"],[0.3333333333333333,\"#9c179e\"],[0.4444444444444444,\"#bd3786\"],[0.5555555555555556,\"#d8576b\"],[0.6666666666666666,\"#ed7953\"],[0.7777777777777778,\"#fb9f3a\"],[0.8888888888888888,\"#fdca26\"],[1.0,\"#f0f921\"]],\"sequentialminus\":[[0.0,\"#0d0887\"],[0.1111111111111111,\"#46039f\"],[0.2222222222222222,\"#7201a8\"],[0.3333333333333333,\"#9c179e\"],[0.4444444444444444,\"#bd3786\"],[0.5555555555555556,\"#d8576b\"],[0.6666666666666666,\"#ed7953\"],[0.7777777777777778,\"#fb9f3a\"],[0.8888888888888888,\"#fdca26\"],[1.0,\"#f0f921\"]]},\"colorway\":[\"#636efa\",\"#EF553B\",\"#00cc96\",\"#ab63fa\",\"#FFA15A\",\"#19d3f3\",\"#FF6692\",\"#B6E880\",\"#FF97FF\",\"#FECB52\"],\"font\":{\"color\":\"#2a3f5f\"},\"geo\":{\"bgcolor\":\"white\",\"lakecolor\":\"white\",\"landcolor\":\"#E5ECF6\",\"showlakes\":true,\"showland\":true,\"subunitcolor\":\"white\"},\"hoverlabel\":{\"align\":\"left\"},\"hovermode\":\"closest\",\"mapbox\":{\"style\":\"light\"},\"paper_bgcolor\":\"white\",\"plot_bgcolor\":\"#E5ECF6\",\"polar\":{\"angularaxis\":{\"gridcolor\":\"white\",\"linecolor\":\"white\",\"ticks\":\"\"},\"bgcolor\":\"#E5ECF6\",\"radialaxis\":{\"gridcolor\":\"white\",\"linecolor\":\"white\",\"ticks\":\"\"}},\"scene\":{\"xaxis\":{\"backgroundcolor\":\"#E5ECF6\",\"gridcolor\":\"white\",\"gridwidth\":2,\"linecolor\":\"white\",\"showbackground\":true,\"ticks\":\"\",\"zerolinecolor\":\"white\"},\"yaxis\":{\"backgroundcolor\":\"#E5ECF6\",\"gridcolor\":\"white\",\"gridwidth\":2,\"linecolor\":\"white\",\"showbackground\":true,\"ticks\":\"\",\"zerolinecolor\":\"white\"},\"zaxis\":{\"backgroundcolor\":\"#E5ECF6\",\"gridcolor\":\"white\",\"gridwidth\":2,\"linecolor\":\"white\",\"showbackground\":true,\"ticks\":\"\",\"zerolinecolor\":\"white\"}},\"shapedefaults\":{\"line\":{\"color\":\"#2a3f5f\"}},\"ternary\":{\"aaxis\":{\"gridcolor\":\"white\",\"linecolor\":\"white\",\"ticks\":\"\"},\"baxis\":{\"gridcolor\":\"white\",\"linecolor\":\"white\",\"ticks\":\"\"},\"bgcolor\":\"#E5ECF6\",\"caxis\":{\"gridcolor\":\"white\",\"linecolor\":\"white\",\"ticks\":\"\"}},\"title\":{\"x\":0.05},\"xaxis\":{\"automargin\":true,\"gridcolor\":\"white\",\"linecolor\":\"white\",\"ticks\":\"\",\"title\":{\"standoff\":15},\"zerolinecolor\":\"white\",\"zerolinewidth\":2},\"yaxis\":{\"automargin\":true,\"gridcolor\":\"white\",\"linecolor\":\"white\",\"ticks\":\"\",\"title\":{\"standoff\":15},\"zerolinecolor\":\"white\",\"zerolinewidth\":2}}},\"title\":{\"text\":\"Engagement Index Box Plots\",\"x\":0.3},\"width\":1000,\"yaxis\":{\"title\":{\"text\":\"engagement\"}}},                        {\"responsive\": true}                    ).then(function(){\n",
       "                            \n",
       "var gd = document.getElementById('72bb35f3-d667-4f95-bfec-536b57b9d21f');\n",
       "var x = new MutationObserver(function (mutations, observer) {{\n",
       "        var display = window.getComputedStyle(gd).display;\n",
       "        if (!display || display === 'none') {{\n",
       "            console.log([gd, 'removed!']);\n",
       "            Plotly.purge(gd);\n",
       "            observer.disconnect();\n",
       "        }}\n",
       "}});\n",
       "\n",
       "// Listen for the removal of the full notebook cells\n",
       "var notebookContainer = gd.closest('#notebook-container');\n",
       "if (notebookContainer) {{\n",
       "    x.observe(notebookContainer, {childList: true});\n",
       "}}\n",
       "\n",
       "// Listen for the clearing of the current output cell\n",
       "var outputEl = gd.closest('.output');\n",
       "if (outputEl) {{\n",
       "    x.observe(outputEl, {childList: true});\n",
       "}}\n",
       "\n",
       "                        })                };                });            </script>        </div>"
      ]
     },
     "metadata": {},
     "output_type": "display_data"
    }
   ],
   "source": [
    "plot_engage_box_plot(engage_df_us)"
   ]
  },
  {
   "cell_type": "markdown",
   "id": "e5f50c6f",
   "metadata": {
    "papermill": {
     "duration": 0.029664,
     "end_time": "2021-09-26T18:27:37.575629",
     "exception": false,
     "start_time": "2021-09-26T18:27:37.545965",
     "status": "completed"
    },
    "tags": []
   },
   "source": [
    "<div class=\"h1\">Geospatial Analysis</div>\n",
    "\n",
    "<br>\n",
    "<div class=\"h3\">Mapping Engagement and COVID-19 Cases</div>\n",
    "<br>\n",
    "<p>\n",
    "The 8 maps below show the geospatial landscape of engagement and cases. The first column shows avg total engagement, and the second column shows avg COVID-19 cases per day. The 4 rows show the different segments of the year mentioned in the time series portion.\n",
    "<br>\n",
    "There does not appear to be much correlation between location and engagement or cases.\n",
    "</p>"
   ]
  },
  {
   "cell_type": "code",
   "execution_count": 13,
   "id": "b05932ff",
   "metadata": {
    "_kg_hide-input": true,
    "execution": {
     "iopub.execute_input": "2021-09-26T18:27:37.638053Z",
     "iopub.status.busy": "2021-09-26T18:27:37.637009Z",
     "iopub.status.idle": "2021-09-26T18:27:37.659310Z",
     "shell.execute_reply": "2021-09-26T18:27:37.659801Z"
    },
    "papermill": {
     "duration": 0.055449,
     "end_time": "2021-09-26T18:27:37.660023",
     "exception": false,
     "start_time": "2021-09-26T18:27:37.604574",
     "status": "completed"
    },
    "tags": []
   },
   "outputs": [],
   "source": [
    "def add_map(fig: go.Figure, row: int, col: int, color: str, vals: list):\n",
    "    fig.add_trace(\n",
    "        go.Choropleth(\n",
    "            locations=st_ids,\n",
    "            locationmode = 'USA-states',\n",
    "            z = vals,\n",
    "            colorscale=color, \n",
    "        ),\n",
    "        row=row, col=col\n",
    "    )\n",
    "    \n",
    "def segment_data_by_time(state_map: dict, df_type: int, start_date: dt.datetime, end_date: dt.datetime):\n",
    "    vals = list()\n",
    "    for st in list(state_map.keys()):\n",
    "        df = state_map[st][df_type][state_map[st][df_type].index < end_date]\n",
    "        df = df[df.index > start_date]\n",
    "        if(df_type==0):\n",
    "            if(len(df)>0):\n",
    "                vals.append(df['new_cases'].mean())\n",
    "        else:\n",
    "            vals.append(df['engagement_index'].mean())\n",
    "            \n",
    "    return vals\n",
    "\n",
    "def plot_engage_cases_maps_over_time(state_map: dict):\n",
    "    rows = 4\n",
    "    cols = 2\n",
    "    fig = make_subplots(rows=4, cols=2, \n",
    "                        column_titles=['Engagement', 'Cases'], \n",
    "                        row_titles=['Before COVID Hit', 'Spring 2020', 'Summer 2020', 'Fall 2020'],\n",
    "                        specs=[[{'type': 'choropleth'} for c in np.arange(cols)] for r in np.arange(rows)])\n",
    "\n",
    "\n",
    "    add_map(fig, 1,1,'teal', segment_data_by_time(state_map, 1, dt.datetime(2019,12,31), dt.datetime(2020,1,21)))\n",
    "    add_map(fig, 2,1,'teal', segment_data_by_time(state_map, 1, dt.datetime(2020,1,22), dt.datetime(2020,6,1)))\n",
    "    add_map(fig, 3,1,'teal', segment_data_by_time(state_map, 1, dt.datetime(2020,6,2), dt.datetime(2020,8,12)))\n",
    "    add_map(fig, 4,1,'teal', segment_data_by_time(state_map, 1, dt.datetime(2020,8,13), dt.datetime(2021,1,1)))\n",
    "\n",
    "    add_map(fig, 1,2,'orrd', segment_data_by_time(state_map, 0, dt.datetime(2019,12,31), dt.datetime(2020,1,21)))\n",
    "    add_map(fig, 2,2,'orrd', segment_data_by_time(state_map, 0, dt.datetime(2020,1,22), dt.datetime(2020,6,1)))\n",
    "    add_map(fig, 3,2,'orrd', segment_data_by_time(state_map, 0, dt.datetime(2020,6,2), dt.datetime(2020,8,12)))\n",
    "    add_map(fig, 4,2,'orrd', segment_data_by_time(state_map, 0, dt.datetime(2020,8,13), dt.datetime(2021,1,1)))\n",
    "\n",
    "    layout = dict(geo = dict(scope='usa'), height=1000, width=1000, title_font_size=30)\n",
    "    fig.update_traces(showscale=False)\n",
    "    fig.update_layout(layout)\n",
    "    fig.update_geos(scope='usa')\n",
    "\n",
    "    fig.show()"
   ]
  },
  {
   "cell_type": "code",
   "execution_count": 14,
   "id": "cf9f0520",
   "metadata": {
    "execution": {
     "iopub.execute_input": "2021-09-26T18:27:37.721261Z",
     "iopub.status.busy": "2021-09-26T18:27:37.720306Z",
     "iopub.status.idle": "2021-09-26T18:27:37.958186Z",
     "shell.execute_reply": "2021-09-26T18:27:37.957484Z"
    },
    "papermill": {
     "duration": 0.269987,
     "end_time": "2021-09-26T18:27:37.958369",
     "exception": false,
     "start_time": "2021-09-26T18:27:37.688382",
     "status": "completed"
    },
    "tags": []
   },
   "outputs": [
    {
     "data": {
      "text/html": [
       "<div>                            <div id=\"25db5631-987d-45aa-bdf3-fe6023700bd9\" class=\"plotly-graph-div\" style=\"height:1000px; width:1000px;\"></div>            <script type=\"text/javascript\">                require([\"plotly\"], function(Plotly) {                    window.PLOTLYENV=window.PLOTLYENV || {};                                    if (document.getElementById(\"25db5631-987d-45aa-bdf3-fe6023700bd9\")) {                    Plotly.newPlot(                        \"25db5631-987d-45aa-bdf3-fe6023700bd9\",                        [{\"colorscale\":[[0.0,\"rgb(209, 238, 234)\"],[0.16666666666666666,\"rgb(168, 219, 217)\"],[0.3333333333333333,\"rgb(133, 196, 201)\"],[0.5,\"rgb(104, 171, 184)\"],[0.6666666666666666,\"rgb(79, 144, 166)\"],[0.8333333333333334,\"rgb(59, 115, 143)\"],[1.0,\"rgb(42, 86, 116)\"]],\"geo\":\"geo\",\"locationmode\":\"USA-states\",\"locations\":[\"CT\",\"UT\",\"MA\",\"IL\",\"CA\",\"OH\",\"NY\",\"IN\",\"WA\",\"MO\",\"VA\",\"NC\",\"WI\",\"NJ\",\"TX\",\"TN\",\"NH\",\"MI\",\"MN\",\"AZ\",\"FL\",\"ND\"],\"showscale\":false,\"type\":\"choropleth\",\"z\":[21033.27299022989,10597.414129202278,23691.2645,25876.74720879121,9083.146136363635,25881.7838,15289.913750000002,27785.501607142865,11900.528999999999,20096.394666666674,15654.2645,14542.485374999998,32940.079750000004,16446.98175,9603.9555,8954.994999999999,17884.42225,8554.7755,null,28664.8675,14236.0675,18773.761]},{\"colorscale\":[[0.0,\"rgb(209, 238, 234)\"],[0.16666666666666666,\"rgb(168, 219, 217)\"],[0.3333333333333333,\"rgb(133, 196, 201)\"],[0.5,\"rgb(104, 171, 184)\"],[0.6666666666666666,\"rgb(79, 144, 166)\"],[0.8333333333333334,\"rgb(59, 115, 143)\"],[1.0,\"rgb(42, 86, 116)\"]],\"geo\":\"geo3\",\"locationmode\":\"USA-states\",\"locations\":[\"CT\",\"UT\",\"MA\",\"IL\",\"CA\",\"OH\",\"NY\",\"IN\",\"WA\",\"MO\",\"VA\",\"NC\",\"WI\",\"NJ\",\"TX\",\"TN\",\"NH\",\"MI\",\"MN\",\"AZ\",\"FL\",\"ND\"],\"showscale\":false,\"type\":\"choropleth\",\"z\":[53373.561105128196,27070.447205063967,40345.821516483506,63597.91955779654,20706.260243706296,57791.98886153847,56164.04663003664,46494.30400366301,21465.38756923077,39820.586820512806,31964.786525641026,13403.167692307698,64422.12762820511,38851.91280769229,9056.046899224804,6959.889384615383,49913.35596153844,7787.723846153852,38790.548804347825,42704.83223076924,34771.62753846154,18955.556363636362]},{\"colorscale\":[[0.0,\"rgb(209, 238, 234)\"],[0.16666666666666666,\"rgb(168, 219, 217)\"],[0.3333333333333333,\"rgb(133, 196, 201)\"],[0.5,\"rgb(104, 171, 184)\"],[0.6666666666666666,\"rgb(79, 144, 166)\"],[0.8333333333333334,\"rgb(59, 115, 143)\"],[1.0,\"rgb(42, 86, 116)\"]],\"geo\":\"geo5\",\"locationmode\":\"USA-states\",\"locations\":[\"CT\",\"UT\",\"MA\",\"IL\",\"CA\",\"OH\",\"NY\",\"IN\",\"WA\",\"MO\",\"VA\",\"NC\",\"WI\",\"NJ\",\"TX\",\"TN\",\"NH\",\"MI\",\"MN\",\"AZ\",\"FL\",\"ND\"],\"showscale\":false,\"type\":\"choropleth\",\"z\":[11325.301872249587,1137.0545390570028,12553.793972789117,6288.8149579831925,3487.8666893939394,4580.381782539684,15874.389856292513,4141.261105442177,6620.953335714285,6532.1645,4158.430249999999,585.3417499999999,6182.012880952382,12259.539499999992,2520.0318571428575,79.46599999999998,2863.7917857142857,379.7223571428573,0.78,9192.868142857144,4881.213142857143,null]},{\"colorscale\":[[0.0,\"rgb(209, 238, 234)\"],[0.16666666666666666,\"rgb(168, 219, 217)\"],[0.3333333333333333,\"rgb(133, 196, 201)\"],[0.5,\"rgb(104, 171, 184)\"],[0.6666666666666666,\"rgb(79, 144, 166)\"],[0.8333333333333334,\"rgb(59, 115, 143)\"],[1.0,\"rgb(42, 86, 116)\"]],\"geo\":\"geo7\",\"locationmode\":\"USA-states\",\"locations\":[\"CT\",\"UT\",\"MA\",\"IL\",\"CA\",\"OH\",\"NY\",\"IN\",\"WA\",\"MO\",\"VA\",\"NC\",\"WI\",\"NJ\",\"TX\",\"TN\",\"NH\",\"MI\",\"MN\",\"AZ\",\"FL\",\"ND\"],\"showscale\":false,\"type\":\"choropleth\",\"z\":[59493.18245238094,30233.76203281139,59458.04590670409,84684.07570658265,38309.263058441575,44795.23708511904,56158.79106156462,63148.26231292518,33758.79303690477,47014.125785714285,48804.734624999975,33508.3758392857,41829.31453571429,38256.796785714265,33529.244107142826,46060.09507142857,39058.08775000002,39374.554857142866,0.645,70845.57557142856,56541.84728571425,null]},{\"colorscale\":[[0.0,\"rgb(255,247,236)\"],[0.125,\"rgb(254,232,200)\"],[0.25,\"rgb(253,212,158)\"],[0.375,\"rgb(253,187,132)\"],[0.5,\"rgb(252,141,89)\"],[0.625,\"rgb(239,101,72)\"],[0.75,\"rgb(215,48,31)\"],[0.875,\"rgb(179,0,0)\"],[1.0,\"rgb(127,0,0)\"]],\"geo\":\"geo2\",\"locationmode\":\"USA-states\",\"locations\":[\"CT\",\"UT\",\"MA\",\"IL\",\"CA\",\"OH\",\"NY\",\"IN\",\"WA\",\"MO\",\"VA\",\"NC\",\"WI\",\"NJ\",\"TX\",\"TN\",\"NH\",\"MI\",\"MN\",\"AZ\",\"FL\",\"ND\"],\"showscale\":false,\"type\":\"choropleth\",\"z\":[]},{\"colorscale\":[[0.0,\"rgb(255,247,236)\"],[0.125,\"rgb(254,232,200)\"],[0.25,\"rgb(253,212,158)\"],[0.375,\"rgb(253,187,132)\"],[0.5,\"rgb(252,141,89)\"],[0.625,\"rgb(239,101,72)\"],[0.75,\"rgb(215,48,31)\"],[0.875,\"rgb(179,0,0)\"],[1.0,\"rgb(127,0,0)\"]],\"geo\":\"geo4\",\"locationmode\":\"USA-states\",\"locations\":[\"CT\",\"UT\",\"MA\",\"IL\",\"CA\",\"OH\",\"NY\",\"IN\",\"WA\",\"MO\",\"VA\",\"NC\",\"WI\",\"NJ\",\"TX\",\"TN\",\"NH\",\"MI\",\"MN\",\"AZ\",\"FL\",\"ND\"],\"showscale\":false,\"type\":\"choropleth\",\"z\":[496.83529411764704,101.3298969072165,801.3636363636364,934.7906976744187,883.703125,422.7738095238095,4082.336956521739,407.2298850574713,175.48461538461538,154.61627906976744,518.6860465116279,318.73333333333335,159.69230769230768,1802.752808988764,590.6727272727272,259.45454545454544,51.10989010989011,691.0240963855422,285.7471264367816,156.9763779527559,610.3804347826087,32.31707317073171]},{\"colorscale\":[[0.0,\"rgb(255,247,236)\"],[0.125,\"rgb(254,232,200)\"],[0.25,\"rgb(253,212,158)\"],[0.375,\"rgb(253,187,132)\"],[0.5,\"rgb(252,141,89)\"],[0.625,\"rgb(239,101,72)\"],[0.75,\"rgb(215,48,31)\"],[0.875,\"rgb(179,0,0)\"],[1.0,\"rgb(127,0,0)\"]],\"geo\":\"geo6\",\"locationmode\":\"USA-states\",\"locations\":[\"CT\",\"UT\",\"MA\",\"IL\",\"CA\",\"OH\",\"NY\",\"IN\",\"WA\",\"MO\",\"VA\",\"NC\",\"WI\",\"NJ\",\"TX\",\"TN\",\"NH\",\"MI\",\"MN\",\"AZ\",\"FL\",\"ND\"],\"showscale\":false,\"type\":\"choropleth\",\"z\":[110.07142857142857,494.27142857142854,293.48571428571427,1081.0714285714287,6685.671428571429,949.6571428571428,697.6,592.8,614.4428571428572,687.5285714285715,792.9428571428572,1543.1714285714286,670.3285714285714,369.2142857142857,6527.6,1392.9285714285713,30.17142857142857,566.8714285714286,519.4571428571429,2393.285714285714,6933.5,74.85714285714286]},{\"colorscale\":[[0.0,\"rgb(255,247,236)\"],[0.125,\"rgb(254,232,200)\"],[0.25,\"rgb(253,212,158)\"],[0.375,\"rgb(253,187,132)\"],[0.5,\"rgb(252,141,89)\"],[0.625,\"rgb(239,101,72)\"],[0.75,\"rgb(215,48,31)\"],[0.875,\"rgb(179,0,0)\"],[1.0,\"rgb(127,0,0)\"]],\"geo\":\"geo8\",\"locationmode\":\"USA-states\",\"locations\":[\"CT\",\"UT\",\"MA\",\"IL\",\"CA\",\"OH\",\"NY\",\"IN\",\"WA\",\"MO\",\"VA\",\"NC\",\"WI\",\"NJ\",\"TX\",\"TN\",\"NH\",\"MI\",\"MN\",\"AZ\",\"FL\",\"ND\"],\"showscale\":false,\"type\":\"choropleth\",\"z\":[956.1510791366907,1628.7985611510792,1877.7625899280577,5433.640287769784,12031.31654676259,4210.949640287769,3852.460431654676,3083.273381294964,1290.3597122302158,2509.5755395683454,1731.820143884892,2835.3525179856115,3226.223021582734,2056.4892086330933,8740.15107913669,3172.4460431654675,261.3021582733813,3067.8992805755397,2518.8992805755397,2336.2589928057555,5388.3884892086335,604.5539568345324]}],                        {\"annotations\":[{\"font\":{\"size\":16},\"showarrow\":false,\"text\":\"Engagement\",\"x\":0.22,\"xanchor\":\"center\",\"xref\":\"paper\",\"y\":1.0,\"yanchor\":\"bottom\",\"yref\":\"paper\"},{\"font\":{\"size\":16},\"showarrow\":false,\"text\":\"Cases\",\"x\":0.76,\"xanchor\":\"center\",\"xref\":\"paper\",\"y\":1.0,\"yanchor\":\"bottom\",\"yref\":\"paper\"},{\"font\":{\"size\":16},\"showarrow\":false,\"text\":\"Before COVID Hit\",\"textangle\":90,\"x\":0.98,\"xanchor\":\"left\",\"xref\":\"paper\",\"y\":0.903125,\"yanchor\":\"middle\",\"yref\":\"paper\"},{\"font\":{\"size\":16},\"showarrow\":false,\"text\":\"Spring 2020\",\"textangle\":90,\"x\":0.98,\"xanchor\":\"left\",\"xref\":\"paper\",\"y\":0.6343749999999999,\"yanchor\":\"middle\",\"yref\":\"paper\"},{\"font\":{\"size\":16},\"showarrow\":false,\"text\":\"Summer 2020\",\"textangle\":90,\"x\":0.98,\"xanchor\":\"left\",\"xref\":\"paper\",\"y\":0.365625,\"yanchor\":\"middle\",\"yref\":\"paper\"},{\"font\":{\"size\":16},\"showarrow\":false,\"text\":\"Fall 2020\",\"textangle\":90,\"x\":0.98,\"xanchor\":\"left\",\"xref\":\"paper\",\"y\":0.096875,\"yanchor\":\"middle\",\"yref\":\"paper\"}],\"geo\":{\"domain\":{\"x\":[0.0,0.44],\"y\":[0.80625,1.0]},\"scope\":\"usa\"},\"geo2\":{\"domain\":{\"x\":[0.54,0.98],\"y\":[0.80625,1.0]},\"scope\":\"usa\"},\"geo3\":{\"domain\":{\"x\":[0.0,0.44],\"y\":[0.5375,0.73125]},\"scope\":\"usa\"},\"geo4\":{\"domain\":{\"x\":[0.54,0.98],\"y\":[0.5375,0.73125]},\"scope\":\"usa\"},\"geo5\":{\"domain\":{\"x\":[0.0,0.44],\"y\":[0.26875,0.4625]},\"scope\":\"usa\"},\"geo6\":{\"domain\":{\"x\":[0.54,0.98],\"y\":[0.26875,0.4625]},\"scope\":\"usa\"},\"geo7\":{\"domain\":{\"x\":[0.0,0.44],\"y\":[0.0,0.19375]},\"scope\":\"usa\"},\"geo8\":{\"domain\":{\"x\":[0.54,0.98],\"y\":[0.0,0.19375]},\"scope\":\"usa\"},\"height\":1000,\"template\":{\"data\":{\"bar\":[{\"error_x\":{\"color\":\"#2a3f5f\"},\"error_y\":{\"color\":\"#2a3f5f\"},\"marker\":{\"line\":{\"color\":\"#E5ECF6\",\"width\":0.5},\"pattern\":{\"fillmode\":\"overlay\",\"size\":10,\"solidity\":0.2}},\"type\":\"bar\"}],\"barpolar\":[{\"marker\":{\"line\":{\"color\":\"#E5ECF6\",\"width\":0.5},\"pattern\":{\"fillmode\":\"overlay\",\"size\":10,\"solidity\":0.2}},\"type\":\"barpolar\"}],\"carpet\":[{\"aaxis\":{\"endlinecolor\":\"#2a3f5f\",\"gridcolor\":\"white\",\"linecolor\":\"white\",\"minorgridcolor\":\"white\",\"startlinecolor\":\"#2a3f5f\"},\"baxis\":{\"endlinecolor\":\"#2a3f5f\",\"gridcolor\":\"white\",\"linecolor\":\"white\",\"minorgridcolor\":\"white\",\"startlinecolor\":\"#2a3f5f\"},\"type\":\"carpet\"}],\"choropleth\":[{\"colorbar\":{\"outlinewidth\":0,\"ticks\":\"\"},\"type\":\"choropleth\"}],\"contour\":[{\"colorbar\":{\"outlinewidth\":0,\"ticks\":\"\"},\"colorscale\":[[0.0,\"#0d0887\"],[0.1111111111111111,\"#46039f\"],[0.2222222222222222,\"#7201a8\"],[0.3333333333333333,\"#9c179e\"],[0.4444444444444444,\"#bd3786\"],[0.5555555555555556,\"#d8576b\"],[0.6666666666666666,\"#ed7953\"],[0.7777777777777778,\"#fb9f3a\"],[0.8888888888888888,\"#fdca26\"],[1.0,\"#f0f921\"]],\"type\":\"contour\"}],\"contourcarpet\":[{\"colorbar\":{\"outlinewidth\":0,\"ticks\":\"\"},\"type\":\"contourcarpet\"}],\"heatmap\":[{\"colorbar\":{\"outlinewidth\":0,\"ticks\":\"\"},\"colorscale\":[[0.0,\"#0d0887\"],[0.1111111111111111,\"#46039f\"],[0.2222222222222222,\"#7201a8\"],[0.3333333333333333,\"#9c179e\"],[0.4444444444444444,\"#bd3786\"],[0.5555555555555556,\"#d8576b\"],[0.6666666666666666,\"#ed7953\"],[0.7777777777777778,\"#fb9f3a\"],[0.8888888888888888,\"#fdca26\"],[1.0,\"#f0f921\"]],\"type\":\"heatmap\"}],\"heatmapgl\":[{\"colorbar\":{\"outlinewidth\":0,\"ticks\":\"\"},\"colorscale\":[[0.0,\"#0d0887\"],[0.1111111111111111,\"#46039f\"],[0.2222222222222222,\"#7201a8\"],[0.3333333333333333,\"#9c179e\"],[0.4444444444444444,\"#bd3786\"],[0.5555555555555556,\"#d8576b\"],[0.6666666666666666,\"#ed7953\"],[0.7777777777777778,\"#fb9f3a\"],[0.8888888888888888,\"#fdca26\"],[1.0,\"#f0f921\"]],\"type\":\"heatmapgl\"}],\"histogram\":[{\"marker\":{\"pattern\":{\"fillmode\":\"overlay\",\"size\":10,\"solidity\":0.2}},\"type\":\"histogram\"}],\"histogram2d\":[{\"colorbar\":{\"outlinewidth\":0,\"ticks\":\"\"},\"colorscale\":[[0.0,\"#0d0887\"],[0.1111111111111111,\"#46039f\"],[0.2222222222222222,\"#7201a8\"],[0.3333333333333333,\"#9c179e\"],[0.4444444444444444,\"#bd3786\"],[0.5555555555555556,\"#d8576b\"],[0.6666666666666666,\"#ed7953\"],[0.7777777777777778,\"#fb9f3a\"],[0.8888888888888888,\"#fdca26\"],[1.0,\"#f0f921\"]],\"type\":\"histogram2d\"}],\"histogram2dcontour\":[{\"colorbar\":{\"outlinewidth\":0,\"ticks\":\"\"},\"colorscale\":[[0.0,\"#0d0887\"],[0.1111111111111111,\"#46039f\"],[0.2222222222222222,\"#7201a8\"],[0.3333333333333333,\"#9c179e\"],[0.4444444444444444,\"#bd3786\"],[0.5555555555555556,\"#d8576b\"],[0.6666666666666666,\"#ed7953\"],[0.7777777777777778,\"#fb9f3a\"],[0.8888888888888888,\"#fdca26\"],[1.0,\"#f0f921\"]],\"type\":\"histogram2dcontour\"}],\"mesh3d\":[{\"colorbar\":{\"outlinewidth\":0,\"ticks\":\"\"},\"type\":\"mesh3d\"}],\"parcoords\":[{\"line\":{\"colorbar\":{\"outlinewidth\":0,\"ticks\":\"\"}},\"type\":\"parcoords\"}],\"pie\":[{\"automargin\":true,\"type\":\"pie\"}],\"scatter\":[{\"marker\":{\"colorbar\":{\"outlinewidth\":0,\"ticks\":\"\"}},\"type\":\"scatter\"}],\"scatter3d\":[{\"line\":{\"colorbar\":{\"outlinewidth\":0,\"ticks\":\"\"}},\"marker\":{\"colorbar\":{\"outlinewidth\":0,\"ticks\":\"\"}},\"type\":\"scatter3d\"}],\"scattercarpet\":[{\"marker\":{\"colorbar\":{\"outlinewidth\":0,\"ticks\":\"\"}},\"type\":\"scattercarpet\"}],\"scattergeo\":[{\"marker\":{\"colorbar\":{\"outlinewidth\":0,\"ticks\":\"\"}},\"type\":\"scattergeo\"}],\"scattergl\":[{\"marker\":{\"colorbar\":{\"outlinewidth\":0,\"ticks\":\"\"}},\"type\":\"scattergl\"}],\"scattermapbox\":[{\"marker\":{\"colorbar\":{\"outlinewidth\":0,\"ticks\":\"\"}},\"type\":\"scattermapbox\"}],\"scatterpolar\":[{\"marker\":{\"colorbar\":{\"outlinewidth\":0,\"ticks\":\"\"}},\"type\":\"scatterpolar\"}],\"scatterpolargl\":[{\"marker\":{\"colorbar\":{\"outlinewidth\":0,\"ticks\":\"\"}},\"type\":\"scatterpolargl\"}],\"scatterternary\":[{\"marker\":{\"colorbar\":{\"outlinewidth\":0,\"ticks\":\"\"}},\"type\":\"scatterternary\"}],\"surface\":[{\"colorbar\":{\"outlinewidth\":0,\"ticks\":\"\"},\"colorscale\":[[0.0,\"#0d0887\"],[0.1111111111111111,\"#46039f\"],[0.2222222222222222,\"#7201a8\"],[0.3333333333333333,\"#9c179e\"],[0.4444444444444444,\"#bd3786\"],[0.5555555555555556,\"#d8576b\"],[0.6666666666666666,\"#ed7953\"],[0.7777777777777778,\"#fb9f3a\"],[0.8888888888888888,\"#fdca26\"],[1.0,\"#f0f921\"]],\"type\":\"surface\"}],\"table\":[{\"cells\":{\"fill\":{\"color\":\"#EBF0F8\"},\"line\":{\"color\":\"white\"}},\"header\":{\"fill\":{\"color\":\"#C8D4E3\"},\"line\":{\"color\":\"white\"}},\"type\":\"table\"}]},\"layout\":{\"annotationdefaults\":{\"arrowcolor\":\"#2a3f5f\",\"arrowhead\":0,\"arrowwidth\":1},\"autotypenumbers\":\"strict\",\"coloraxis\":{\"colorbar\":{\"outlinewidth\":0,\"ticks\":\"\"}},\"colorscale\":{\"diverging\":[[0,\"#8e0152\"],[0.1,\"#c51b7d\"],[0.2,\"#de77ae\"],[0.3,\"#f1b6da\"],[0.4,\"#fde0ef\"],[0.5,\"#f7f7f7\"],[0.6,\"#e6f5d0\"],[0.7,\"#b8e186\"],[0.8,\"#7fbc41\"],[0.9,\"#4d9221\"],[1,\"#276419\"]],\"sequential\":[[0.0,\"#0d0887\"],[0.1111111111111111,\"#46039f\"],[0.2222222222222222,\"#7201a8\"],[0.3333333333333333,\"#9c179e\"],[0.4444444444444444,\"#bd3786\"],[0.5555555555555556,\"#d8576b\"],[0.6666666666666666,\"#ed7953\"],[0.7777777777777778,\"#fb9f3a\"],[0.8888888888888888,\"#fdca26\"],[1.0,\"#f0f921\"]],\"sequentialminus\":[[0.0,\"#0d0887\"],[0.1111111111111111,\"#46039f\"],[0.2222222222222222,\"#7201a8\"],[0.3333333333333333,\"#9c179e\"],[0.4444444444444444,\"#bd3786\"],[0.5555555555555556,\"#d8576b\"],[0.6666666666666666,\"#ed7953\"],[0.7777777777777778,\"#fb9f3a\"],[0.8888888888888888,\"#fdca26\"],[1.0,\"#f0f921\"]]},\"colorway\":[\"#636efa\",\"#EF553B\",\"#00cc96\",\"#ab63fa\",\"#FFA15A\",\"#19d3f3\",\"#FF6692\",\"#B6E880\",\"#FF97FF\",\"#FECB52\"],\"font\":{\"color\":\"#2a3f5f\"},\"geo\":{\"bgcolor\":\"white\",\"lakecolor\":\"white\",\"landcolor\":\"#E5ECF6\",\"showlakes\":true,\"showland\":true,\"subunitcolor\":\"white\"},\"hoverlabel\":{\"align\":\"left\"},\"hovermode\":\"closest\",\"mapbox\":{\"style\":\"light\"},\"paper_bgcolor\":\"white\",\"plot_bgcolor\":\"#E5ECF6\",\"polar\":{\"angularaxis\":{\"gridcolor\":\"white\",\"linecolor\":\"white\",\"ticks\":\"\"},\"bgcolor\":\"#E5ECF6\",\"radialaxis\":{\"gridcolor\":\"white\",\"linecolor\":\"white\",\"ticks\":\"\"}},\"scene\":{\"xaxis\":{\"backgroundcolor\":\"#E5ECF6\",\"gridcolor\":\"white\",\"gridwidth\":2,\"linecolor\":\"white\",\"showbackground\":true,\"ticks\":\"\",\"zerolinecolor\":\"white\"},\"yaxis\":{\"backgroundcolor\":\"#E5ECF6\",\"gridcolor\":\"white\",\"gridwidth\":2,\"linecolor\":\"white\",\"showbackground\":true,\"ticks\":\"\",\"zerolinecolor\":\"white\"},\"zaxis\":{\"backgroundcolor\":\"#E5ECF6\",\"gridcolor\":\"white\",\"gridwidth\":2,\"linecolor\":\"white\",\"showbackground\":true,\"ticks\":\"\",\"zerolinecolor\":\"white\"}},\"shapedefaults\":{\"line\":{\"color\":\"#2a3f5f\"}},\"ternary\":{\"aaxis\":{\"gridcolor\":\"white\",\"linecolor\":\"white\",\"ticks\":\"\"},\"baxis\":{\"gridcolor\":\"white\",\"linecolor\":\"white\",\"ticks\":\"\"},\"bgcolor\":\"#E5ECF6\",\"caxis\":{\"gridcolor\":\"white\",\"linecolor\":\"white\",\"ticks\":\"\"}},\"title\":{\"x\":0.05},\"xaxis\":{\"automargin\":true,\"gridcolor\":\"white\",\"linecolor\":\"white\",\"ticks\":\"\",\"title\":{\"standoff\":15},\"zerolinecolor\":\"white\",\"zerolinewidth\":2},\"yaxis\":{\"automargin\":true,\"gridcolor\":\"white\",\"linecolor\":\"white\",\"ticks\":\"\",\"title\":{\"standoff\":15},\"zerolinecolor\":\"white\",\"zerolinewidth\":2}}},\"title\":{\"font\":{\"size\":30}},\"width\":1000},                        {\"responsive\": true}                    ).then(function(){\n",
       "                            \n",
       "var gd = document.getElementById('25db5631-987d-45aa-bdf3-fe6023700bd9');\n",
       "var x = new MutationObserver(function (mutations, observer) {{\n",
       "        var display = window.getComputedStyle(gd).display;\n",
       "        if (!display || display === 'none') {{\n",
       "            console.log([gd, 'removed!']);\n",
       "            Plotly.purge(gd);\n",
       "            observer.disconnect();\n",
       "        }}\n",
       "}});\n",
       "\n",
       "// Listen for the removal of the full notebook cells\n",
       "var notebookContainer = gd.closest('#notebook-container');\n",
       "if (notebookContainer) {{\n",
       "    x.observe(notebookContainer, {childList: true});\n",
       "}}\n",
       "\n",
       "// Listen for the clearing of the current output cell\n",
       "var outputEl = gd.closest('.output');\n",
       "if (outputEl) {{\n",
       "    x.observe(outputEl, {childList: true});\n",
       "}}\n",
       "\n",
       "                        })                };                });            </script>        </div>"
      ]
     },
     "metadata": {},
     "output_type": "display_data"
    }
   ],
   "source": [
    "plot_engage_cases_maps_over_time(state_map)"
   ]
  },
  {
   "cell_type": "markdown",
   "id": "c4a6f3f9",
   "metadata": {
    "papermill": {
     "duration": 0.028276,
     "end_time": "2021-09-26T18:27:38.019007",
     "exception": false,
     "start_time": "2021-09-26T18:27:37.990731",
     "status": "completed"
    },
    "tags": []
   },
   "source": [
    "<div class=\"h1\">Socioeconomic Analysis</div>\n",
    "\n",
    "<br>\n",
    "<div class=\"h3\">Charting Engagement Across Different Cultural and Economic Groups</div>\n",
    "<br>\n",
    "<p>\n",
    "The bar chart on the left shows the engagement compared in districts with different percents of black and hispanic populations, and the bar chart on the right shows engagement compared in districts with different percents of students on free and reduced lunch. In order to account for outliers, I am only looking at engagement levels from the most used products in a given district.\n",
    "<br>\n",
    "<br>\n",
    "Overall, there seems to be a general trend in which districts with greater percents of black and hispanic population and greater percents of free and reduced lunch students have lower engagement. There are some exceptions that could be accurate or due to a small sample size.\n",
    "</p>"
   ]
  },
  {
   "cell_type": "code",
   "execution_count": 15,
   "id": "4018fa32",
   "metadata": {
    "_kg_hide-input": true,
    "execution": {
     "iopub.execute_input": "2021-09-26T18:27:38.080538Z",
     "iopub.status.busy": "2021-09-26T18:27:38.079367Z",
     "iopub.status.idle": "2021-09-26T18:27:38.089767Z",
     "shell.execute_reply": "2021-09-26T18:27:38.090262Z"
    },
    "papermill": {
     "duration": 0.042744,
     "end_time": "2021-09-26T18:27:38.090447",
     "exception": false,
     "start_time": "2021-09-26T18:27:38.047703",
     "status": "completed"
    },
    "tags": []
   },
   "outputs": [],
   "source": [
    "def add_bar(fig: go.Figure, row: int, col: int, x: list, y: list, x_label: str):\n",
    "    chart = go.Bar(x=x, y=y, marker_color=px.colors.sequential.Teal[2])\n",
    "    fig.append_trace(chart, row=row, col=col)\n",
    "    \n",
    "\n",
    "def plot_socioeconomic_bar_charts(pct_black_hisp_map: dict, pct_free_lunch_map: dict):\n",
    "    x = ['0.0% - 20.0%', '20.0% - 40.0%', '40.0% - 60.0%', '60.0% - 80.0%', '80.0% - 100.0%']\n",
    "    y1, y2= list(), list()\n",
    "    for val in x:\n",
    "        y1.append(pct_black_hisp_map[val].engagement_index.mean())\n",
    "        y2.append(pct_free_lunch_map[val].engagement_index.mean())\n",
    "    \n",
    "    fig = make_subplots(rows=1, cols=2, specs=[[{'type':'bar'}, {'type':'bar'}]], \n",
    "                        column_titles=['% black & hispanic', '% free & reduced lunch'])\n",
    "    add_bar(fig, 1, 1, x, y1, '%')\n",
    "    add_bar(fig, 1, 2, x, y2, 'teal')\n",
    "    fig.update_layout(height=400, width=1000, yaxis_title='engagement')\n",
    "    fig.update_traces(showlegend=False)\n",
    "    \n",
    "    fig.show()"
   ]
  },
  {
   "cell_type": "code",
   "execution_count": 16,
   "id": "aad7dcff",
   "metadata": {
    "execution": {
     "iopub.execute_input": "2021-09-26T18:27:38.153032Z",
     "iopub.status.busy": "2021-09-26T18:27:38.152135Z",
     "iopub.status.idle": "2021-09-26T18:27:38.212758Z",
     "shell.execute_reply": "2021-09-26T18:27:38.212104Z"
    },
    "papermill": {
     "duration": 0.09263,
     "end_time": "2021-09-26T18:27:38.212897",
     "exception": false,
     "start_time": "2021-09-26T18:27:38.120267",
     "status": "completed"
    },
    "tags": []
   },
   "outputs": [
    {
     "data": {
      "text/html": [
       "<div>                            <div id=\"5ce4d381-2321-49a3-9b0b-47d5aeb9a250\" class=\"plotly-graph-div\" style=\"height:400px; width:1000px;\"></div>            <script type=\"text/javascript\">                require([\"plotly\"], function(Plotly) {                    window.PLOTLYENV=window.PLOTLYENV || {};                                    if (document.getElementById(\"5ce4d381-2321-49a3-9b0b-47d5aeb9a250\")) {                    Plotly.newPlot(                        \"5ce4d381-2321-49a3-9b0b-47d5aeb9a250\",                        [{\"marker\":{\"color\":\"rgb(133, 196, 201)\"},\"showlegend\":false,\"type\":\"bar\",\"x\":[\"0.0% - 20.0%\",\"20.0% - 40.0%\",\"40.0% - 60.0%\",\"60.0% - 80.0%\",\"80.0% - 100.0%\"],\"xaxis\":\"x\",\"y\":[12937.556697372635,10661.626848233633,8757.690487576067,10931.730717420103,10106.430724694252],\"yaxis\":\"y\"},{\"marker\":{\"color\":\"rgb(133, 196, 201)\"},\"showlegend\":false,\"type\":\"bar\",\"x\":[\"0.0% - 20.0%\",\"20.0% - 40.0%\",\"40.0% - 60.0%\",\"60.0% - 80.0%\",\"80.0% - 100.0%\"],\"xaxis\":\"x2\",\"y\":[15101.301432345515,10733.439042710648,10371.4440983682,7196.226489660161,11139.238128415294],\"yaxis\":\"y2\"}],                        {\"annotations\":[{\"font\":{\"size\":16},\"showarrow\":false,\"text\":\"% black & hispanic\",\"x\":0.225,\"xanchor\":\"center\",\"xref\":\"paper\",\"y\":1.0,\"yanchor\":\"bottom\",\"yref\":\"paper\"},{\"font\":{\"size\":16},\"showarrow\":false,\"text\":\"% free & reduced lunch\",\"x\":0.775,\"xanchor\":\"center\",\"xref\":\"paper\",\"y\":1.0,\"yanchor\":\"bottom\",\"yref\":\"paper\"}],\"height\":400,\"template\":{\"data\":{\"bar\":[{\"error_x\":{\"color\":\"#2a3f5f\"},\"error_y\":{\"color\":\"#2a3f5f\"},\"marker\":{\"line\":{\"color\":\"#E5ECF6\",\"width\":0.5},\"pattern\":{\"fillmode\":\"overlay\",\"size\":10,\"solidity\":0.2}},\"type\":\"bar\"}],\"barpolar\":[{\"marker\":{\"line\":{\"color\":\"#E5ECF6\",\"width\":0.5},\"pattern\":{\"fillmode\":\"overlay\",\"size\":10,\"solidity\":0.2}},\"type\":\"barpolar\"}],\"carpet\":[{\"aaxis\":{\"endlinecolor\":\"#2a3f5f\",\"gridcolor\":\"white\",\"linecolor\":\"white\",\"minorgridcolor\":\"white\",\"startlinecolor\":\"#2a3f5f\"},\"baxis\":{\"endlinecolor\":\"#2a3f5f\",\"gridcolor\":\"white\",\"linecolor\":\"white\",\"minorgridcolor\":\"white\",\"startlinecolor\":\"#2a3f5f\"},\"type\":\"carpet\"}],\"choropleth\":[{\"colorbar\":{\"outlinewidth\":0,\"ticks\":\"\"},\"type\":\"choropleth\"}],\"contour\":[{\"colorbar\":{\"outlinewidth\":0,\"ticks\":\"\"},\"colorscale\":[[0.0,\"#0d0887\"],[0.1111111111111111,\"#46039f\"],[0.2222222222222222,\"#7201a8\"],[0.3333333333333333,\"#9c179e\"],[0.4444444444444444,\"#bd3786\"],[0.5555555555555556,\"#d8576b\"],[0.6666666666666666,\"#ed7953\"],[0.7777777777777778,\"#fb9f3a\"],[0.8888888888888888,\"#fdca26\"],[1.0,\"#f0f921\"]],\"type\":\"contour\"}],\"contourcarpet\":[{\"colorbar\":{\"outlinewidth\":0,\"ticks\":\"\"},\"type\":\"contourcarpet\"}],\"heatmap\":[{\"colorbar\":{\"outlinewidth\":0,\"ticks\":\"\"},\"colorscale\":[[0.0,\"#0d0887\"],[0.1111111111111111,\"#46039f\"],[0.2222222222222222,\"#7201a8\"],[0.3333333333333333,\"#9c179e\"],[0.4444444444444444,\"#bd3786\"],[0.5555555555555556,\"#d8576b\"],[0.6666666666666666,\"#ed7953\"],[0.7777777777777778,\"#fb9f3a\"],[0.8888888888888888,\"#fdca26\"],[1.0,\"#f0f921\"]],\"type\":\"heatmap\"}],\"heatmapgl\":[{\"colorbar\":{\"outlinewidth\":0,\"ticks\":\"\"},\"colorscale\":[[0.0,\"#0d0887\"],[0.1111111111111111,\"#46039f\"],[0.2222222222222222,\"#7201a8\"],[0.3333333333333333,\"#9c179e\"],[0.4444444444444444,\"#bd3786\"],[0.5555555555555556,\"#d8576b\"],[0.6666666666666666,\"#ed7953\"],[0.7777777777777778,\"#fb9f3a\"],[0.8888888888888888,\"#fdca26\"],[1.0,\"#f0f921\"]],\"type\":\"heatmapgl\"}],\"histogram\":[{\"marker\":{\"pattern\":{\"fillmode\":\"overlay\",\"size\":10,\"solidity\":0.2}},\"type\":\"histogram\"}],\"histogram2d\":[{\"colorbar\":{\"outlinewidth\":0,\"ticks\":\"\"},\"colorscale\":[[0.0,\"#0d0887\"],[0.1111111111111111,\"#46039f\"],[0.2222222222222222,\"#7201a8\"],[0.3333333333333333,\"#9c179e\"],[0.4444444444444444,\"#bd3786\"],[0.5555555555555556,\"#d8576b\"],[0.6666666666666666,\"#ed7953\"],[0.7777777777777778,\"#fb9f3a\"],[0.8888888888888888,\"#fdca26\"],[1.0,\"#f0f921\"]],\"type\":\"histogram2d\"}],\"histogram2dcontour\":[{\"colorbar\":{\"outlinewidth\":0,\"ticks\":\"\"},\"colorscale\":[[0.0,\"#0d0887\"],[0.1111111111111111,\"#46039f\"],[0.2222222222222222,\"#7201a8\"],[0.3333333333333333,\"#9c179e\"],[0.4444444444444444,\"#bd3786\"],[0.5555555555555556,\"#d8576b\"],[0.6666666666666666,\"#ed7953\"],[0.7777777777777778,\"#fb9f3a\"],[0.8888888888888888,\"#fdca26\"],[1.0,\"#f0f921\"]],\"type\":\"histogram2dcontour\"}],\"mesh3d\":[{\"colorbar\":{\"outlinewidth\":0,\"ticks\":\"\"},\"type\":\"mesh3d\"}],\"parcoords\":[{\"line\":{\"colorbar\":{\"outlinewidth\":0,\"ticks\":\"\"}},\"type\":\"parcoords\"}],\"pie\":[{\"automargin\":true,\"type\":\"pie\"}],\"scatter\":[{\"marker\":{\"colorbar\":{\"outlinewidth\":0,\"ticks\":\"\"}},\"type\":\"scatter\"}],\"scatter3d\":[{\"line\":{\"colorbar\":{\"outlinewidth\":0,\"ticks\":\"\"}},\"marker\":{\"colorbar\":{\"outlinewidth\":0,\"ticks\":\"\"}},\"type\":\"scatter3d\"}],\"scattercarpet\":[{\"marker\":{\"colorbar\":{\"outlinewidth\":0,\"ticks\":\"\"}},\"type\":\"scattercarpet\"}],\"scattergeo\":[{\"marker\":{\"colorbar\":{\"outlinewidth\":0,\"ticks\":\"\"}},\"type\":\"scattergeo\"}],\"scattergl\":[{\"marker\":{\"colorbar\":{\"outlinewidth\":0,\"ticks\":\"\"}},\"type\":\"scattergl\"}],\"scattermapbox\":[{\"marker\":{\"colorbar\":{\"outlinewidth\":0,\"ticks\":\"\"}},\"type\":\"scattermapbox\"}],\"scatterpolar\":[{\"marker\":{\"colorbar\":{\"outlinewidth\":0,\"ticks\":\"\"}},\"type\":\"scatterpolar\"}],\"scatterpolargl\":[{\"marker\":{\"colorbar\":{\"outlinewidth\":0,\"ticks\":\"\"}},\"type\":\"scatterpolargl\"}],\"scatterternary\":[{\"marker\":{\"colorbar\":{\"outlinewidth\":0,\"ticks\":\"\"}},\"type\":\"scatterternary\"}],\"surface\":[{\"colorbar\":{\"outlinewidth\":0,\"ticks\":\"\"},\"colorscale\":[[0.0,\"#0d0887\"],[0.1111111111111111,\"#46039f\"],[0.2222222222222222,\"#7201a8\"],[0.3333333333333333,\"#9c179e\"],[0.4444444444444444,\"#bd3786\"],[0.5555555555555556,\"#d8576b\"],[0.6666666666666666,\"#ed7953\"],[0.7777777777777778,\"#fb9f3a\"],[0.8888888888888888,\"#fdca26\"],[1.0,\"#f0f921\"]],\"type\":\"surface\"}],\"table\":[{\"cells\":{\"fill\":{\"color\":\"#EBF0F8\"},\"line\":{\"color\":\"white\"}},\"header\":{\"fill\":{\"color\":\"#C8D4E3\"},\"line\":{\"color\":\"white\"}},\"type\":\"table\"}]},\"layout\":{\"annotationdefaults\":{\"arrowcolor\":\"#2a3f5f\",\"arrowhead\":0,\"arrowwidth\":1},\"autotypenumbers\":\"strict\",\"coloraxis\":{\"colorbar\":{\"outlinewidth\":0,\"ticks\":\"\"}},\"colorscale\":{\"diverging\":[[0,\"#8e0152\"],[0.1,\"#c51b7d\"],[0.2,\"#de77ae\"],[0.3,\"#f1b6da\"],[0.4,\"#fde0ef\"],[0.5,\"#f7f7f7\"],[0.6,\"#e6f5d0\"],[0.7,\"#b8e186\"],[0.8,\"#7fbc41\"],[0.9,\"#4d9221\"],[1,\"#276419\"]],\"sequential\":[[0.0,\"#0d0887\"],[0.1111111111111111,\"#46039f\"],[0.2222222222222222,\"#7201a8\"],[0.3333333333333333,\"#9c179e\"],[0.4444444444444444,\"#bd3786\"],[0.5555555555555556,\"#d8576b\"],[0.6666666666666666,\"#ed7953\"],[0.7777777777777778,\"#fb9f3a\"],[0.8888888888888888,\"#fdca26\"],[1.0,\"#f0f921\"]],\"sequentialminus\":[[0.0,\"#0d0887\"],[0.1111111111111111,\"#46039f\"],[0.2222222222222222,\"#7201a8\"],[0.3333333333333333,\"#9c179e\"],[0.4444444444444444,\"#bd3786\"],[0.5555555555555556,\"#d8576b\"],[0.6666666666666666,\"#ed7953\"],[0.7777777777777778,\"#fb9f3a\"],[0.8888888888888888,\"#fdca26\"],[1.0,\"#f0f921\"]]},\"colorway\":[\"#636efa\",\"#EF553B\",\"#00cc96\",\"#ab63fa\",\"#FFA15A\",\"#19d3f3\",\"#FF6692\",\"#B6E880\",\"#FF97FF\",\"#FECB52\"],\"font\":{\"color\":\"#2a3f5f\"},\"geo\":{\"bgcolor\":\"white\",\"lakecolor\":\"white\",\"landcolor\":\"#E5ECF6\",\"showlakes\":true,\"showland\":true,\"subunitcolor\":\"white\"},\"hoverlabel\":{\"align\":\"left\"},\"hovermode\":\"closest\",\"mapbox\":{\"style\":\"light\"},\"paper_bgcolor\":\"white\",\"plot_bgcolor\":\"#E5ECF6\",\"polar\":{\"angularaxis\":{\"gridcolor\":\"white\",\"linecolor\":\"white\",\"ticks\":\"\"},\"bgcolor\":\"#E5ECF6\",\"radialaxis\":{\"gridcolor\":\"white\",\"linecolor\":\"white\",\"ticks\":\"\"}},\"scene\":{\"xaxis\":{\"backgroundcolor\":\"#E5ECF6\",\"gridcolor\":\"white\",\"gridwidth\":2,\"linecolor\":\"white\",\"showbackground\":true,\"ticks\":\"\",\"zerolinecolor\":\"white\"},\"yaxis\":{\"backgroundcolor\":\"#E5ECF6\",\"gridcolor\":\"white\",\"gridwidth\":2,\"linecolor\":\"white\",\"showbackground\":true,\"ticks\":\"\",\"zerolinecolor\":\"white\"},\"zaxis\":{\"backgroundcolor\":\"#E5ECF6\",\"gridcolor\":\"white\",\"gridwidth\":2,\"linecolor\":\"white\",\"showbackground\":true,\"ticks\":\"\",\"zerolinecolor\":\"white\"}},\"shapedefaults\":{\"line\":{\"color\":\"#2a3f5f\"}},\"ternary\":{\"aaxis\":{\"gridcolor\":\"white\",\"linecolor\":\"white\",\"ticks\":\"\"},\"baxis\":{\"gridcolor\":\"white\",\"linecolor\":\"white\",\"ticks\":\"\"},\"bgcolor\":\"#E5ECF6\",\"caxis\":{\"gridcolor\":\"white\",\"linecolor\":\"white\",\"ticks\":\"\"}},\"title\":{\"x\":0.05},\"xaxis\":{\"automargin\":true,\"gridcolor\":\"white\",\"linecolor\":\"white\",\"ticks\":\"\",\"title\":{\"standoff\":15},\"zerolinecolor\":\"white\",\"zerolinewidth\":2},\"yaxis\":{\"automargin\":true,\"gridcolor\":\"white\",\"linecolor\":\"white\",\"ticks\":\"\",\"title\":{\"standoff\":15},\"zerolinecolor\":\"white\",\"zerolinewidth\":2}}},\"width\":1000,\"xaxis\":{\"anchor\":\"y\",\"domain\":[0.0,0.45]},\"xaxis2\":{\"anchor\":\"y2\",\"domain\":[0.55,1.0]},\"yaxis\":{\"anchor\":\"x\",\"domain\":[0.0,1.0],\"title\":{\"text\":\"engagement\"}},\"yaxis2\":{\"anchor\":\"x2\",\"domain\":[0.0,1.0]}},                        {\"responsive\": true}                    ).then(function(){\n",
       "                            \n",
       "var gd = document.getElementById('5ce4d381-2321-49a3-9b0b-47d5aeb9a250');\n",
       "var x = new MutationObserver(function (mutations, observer) {{\n",
       "        var display = window.getComputedStyle(gd).display;\n",
       "        if (!display || display === 'none') {{\n",
       "            console.log([gd, 'removed!']);\n",
       "            Plotly.purge(gd);\n",
       "            observer.disconnect();\n",
       "        }}\n",
       "}});\n",
       "\n",
       "// Listen for the removal of the full notebook cells\n",
       "var notebookContainer = gd.closest('#notebook-container');\n",
       "if (notebookContainer) {{\n",
       "    x.observe(notebookContainer, {childList: true});\n",
       "}}\n",
       "\n",
       "// Listen for the clearing of the current output cell\n",
       "var outputEl = gd.closest('.output');\n",
       "if (outputEl) {{\n",
       "    x.observe(outputEl, {childList: true});\n",
       "}}\n",
       "\n",
       "                        })                };                });            </script>        </div>"
      ]
     },
     "metadata": {},
     "output_type": "display_data"
    }
   ],
   "source": [
    "plot_socioeconomic_bar_charts(pct_black_hisp_map, pct_free_lunch_map)"
   ]
  },
  {
   "cell_type": "markdown",
   "id": "2992f916",
   "metadata": {
    "papermill": {
     "duration": 0.029408,
     "end_time": "2021-09-26T18:27:38.272369",
     "exception": false,
     "start_time": "2021-09-26T18:27:38.242961",
     "status": "completed"
    },
    "tags": []
   },
   "source": [
    "<div class=\"h3\">Analyzing Successful Educational Products For All Students</div>\n",
    "<br>\n",
    "<p>\n",
    "The first barpolar chart show the most used products across the whole U.S. and the second chart shows the most used products in districts with 80 to 100 percent of its students on free and reduced lunch.\n",
    "<br>\n",
    "The charts show the 7 most used tools. The longer the bar is, the more engagement there is. When you hover over the bar, the r value shows the avg number of engagement that product got.\n",
    "<br>\n",
    "<br>\n",
    "By far, the most used product in both these charts was Google Docs followed by Google Classroom. This is likely because products such as Google Docs are free and easy to use. Other products such as Canvas were commonly used likely because they could act as a hub for teachers to put assignments on. However, Canvas was not as commonly used in lower income areas likely because it costed more money. In area with more students on free and reduced lunch, more free products such as Kahoot were used.\n",
    "</p>"
   ]
  },
  {
   "cell_type": "code",
   "execution_count": 17,
   "id": "ca8c5132",
   "metadata": {
    "_kg_hide-input": true,
    "execution": {
     "iopub.execute_input": "2021-09-26T18:27:38.345979Z",
     "iopub.status.busy": "2021-09-26T18:27:38.344870Z",
     "iopub.status.idle": "2021-09-26T18:27:38.359707Z",
     "shell.execute_reply": "2021-09-26T18:27:38.357184Z"
    },
    "papermill": {
     "duration": 0.058633,
     "end_time": "2021-09-26T18:27:38.360527",
     "exception": false,
     "start_time": "2021-09-26T18:27:38.301894",
     "status": "completed"
    },
    "tags": []
   },
   "outputs": [],
   "source": [
    "def plot_product_barpolar(df: pd.DataFrame, products_df: pd.DataFrame, title:str):\n",
    "    prod_data = df.nlargest(7, 'engagement_index')\n",
    "    plots = list()\n",
    "    for i in range(7):\n",
    "        try:\n",
    "            label = str(products_df[products_df['LP ID'] == int(prod_data.index[i])][\"Product Name\"].values[0])\n",
    "        except Exception:\n",
    "            label = \"name not known\"\n",
    "        color = px.colors.sequential.Teal[6-i]\n",
    "        plots.append(go.Barpolar(\n",
    "            r=[prod_data.iloc[i][1]],\n",
    "            theta=[(i+1)*50],\n",
    "            width=[28],\n",
    "            marker_color=color,\n",
    "            marker_line_color=\"#0541a1\",\n",
    "            marker_line_width=2,\n",
    "            name=label,\n",
    "            opacity=0.8))\n",
    "    fig = go.Figure(plots)\n",
    "\n",
    "    fig.update_layout(\n",
    "        template=None,\n",
    "        polar = dict(\n",
    "            radialaxis = dict(showticklabels=False, ticks=''),\n",
    "            angularaxis = dict(showticklabels=False, ticks='')\n",
    "        ),\n",
    "        showlegend=True,\n",
    "        title=title, title_x=.45\n",
    "    )\n",
    "\n",
    "    fig.show()"
   ]
  },
  {
   "cell_type": "code",
   "execution_count": 18,
   "id": "10282c83",
   "metadata": {
    "execution": {
     "iopub.execute_input": "2021-09-26T18:27:38.437067Z",
     "iopub.status.busy": "2021-09-26T18:27:38.436138Z",
     "iopub.status.idle": "2021-09-26T18:27:38.554497Z",
     "shell.execute_reply": "2021-09-26T18:27:38.555599Z"
    },
    "papermill": {
     "duration": 0.157033,
     "end_time": "2021-09-26T18:27:38.555829",
     "exception": false,
     "start_time": "2021-09-26T18:27:38.398796",
     "status": "completed"
    },
    "tags": []
   },
   "outputs": [
    {
     "data": {
      "text/html": [
       "<div>                            <div id=\"10cbba1b-a412-4179-a5be-78fd1cc6052c\" class=\"plotly-graph-div\" style=\"height:525px; width:100%;\"></div>            <script type=\"text/javascript\">                require([\"plotly\"], function(Plotly) {                    window.PLOTLYENV=window.PLOTLYENV || {};                                    if (document.getElementById(\"10cbba1b-a412-4179-a5be-78fd1cc6052c\")) {                    Plotly.newPlot(                        \"10cbba1b-a412-4179-a5be-78fd1cc6052c\",                        [{\"marker\":{\"color\":\"rgb(42, 86, 116)\",\"line\":{\"color\":\"#0541a1\",\"width\":2}},\"name\":\"Google Docs\",\"opacity\":0.8,\"r\":[10289.882474940525],\"theta\":[50],\"type\":\"barpolar\",\"width\":[28]},{\"marker\":{\"color\":\"rgb(59, 115, 143)\",\"line\":{\"color\":\"#0541a1\",\"width\":2}},\"name\":\"Google Classroom\",\"opacity\":0.8,\"r\":[5366.4513421324755],\"theta\":[100],\"type\":\"barpolar\",\"width\":[28]},{\"marker\":{\"color\":\"rgb(79, 144, 166)\",\"line\":{\"color\":\"#0541a1\",\"width\":2}},\"name\":\"name not known\",\"opacity\":0.8,\"r\":[4275.5374149802665],\"theta\":[150],\"type\":\"barpolar\",\"width\":[28]},{\"marker\":{\"color\":\"rgb(104, 171, 184)\",\"line\":{\"color\":\"#0541a1\",\"width\":2}},\"name\":\"name not known\",\"opacity\":0.8,\"r\":[3782.661253333333],\"theta\":[200],\"type\":\"barpolar\",\"width\":[28]},{\"marker\":{\"color\":\"rgb(133, 196, 201)\",\"line\":{\"color\":\"#0541a1\",\"width\":2}},\"name\":\"YouTube\",\"opacity\":0.8,\"r\":[3331.426260632283],\"theta\":[250],\"type\":\"barpolar\",\"width\":[28]},{\"marker\":{\"color\":\"rgb(168, 219, 217)\",\"line\":{\"color\":\"#0541a1\",\"width\":2}},\"name\":\"Canvas\",\"opacity\":0.8,\"r\":[2969.429030093841],\"theta\":[300],\"type\":\"barpolar\",\"width\":[28]},{\"marker\":{\"color\":\"rgb(209, 238, 234)\",\"line\":{\"color\":\"#0541a1\",\"width\":2}},\"name\":\"Schoology\",\"opacity\":0.8,\"r\":[2336.7623987355337],\"theta\":[350],\"type\":\"barpolar\",\"width\":[28]}],                        {\"polar\":{\"angularaxis\":{\"showticklabels\":false,\"ticks\":\"\"},\"radialaxis\":{\"showticklabels\":false,\"ticks\":\"\"}},\"showlegend\":true,\"template\":{},\"title\":{\"text\":\"Most Used Digital Products - US\",\"x\":0.45}},                        {\"responsive\": true}                    ).then(function(){\n",
       "                            \n",
       "var gd = document.getElementById('10cbba1b-a412-4179-a5be-78fd1cc6052c');\n",
       "var x = new MutationObserver(function (mutations, observer) {{\n",
       "        var display = window.getComputedStyle(gd).display;\n",
       "        if (!display || display === 'none') {{\n",
       "            console.log([gd, 'removed!']);\n",
       "            Plotly.purge(gd);\n",
       "            observer.disconnect();\n",
       "        }}\n",
       "}});\n",
       "\n",
       "// Listen for the removal of the full notebook cells\n",
       "var notebookContainer = gd.closest('#notebook-container');\n",
       "if (notebookContainer) {{\n",
       "    x.observe(notebookContainer, {childList: true});\n",
       "}}\n",
       "\n",
       "// Listen for the clearing of the current output cell\n",
       "var outputEl = gd.closest('.output');\n",
       "if (outputEl) {{\n",
       "    x.observe(outputEl, {childList: true});\n",
       "}}\n",
       "\n",
       "                        })                };                });            </script>        </div>"
      ]
     },
     "metadata": {},
     "output_type": "display_data"
    }
   ],
   "source": [
    "plot_product_barpolar(product_df_us, products_df, 'Most Used Digital Products - US')"
   ]
  },
  {
   "cell_type": "code",
   "execution_count": 19,
   "id": "cf78ad3e",
   "metadata": {
    "execution": {
     "iopub.execute_input": "2021-09-26T18:27:38.675792Z",
     "iopub.status.busy": "2021-09-26T18:27:38.675138Z",
     "iopub.status.idle": "2021-09-26T18:27:38.716804Z",
     "shell.execute_reply": "2021-09-26T18:27:38.715646Z"
    },
    "papermill": {
     "duration": 0.085678,
     "end_time": "2021-09-26T18:27:38.716997",
     "exception": false,
     "start_time": "2021-09-26T18:27:38.631319",
     "status": "completed"
    },
    "tags": []
   },
   "outputs": [
    {
     "data": {
      "text/html": [
       "<div>                            <div id=\"67f18290-70ac-4f28-9864-1e6666250fe6\" class=\"plotly-graph-div\" style=\"height:525px; width:100%;\"></div>            <script type=\"text/javascript\">                require([\"plotly\"], function(Plotly) {                    window.PLOTLYENV=window.PLOTLYENV || {};                                    if (document.getElementById(\"67f18290-70ac-4f28-9864-1e6666250fe6\")) {                    Plotly.newPlot(                        \"67f18290-70ac-4f28-9864-1e6666250fe6\",                        [{\"marker\":{\"color\":\"rgb(42, 86, 116)\",\"line\":{\"color\":\"#0541a1\",\"width\":2}},\"name\":\"Google Docs\",\"opacity\":0.8,\"r\":[9053.434059288866],\"theta\":[50],\"type\":\"barpolar\",\"width\":[28]},{\"marker\":{\"color\":\"rgb(59, 115, 143)\",\"line\":{\"color\":\"#0541a1\",\"width\":2}},\"name\":\"Google Classroom\",\"opacity\":0.8,\"r\":[7432.041677603951],\"theta\":[100],\"type\":\"barpolar\",\"width\":[28]},{\"marker\":{\"color\":\"rgb(79, 144, 166)\",\"line\":{\"color\":\"#0541a1\",\"width\":2}},\"name\":\"Meet\",\"opacity\":0.8,\"r\":[5076.664442461498],\"theta\":[150],\"type\":\"barpolar\",\"width\":[28]},{\"marker\":{\"color\":\"rgb(104, 171, 184)\",\"line\":{\"color\":\"#0541a1\",\"width\":2}},\"name\":\"name not known\",\"opacity\":0.8,\"r\":[4270.273009560384],\"theta\":[200],\"type\":\"barpolar\",\"width\":[28]},{\"marker\":{\"color\":\"rgb(133, 196, 201)\",\"line\":{\"color\":\"#0541a1\",\"width\":2}},\"name\":\"YouTube\",\"opacity\":0.8,\"r\":[3527.0598807838333],\"theta\":[250],\"type\":\"barpolar\",\"width\":[28]},{\"marker\":{\"color\":\"rgb(168, 219, 217)\",\"line\":{\"color\":\"#0541a1\",\"width\":2}},\"name\":\"Kahoot!\",\"opacity\":0.8,\"r\":[2849.8394269198793],\"theta\":[300],\"type\":\"barpolar\",\"width\":[28]},{\"marker\":{\"color\":\"rgb(209, 238, 234)\",\"line\":{\"color\":\"#0541a1\",\"width\":2}},\"name\":\"Schoology\",\"opacity\":0.8,\"r\":[1993.2405475739804],\"theta\":[350],\"type\":\"barpolar\",\"width\":[28]}],                        {\"polar\":{\"angularaxis\":{\"showticklabels\":false,\"ticks\":\"\"},\"radialaxis\":{\"showticklabels\":false,\"ticks\":\"\"}},\"showlegend\":true,\"template\":{},\"title\":{\"text\":\"Most Used Digital Products - 80-100% Free & Reduced Lunch\",\"x\":0.45}},                        {\"responsive\": true}                    ).then(function(){\n",
       "                            \n",
       "var gd = document.getElementById('67f18290-70ac-4f28-9864-1e6666250fe6');\n",
       "var x = new MutationObserver(function (mutations, observer) {{\n",
       "        var display = window.getComputedStyle(gd).display;\n",
       "        if (!display || display === 'none') {{\n",
       "            console.log([gd, 'removed!']);\n",
       "            Plotly.purge(gd);\n",
       "            observer.disconnect();\n",
       "        }}\n",
       "}});\n",
       "\n",
       "// Listen for the removal of the full notebook cells\n",
       "var notebookContainer = gd.closest('#notebook-container');\n",
       "if (notebookContainer) {{\n",
       "    x.observe(notebookContainer, {childList: true});\n",
       "}}\n",
       "\n",
       "// Listen for the clearing of the current output cell\n",
       "var outputEl = gd.closest('.output');\n",
       "if (outputEl) {{\n",
       "    x.observe(outputEl, {childList: true});\n",
       "}}\n",
       "\n",
       "                        })                };                });            </script>        </div>"
      ]
     },
     "metadata": {},
     "output_type": "display_data"
    }
   ],
   "source": [
    "plot_product_barpolar(prod_lunch_dfs['80.0% - 100.0%'], products_df, 'Most Used Digital Products - 80-100% Free & Reduced Lunch')"
   ]
  },
  {
   "cell_type": "markdown",
   "id": "0f024c4c",
   "metadata": {
    "papermill": {
     "duration": 0.037174,
     "end_time": "2021-09-26T18:27:38.792165",
     "exception": false,
     "start_time": "2021-09-26T18:27:38.754991",
     "status": "completed"
    },
    "tags": []
   },
   "source": [
    "<div class=\"h1\">Conclusion</div>\n",
    "<br>\n",
    "<div class=\"h3\">Time Series Findings</div>\n",
    "<br>\n",
    "Digital student engagement changed during different times of year. After COVID-19 hit, there was a general increase in online engagement. Summer had the lowest engagement since school was out of seesion, and fall had higher engagement scores than the spring likely because the school systems had figured out how to more effective utilize digital platforms.\n",
    "<br>\n",
    "While time of year impacted engagement, actual quantity of COVID-19 Cases did not seem to impact engagement.\n",
    "<br>\n",
    "<br>\n",
    "<div class=\"h3\">Geospatial Findings</div>\n",
    "<br>\n",
    "Overall, there did not seem to be much correlation between location and engagement. \n",
    "<br>\n",
    "Furthermore, locations with more/less COVID-19 cases did not necessarily have more/less engagement.\n",
    "<br>\n",
    "<br>\n",
    "<div class=\"h3\">Socioeconomic Findings</div>\n",
    "<br>\n",
    "Socioeconomic factors did generally seem to have an impact on digital student engagement. Typically, districts with greater percents of black and hispanic population and greater percents of free and reduced lunch students have lower engagement.\n",
    "<br>\n",
    "Successful products for all students include several Google products (e.g. Google Docs and Google Classroom) because they are free or inexpensive. Other successful tools seemed to be YouTube, Meet, Canvas, Kahoot, and Schoology.\n",
    "<br>"
   ]
  },
  {
   "cell_type": "code",
   "execution_count": 20,
   "id": "c9116384",
   "metadata": {
    "execution": {
     "iopub.execute_input": "2021-09-26T18:27:38.869884Z",
     "iopub.status.busy": "2021-09-26T18:27:38.869174Z",
     "iopub.status.idle": "2021-09-26T18:27:38.872632Z",
     "shell.execute_reply": "2021-09-26T18:27:38.873220Z",
     "shell.execute_reply.started": "2021-09-26T01:53:45.697016Z"
    },
    "papermill": {
     "duration": 0.044877,
     "end_time": "2021-09-26T18:27:38.873417",
     "exception": false,
     "start_time": "2021-09-26T18:27:38.828540",
     "status": "completed"
    },
    "tags": []
   },
   "outputs": [
    {
     "data": {
      "text/html": [
       "<style type=\"text/css\">\n",
       "div.h1 {\n",
       "    font-size: 32px; \n",
       "    margin-bottom:2px;\n",
       "}\n",
       "\n",
       "div.h3 {\n",
       "    color: #5ab8c7; \n",
       "    font-size: 20px; \n",
       "    margin-top: 4px; \n",
       "    margin-bottom:8px;\n",
       "}\n",
       "\n",
       "</style\n"
      ],
      "text/plain": [
       "<IPython.core.display.HTML object>"
      ]
     },
     "metadata": {},
     "output_type": "display_data"
    }
   ],
   "source": [
    "%%HTML\n",
    "<style type=\"text/css\">\n",
    "div.h1 {\n",
    "    font-size: 32px; \n",
    "    margin-bottom:2px;\n",
    "}\n",
    "\n",
    "div.h3 {\n",
    "    color: #5ab8c7; \n",
    "    font-size: 20px; \n",
    "    margin-top: 4px; \n",
    "    margin-bottom:8px;\n",
    "}\n",
    "\n",
    "</style"
   ]
  }
 ],
 "metadata": {
  "kernelspec": {
   "display_name": "Python 3",
   "language": "python",
   "name": "python3"
  },
  "language_info": {
   "codemirror_mode": {
    "name": "ipython",
    "version": 3
   },
   "file_extension": ".py",
   "mimetype": "text/x-python",
   "name": "python",
   "nbconvert_exporter": "python",
   "pygments_lexer": "ipython3",
   "version": "3.7.10"
  },
  "papermill": {
   "default_parameters": {},
   "duration": 319.933387,
   "end_time": "2021-09-26T18:27:41.212633",
   "environment_variables": {},
   "exception": null,
   "input_path": "__notebook__.ipynb",
   "output_path": "__notebook__.ipynb",
   "parameters": {},
   "start_time": "2021-09-26T18:22:21.279246",
   "version": "2.3.3"
  }
 },
 "nbformat": 4,
 "nbformat_minor": 5
}
